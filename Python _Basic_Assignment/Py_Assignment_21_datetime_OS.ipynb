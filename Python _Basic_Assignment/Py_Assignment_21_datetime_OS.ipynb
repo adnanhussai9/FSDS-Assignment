{
  "nbformat": 4,
  "nbformat_minor": 0,
  "metadata": {
    "colab": {
      "provenance": [],
      "authorship_tag": "ABX9TyPUbzWAa+UWy8etUEbbjHH6",
      "include_colab_link": true
    },
    "kernelspec": {
      "name": "python3",
      "display_name": "Python 3"
    },
    "language_info": {
      "name": "python"
    },
    "gpuClass": "standard"
  },
  "cells": [
    {
      "cell_type": "markdown",
      "metadata": {
        "id": "view-in-github",
        "colab_type": "text"
      },
      "source": [
        "<a href=\"https://colab.research.google.com/github/adnanhussai9/FSDS-Assignment/blob/main/Python%20_Basic_Assignment/Py_Assignment_21_datetime_OS.ipynb\" target=\"_parent\"><img src=\"https://colab.research.google.com/assets/colab-badge.svg\" alt=\"Open In Colab\"/></a>"
      ]
    },
    {
      "cell_type": "markdown",
      "source": [
        "# Assignment 21 Solution"
      ],
      "metadata": {
        "id": "Tu4UQZOkz9zE"
      }
    },
    {
      "cell_type": "markdown",
      "source": [
        "**1. Add the current date to the text file today.txt as a string.**"
      ],
      "metadata": {
        "id": "T9S_gnPXjGYP"
      }
    },
    {
      "cell_type": "code",
      "source": [
        "import datetime as dt\n",
        "time = dt.date.today()\n",
        "time = dt.date.isoformat(time)\n",
        "print(time,type(time))\n",
        "\n",
        "with open('today.txt','w') as file:\n",
        "  file.write(time)\n",
        "  file.close()"
      ],
      "metadata": {
        "colab": {
          "base_uri": "https://localhost:8080/"
        },
        "id": "6_7MQgy6jFgX",
        "outputId": "4388fb7c-ebfe-4844-c3b4-6a55acd30b11"
      },
      "execution_count": 8,
      "outputs": [
        {
          "output_type": "stream",
          "name": "stdout",
          "text": [
            "2023-05-08 <class 'str'>\n"
          ]
        }
      ]
    },
    {
      "cell_type": "markdown",
      "source": [
        "**2. Read the text file today.txt into the string today_string**"
      ],
      "metadata": {
        "id": "WNSRltH9kKu_"
      }
    },
    {
      "cell_type": "code",
      "execution_count": 9,
      "metadata": {
        "colab": {
          "base_uri": "https://localhost:8080/"
        },
        "id": "QNX8IcKTheq5",
        "outputId": "3b8d858e-3d78-4c42-8c69-e9c57ccbd9a0"
      },
      "outputs": [
        {
          "output_type": "stream",
          "name": "stdout",
          "text": [
            "2023-05-08\n"
          ]
        }
      ],
      "source": [
        "with open('today.txt','r') as  file:\n",
        "  today_string = file.read()\n",
        "  print(today_string)"
      ]
    },
    {
      "cell_type": "markdown",
      "source": [
        "**3. Parse the date from today_string.**"
      ],
      "metadata": {
        "id": "fOhalHw4knik"
      }
    },
    {
      "cell_type": "code",
      "source": [
        "time_now = dt.datetime.strptime(today_string, '%Y-%m-%d')\n",
        "time_now.date()"
      ],
      "metadata": {
        "colab": {
          "base_uri": "https://localhost:8080/"
        },
        "id": "3gSh-tudkq4w",
        "outputId": "c20b87cc-62b2-4f53-c727-053a37534f9a"
      },
      "execution_count": 15,
      "outputs": [
        {
          "output_type": "execute_result",
          "data": {
            "text/plain": [
              "datetime.date(2023, 5, 8)"
            ]
          },
          "metadata": {},
          "execution_count": 15
        }
      ]
    },
    {
      "cell_type": "markdown",
      "source": [
        "**4. List the files in your current directory**"
      ],
      "metadata": {
        "id": "61fRSQXIn6aK"
      }
    },
    {
      "cell_type": "code",
      "source": [
        "import os\n",
        "files_list = os.listdir('./')\n",
        "print(files_list)"
      ],
      "metadata": {
        "colab": {
          "base_uri": "https://localhost:8080/"
        },
        "id": "wJRo1wJHn8Gb",
        "outputId": "1dcbec1e-03bf-4399-d6ff-fe83555f85b8"
      },
      "execution_count": 17,
      "outputs": [
        {
          "output_type": "stream",
          "name": "stdout",
          "text": [
            "['.config', 'today.txt', 'sample_data']\n"
          ]
        }
      ]
    },
    {
      "cell_type": "markdown",
      "source": [
        "**5. Create a list of all of the files in your parent directory (minimum five files should be available).**"
      ],
      "metadata": {
        "id": "H4sXPCKXo9DE"
      }
    },
    {
      "cell_type": "code",
      "source": [
        "import os\n",
        "\n",
        "# get current directory\n",
        "path = os.getcwd()\n",
        "print(path)\n",
        "\n",
        "# parent directory\n",
        "parent = os.path.dirname(path)\n",
        "print(parent)\n",
        "\n",
        "# list of file in parent directory\n",
        "parent_dir = os.listdir(parent)\n",
        "print(parent_dir)"
      ],
      "metadata": {
        "colab": {
          "base_uri": "https://localhost:8080/"
        },
        "id": "aJPbHvBMpB5-",
        "outputId": "27a20a06-b09b-4530-e902-aedc63a7ca14"
      },
      "execution_count": 23,
      "outputs": [
        {
          "output_type": "stream",
          "name": "stdout",
          "text": [
            "/content\n",
            "/\n",
            "['lib', 'lib32', 'sbin', 'tmp', 'run', 'usr', 'dev', 'root', 'lib64', 'etc', 'srv', 'boot', 'opt', 'bin', 'var', 'proc', 'home', 'mnt', 'media', 'libx32', 'sys', 'content', '.dockerenv', 'tools', 'datalab', 'python-apt', 'NGC-DL-CONTAINER-LICENSE']\n"
          ]
        }
      ]
    },
    {
      "cell_type": "markdown",
      "source": [
        "**6. Use multiprocessing to create three separate processes. Make each one wait a random number of seconds between one and five, print the current time, and then exit.**"
      ],
      "metadata": {
        "id": "NfcFjKx0pBSW"
      }
    },
    {
      "cell_type": "code",
      "source": [
        "import multiprocessing\n",
        "import time \n",
        "import random\n",
        "import datetime\n",
        "\n",
        "def procOne():\n",
        "    print(f'Proc_one_Starttime -> {datetime.datetime.now()}')\n",
        "    time.sleep(random.randint(1,5))\n",
        "    print(f'Proc_one_Endtime -> {datetime.datetime.now()}')\n",
        "    \n",
        "def procTwo():\n",
        "    print(f'Proc_two_Starttime -> {datetime.datetime.now()}')\n",
        "    time.sleep(random.randint(1,5))\n",
        "    print(f'Proc_two_Endtime -> {datetime.datetime.now()}')\n",
        "\n",
        "def procThree():\n",
        "    print(f'Proc_two_Starttime -> {datetime.datetime.now()}')\n",
        "    time.sleep(random.randint(1,5))\n",
        "    print(f'Proc_two_Endtime -> {datetime.datetime.now()}')\n",
        "    \n",
        "if __name__ == \"__main__\":    \n",
        "    p1 = multiprocessing.Process(target=procOne)\n",
        "    p2 = multiprocessing.Process(target=procTwo)\n",
        "    p3 = multiprocessing.Process(target=procThree)\n",
        "\n",
        "    p1.start()\n",
        "    p2.start()\n",
        "    p3.start()\n",
        "\n",
        "    p1.join()\n",
        "    p2.join()\n",
        "    p3.join()"
      ],
      "metadata": {
        "colab": {
          "base_uri": "https://localhost:8080/"
        },
        "id": "jPG59x4ormqM",
        "outputId": "9e902bdd-d50f-4bdf-ca10-9a835bd2a273"
      },
      "execution_count": 39,
      "outputs": [
        {
          "output_type": "stream",
          "name": "stdout",
          "text": [
            "Proc_one_Starttime -> 2023-05-08 05:16:25.391061Proc_two_Starttime -> 2023-05-08 05:16:25.403743\n",
            "Proc_two_Starttime -> 2023-05-08 05:16:25.419047\n",
            "\n",
            "Proc_two_Endtime -> 2023-05-08 05:16:27.433401\n",
            "Proc_two_Endtime -> 2023-05-08 05:16:29.435622\n",
            "Proc_one_Endtime -> 2023-05-08 05:16:30.419895\n"
          ]
        }
      ]
    },
    {
      "cell_type": "markdown",
      "source": [
        "**7. Create a date object of your day of birth.**"
      ],
      "metadata": {
        "id": "_85AfVMEr-EM"
      }
    },
    {
      "cell_type": "code",
      "source": [
        "dob = dt.datetime(2001,8,17)\n",
        "dob"
      ],
      "metadata": {
        "colab": {
          "base_uri": "https://localhost:8080/"
        },
        "id": "C-JCdU9qsFDE",
        "outputId": "1fb74d60-51b3-4cec-d7e8-23f667e81ce6"
      },
      "execution_count": 34,
      "outputs": [
        {
          "output_type": "execute_result",
          "data": {
            "text/plain": [
              "datetime.datetime(2001, 8, 17, 0, 0)"
            ]
          },
          "metadata": {},
          "execution_count": 34
        }
      ]
    },
    {
      "cell_type": "markdown",
      "source": [
        "**8. What day of the week was your day of birth?**"
      ],
      "metadata": {
        "id": "GmLt_d7RsBLe"
      }
    },
    {
      "cell_type": "code",
      "source": [
        "lst = [\"Monday\", \"Tuesday\", \"Wednesday\", \"Thursday\", \"Friday\", \"Saturday\", \"Sunday\"]\n",
        "d = dt.datetime.weekday(dob)\n",
        "print(lst[d])\n",
        "dob.strftime(\"%A\")"
      ],
      "metadata": {
        "colab": {
          "base_uri": "https://localhost:8080/",
          "height": 52
        },
        "id": "PoNeJha5uWY3",
        "outputId": "af60710a-338a-4242-99b2-8afd99efae03"
      },
      "execution_count": 41,
      "outputs": [
        {
          "output_type": "stream",
          "name": "stdout",
          "text": [
            "Friday\n"
          ]
        },
        {
          "output_type": "execute_result",
          "data": {
            "text/plain": [
              "'Friday'"
            ],
            "application/vnd.google.colaboratory.intrinsic+json": {
              "type": "string"
            }
          },
          "metadata": {},
          "execution_count": 41
        }
      ]
    },
    {
      "cell_type": "markdown",
      "source": [
        "**9. When will you be (or when were you) 10,000 days old?**"
      ],
      "metadata": {
        "id": "iEqv-Kf0uhnT"
      }
    },
    {
      "cell_type": "code",
      "source": [
        "new_date = dob + dt.timedelta(days=10000)\n",
        "print(new_date)"
      ],
      "metadata": {
        "colab": {
          "base_uri": "https://localhost:8080/"
        },
        "id": "tql--lNmunNX",
        "outputId": "27ad40a2-511a-4fd1-ea55-670aa5855c79"
      },
      "execution_count": 38,
      "outputs": [
        {
          "output_type": "stream",
          "name": "stdout",
          "text": [
            "2029-01-02 00:00:00\n"
          ]
        }
      ]
    }
  ]
}