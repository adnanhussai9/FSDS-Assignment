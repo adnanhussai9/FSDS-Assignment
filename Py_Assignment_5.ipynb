{
 "cells": [
  {
   "cell_type": "code",
   "execution_count": 1,
   "id": "47372a50",
   "metadata": {},
   "outputs": [
    {
     "name": "stdout",
     "output_type": "stream",
     "text": [
      "<class 'dict'>\n"
     ]
    }
   ],
   "source": [
    "#1\n",
    "d={}\n",
    "print(type(d))"
   ]
  },
  {
   "cell_type": "code",
   "execution_count": 2,
   "id": "fad5120e",
   "metadata": {},
   "outputs": [
    {
     "name": "stdout",
     "output_type": "stream",
     "text": [
      "dict_values([42])\n"
     ]
    }
   ],
   "source": [
    "#2\n",
    "d1={\"foo\":42}\n",
    "print(d1.values())"
   ]
  },
  {
   "cell_type": "markdown",
   "id": "cf006515",
   "metadata": {},
   "source": [
    "3.\n",
    "<br>\n",
    "Dictionary contain key-value pair.<br>\n",
    "List contain only values."
   ]
  },
  {
   "cell_type": "markdown",
   "id": "02b85428",
   "metadata": {},
   "source": [
    "4.<br>\n",
    "If spam={'bar':100} than spam['foo'] will give `Key Error`"
   ]
  },
  {
   "cell_type": "code",
   "execution_count": 3,
   "id": "14278998",
   "metadata": {},
   "outputs": [
    {
     "ename": "KeyError",
     "evalue": "'foo'",
     "output_type": "error",
     "traceback": [
      "\u001b[1;31m---------------------------------------------------------------------------\u001b[0m",
      "\u001b[1;31mKeyError\u001b[0m                                  Traceback (most recent call last)",
      "\u001b[1;32m~\\AppData\\Local\\Temp/ipykernel_9940/1717283131.py\u001b[0m in \u001b[0;36m<module>\u001b[1;34m\u001b[0m\n\u001b[0;32m      1\u001b[0m \u001b[0mspam\u001b[0m\u001b[1;33m=\u001b[0m\u001b[1;33m{\u001b[0m\u001b[1;34m'bar'\u001b[0m\u001b[1;33m:\u001b[0m\u001b[1;36m100\u001b[0m\u001b[1;33m}\u001b[0m\u001b[1;33m\u001b[0m\u001b[1;33m\u001b[0m\u001b[0m\n\u001b[1;32m----> 2\u001b[1;33m \u001b[0mspam\u001b[0m\u001b[1;33m[\u001b[0m\u001b[1;34m'foo'\u001b[0m\u001b[1;33m]\u001b[0m\u001b[1;33m\u001b[0m\u001b[1;33m\u001b[0m\u001b[0m\n\u001b[0m",
      "\u001b[1;31mKeyError\u001b[0m: 'foo'"
     ]
    }
   ],
   "source": [
    "spam={'bar':100}\n",
    "spam['foo']"
   ]
  },
  {
   "cell_type": "markdown",
   "id": "477ea458",
   "metadata": {},
   "source": [
    "5.<br>\n",
    "If a dictionary is stored in spam than `'cat' in spam` and `'cat' in spam.keys()` are same. Both will iterate through the keys."
   ]
  },
  {
   "cell_type": "markdown",
   "id": "9605c2d5",
   "metadata": {},
   "source": [
    "6.<br>\n",
    "If a dictionary is stored in spam than `'cat' in spam` will iterate through keys and `'cat' in spam.values().` will iterate through values of the dictionary."
   ]
  },
  {
   "cell_type": "markdown",
   "id": "5c67bfbd",
   "metadata": {},
   "source": [
    "7.<br>\n",
    "spam.setdefault('colour','black')"
   ]
  },
  {
   "cell_type": "code",
   "execution_count": 4,
   "id": "4b069830",
   "metadata": {},
   "outputs": [
    {
     "name": "stdout",
     "output_type": "stream",
     "text": [
      "[{'Age': '23', 'Country': 'India', 'Name': 'Adnan'},\n",
      " {'Age': '44', 'Country': 'India', 'Name': 'Hussain'},\n",
      " {'Age': '29', 'Country': 'UK', 'Name': 'Rahul'},\n",
      " {'Age': '35', 'Country': 'Japan', 'Name': 'Jack'}]\n"
     ]
    }
   ],
   "source": [
    "#8\n",
    "import pprint\n",
    "d=[{'Name': 'Adnan', 'Age': '23', 'Country': 'India'},\n",
    "  {'Name': 'Hussain', 'Age': '44', 'Country': 'India'},\n",
    "  {'Name': 'Rahul', 'Age': '29', 'Country': 'UK'},\n",
    "  {'Name': 'Jack', 'Age': '35', 'Country': 'Japan'}]\n",
    "pprint.pprint(d)"
   ]
  }
 ],
 "metadata": {
  "kernelspec": {
   "display_name": "Python 3 (ipykernel)",
   "language": "python",
   "name": "python3"
  },
  "language_info": {
   "codemirror_mode": {
    "name": "ipython",
    "version": 3
   },
   "file_extension": ".py",
   "mimetype": "text/x-python",
   "name": "python",
   "nbconvert_exporter": "python",
   "pygments_lexer": "ipython3",
   "version": "3.9.7"
  }
 },
 "nbformat": 4,
 "nbformat_minor": 5
}
