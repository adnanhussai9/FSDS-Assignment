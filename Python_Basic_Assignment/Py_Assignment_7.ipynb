{
 "cells": [
  {
   "cell_type": "markdown",
   "id": "a96c0c6d",
   "metadata": {},
   "source": [
    "#### 1. What is the name of the feature responsible for generating Regex objects?"
   ]
  },
  {
   "cell_type": "markdown",
   "id": "8c5313e0",
   "metadata": {},
   "source": [
    "<b>`re.compile()`</b> is the feature responsible for generation of regex object."
   ]
  },
  {
   "cell_type": "code",
   "execution_count": 7,
   "id": "0b892031",
   "metadata": {},
   "outputs": [
    {
     "data": {
      "text/plain": [
       "re.Pattern"
      ]
     },
     "execution_count": 7,
     "metadata": {},
     "output_type": "execute_result"
    }
   ],
   "source": [
    "import re\n",
    "x=re.compile(\"regex\")\n",
    "type(x)"
   ]
  },
  {
   "cell_type": "markdown",
   "id": "42318073",
   "metadata": {},
   "source": [
    "#### 2. Why do raw strings often appear in Regex objects?"
   ]
  },
  {
   "cell_type": "markdown",
   "id": "f228c09b",
   "metadata": {},
   "source": [
    "Regular expressions use the backslash character ('\\') to indicate special forms (Metacharacters) or to allow special characters (speical sequences) to be used without invoking their special meaning. This collides with Python’s usage of the same character for the same purpose in string literals. Hence, Raw strings are used (e.g. r\"\\n\") so that backslashes do not have to be escaped."
   ]
  },
  {
   "cell_type": "markdown",
   "id": "9002b3e3",
   "metadata": {},
   "source": [
    "#### 3. What is the return value of the search() method?"
   ]
  },
  {
   "cell_type": "markdown",
   "id": "3bbde149",
   "metadata": {},
   "source": [
    "The return vale of re.search() method is `Match object` if pattern is found otherwise None."
   ]
  },
  {
   "cell_type": "code",
   "execution_count": 9,
   "id": "7e0d6575",
   "metadata": {},
   "outputs": [
    {
     "name": "stdout",
     "output_type": "stream",
     "text": [
      "<re.Match object; span=(0, 1), match='a'>\n",
      "None\n"
     ]
    }
   ],
   "source": [
    "import re\n",
    "match= re.search('A', \"adnan\",flags=re.IGNORECASE)\n",
    "print(match)\n",
    "match= re.search('b', \"adnan\",flags=re.IGNORECASE)\n",
    "print(match)"
   ]
  },
  {
   "cell_type": "markdown",
   "id": "4cb4d8c4",
   "metadata": {},
   "source": [
    "<h4> 4. From the Match item, how do you get the actual string that match the pattern?"
   ]
  },
  {
   "cell_type": "markdown",
   "id": "332e3f6f",
   "metadata": {},
   "source": [
    "From Matched items `group()` method returns the actual string that mach the pattern."
   ]
  },
  {
   "cell_type": "code",
   "execution_count": 16,
   "id": "59d94fea",
   "metadata": {},
   "outputs": [
    {
     "name": "stdout",
     "output_type": "stream",
     "text": [
      "adnan\n"
     ]
    }
   ],
   "source": [
    "match= re.search('ADNAN', \"adnan hussain\",flags=re.IGNORECASE)\n",
    "print(match.group())"
   ]
  },
  {
   "cell_type": "markdown",
   "id": "2a47bce2",
   "metadata": {},
   "source": [
    "<h4> 5. In the regex which created from the r'(\\d\\d\\d)-(\\d\\d\\d-\\d\\d\\d\\d)', what does group zero cover? Group 2? Group 1?"
   ]
  },
  {
   "cell_type": "markdown",
   "id": "f2d01be9",
   "metadata": {},
   "source": [
    "In the regex `r'(\\d\\d\\d)-(\\d\\d\\d-\\d\\d\\d\\d)'` the zero group covers the entire pattern match where as the first group cover `(\\d\\d\\d)` and second group cover `(\\d\\d\\d-\\d\\d\\d\\d)`"
   ]
  },
  {
   "cell_type": "code",
   "execution_count": 4,
   "id": "ad50e3ba",
   "metadata": {},
   "outputs": [
    {
     "name": "stdout",
     "output_type": "stream",
     "text": [
      "('912', '888-0919')\n",
      "912-888-0919\n",
      "912\n",
      "888-0919\n"
     ]
    }
   ],
   "source": [
    "import re\n",
    "a=re.compile(r'(\\d\\d\\d)-(\\d\\d\\d-\\d\\d\\d\\d)')\n",
    "s=a.search(\"My number is 912-888-0919\")\n",
    "print(s.groups())\n",
    "print(s.group(0))\n",
    "print(s.group(1))\n",
    "print(s.group(2))"
   ]
  },
  {
   "cell_type": "markdown",
   "id": "a4fb7f65",
   "metadata": {},
   "source": [
    "<h4> 6. In standard expression syntax, parentheses and intervals have distinct meanings. How can you tell a regex that you want it to fit real parentheses and periods?"
   ]
  },
  {
   "cell_type": "markdown",
   "id": "14e5af33",
   "metadata": {},
   "source": [
    "For parentheses we use escape character i.e. `\\(` and `\\)` and for periods we use `\\.`"
   ]
  },
  {
   "cell_type": "code",
   "execution_count": 24,
   "id": "62796af1",
   "metadata": {},
   "outputs": [
    {
     "name": "stdout",
     "output_type": "stream",
     "text": [
      "1.2\n"
     ]
    }
   ],
   "source": [
    "import re\n",
    "a=re.compile(r\"\\d\\.\\d\")\n",
    "s=a.search(\"I am 1.2kg apple.\")\n",
    "print(s.group())"
   ]
  },
  {
   "cell_type": "markdown",
   "id": "3b3def83",
   "metadata": {},
   "source": [
    "<h4> 7. The findall() method returns a string list or a list of string tuples. What causes it to return one of two option?"
   ]
  },
  {
   "cell_type": "markdown",
   "id": "138c5658",
   "metadata": {},
   "source": [
    "If the regex pattern has no groups, a list of strings matched is returned. If the regex pattern has groups, a list of tuple of string is returned."
   ]
  },
  {
   "cell_type": "code",
   "execution_count": 26,
   "id": "2b170068",
   "metadata": {},
   "outputs": [
    {
     "name": "stdout",
     "output_type": "stream",
     "text": [
      "[('(656)', '454-4545')]\n",
      "['656-454-4545']\n"
     ]
    }
   ],
   "source": [
    "import re\n",
    "p=re.compile(r'(\\(\\d\\d\\d\\)) (\\d\\d\\d-\\d\\d\\d\\d)')\n",
    "f=p.findall('Number is (656) 454-4545.')\n",
    "print(f)\n",
    "\n",
    "p=re.compile(r'\\d{3}-\\d{3}-\\d{4}')\n",
    "f=p.findall('Number is 656-454-4545.')\n",
    "print(f)"
   ]
  },
  {
   "cell_type": "markdown",
   "id": "ca5aa036",
   "metadata": {},
   "source": [
    " <h4> 8. In standard expressions, what does | character mean?"
   ]
  },
  {
   "cell_type": "markdown",
   "id": "1557ed08",
   "metadata": {},
   "source": [
    "In standard expressions `|` character menas `OR` operator."
   ]
  },
  {
   "cell_type": "markdown",
   "id": "2f5ac4d3",
   "metadata": {},
   "source": [
    "<h4> 9. In regular expressions, what does `?` character stand for?"
   ]
  },
  {
   "cell_type": "markdown",
   "id": "c0223181",
   "metadata": {},
   "source": [
    "In regular expressions, `?` characters represents zero or one match of the preceeding group."
   ]
  },
  {
   "cell_type": "code",
   "execution_count": 36,
   "id": "0959b7cd",
   "metadata": {},
   "outputs": [
    {
     "name": "stdout",
     "output_type": "stream",
     "text": [
      "<re.Match object; span=(0, 6), match='Batman'>\n",
      "<re.Match object; span=(0, 8), match='Batwoman'>\n"
     ]
    }
   ],
   "source": [
    "import re\n",
    "match_1= re.search(\"Bat(wo)?man\", \"Batman returns\")\n",
    "print(match_1)\n",
    "match_2= re.search(\"Bat(wo)?man\", \"Batwoman returns\")\n",
    "print(match_2)"
   ]
  },
  {
   "cell_type": "markdown",
   "id": "d8347374",
   "metadata": {},
   "source": [
    "<h4> 10. In regular expressions, what is the difference between the `+` and `*` characters?"
   ]
  },
  {
   "cell_type": "markdown",
   "id": "abfee9fa",
   "metadata": {},
   "source": [
    "In regular expressions, `*` represents the `zero or more occurances`  of the preceeding group, whereas `+` represents the `one or more occurances` of the preceding group.\n"
   ]
  },
  {
   "cell_type": "code",
   "execution_count": 39,
   "id": "f9ec3b1a",
   "metadata": {},
   "outputs": [
    {
     "name": "stdout",
     "output_type": "stream",
     "text": [
      "<re.Match object; span=(0, 6), match='Batman'>\n",
      "None\n"
     ]
    }
   ],
   "source": [
    "import re\n",
    "match_1= re.search(\"Bat(wo)*man\", \"Batman returns\")\n",
    "print(match_1)\n",
    "match_2= re.search(\"Bat+man\", \"Batwoman returns\")\n",
    "print(match_2)"
   ]
  },
  {
   "cell_type": "markdown",
   "id": "a840deb4",
   "metadata": {},
   "source": [
    "<h4> 11.What is the difference between {4} and {4,5} in regular expression?"
   ]
  },
  {
   "cell_type": "markdown",
   "id": "998b29b9",
   "metadata": {},
   "source": [
    "`{4}` means that its preceeding group should repeat 4 times. {4,5} means that its preceeding group should repeat minimum 4 times and maximum 5 times inclusively."
   ]
  },
  {
   "cell_type": "code",
   "execution_count": 40,
   "id": "4d17e330",
   "metadata": {},
   "outputs": [
    {
     "name": "stdout",
     "output_type": "stream",
     "text": [
      "HaHaHa\n",
      "None\n"
     ]
    }
   ],
   "source": [
    "import re \n",
    "haRegex= re.compile(r'(Ha){3}')\n",
    "mo1=haRegex.search(\"HaHaHa\")\n",
    "mo2=haRegex.search(\"Ha\")\n",
    "print(mo1.group())\n",
    "print(mo2)"
   ]
  },
  {
   "cell_type": "markdown",
   "id": "a37897d6",
   "metadata": {},
   "source": [
    "<h4>12. What do you mean by the \\d, \\w, and \\s shorthand character classes signify in regular\n",
    "expressions?"
   ]
  },
  {
   "cell_type": "markdown",
   "id": "3cac92b6",
   "metadata": {},
   "source": [
    "1. <b>`\\d`</b> Returns a match where the string contains digits (numbers from 0-9)\n",
    "2. <b>`\\w`</b> Returns a match where the string contains any word characters [a-zA-Z0_9_]\n",
    "3. <b>`\\s`</b> Returns a match where the string contains a white space character (space,tab,newline,etc.)"
   ]
  },
  {
   "cell_type": "markdown",
   "id": "41cb23a9",
   "metadata": {},
   "source": [
    "<h4> 13. What do means by \\D, \\W, and \\S shorthand character classes signify in regular expressions?"
   ]
  },
  {
   "cell_type": "markdown",
   "id": "89f85f38",
   "metadata": {},
   "source": [
    "1. <b>`\\D`</b> Returns a match where the string DOES NOT contain digits\t\n",
    "2. <b>`\\W`</b> \tReturns a match where the string DOES NOT contain any word characters [a-zA-Z0_9_]\n",
    "3. <b>`\\S`</b> Returns a match where the string DOES NOT contain a white space character"
   ]
  },
  {
   "cell_type": "markdown",
   "id": "ab6837f9",
   "metadata": {},
   "source": [
    "<h4> 14. What is the difference between .*? and .*?"
   ]
  },
  {
   "cell_type": "markdown",
   "id": "12dcc627",
   "metadata": {},
   "source": [
    "<b>`.*`</b> is a Greedy mode, which returns the longest string that meets the condition. Whereas <b>`.*?`</b> is a non greedy mode which returns the shortest string that returns the condition."
   ]
  },
  {
   "cell_type": "markdown",
   "id": "35455f7d",
   "metadata": {},
   "source": [
    "<h4> 15. What is the syntax for matching both numbers and lowercase letters with a character class?"
   ]
  },
  {
   "cell_type": "markdown",
   "id": "911f4a82",
   "metadata": {},
   "source": [
    "The synatax is either <b>`[a-z0-9]`</b> or <b>`[0-9a-z]`</b>"
   ]
  },
  {
   "cell_type": "markdown",
   "id": "d077f8b9",
   "metadata": {},
   "source": [
    "<h4>16. What is the procedure for making a normal expression in regex case insensitive?"
   ]
  },
  {
   "cell_type": "markdown",
   "id": "4bde70e8",
   "metadata": {},
   "source": [
    "We can pass <b>`re.IGNORECASE`</b> as a flag to make a normal expression case insensitive."
   ]
  },
  {
   "cell_type": "markdown",
   "id": "5741255f",
   "metadata": {},
   "source": [
    "<h4>17. What does the . character normally match? What does it match if re.DOTALL is passed as 2nd argument in re.compile()?"
   ]
  },
  {
   "cell_type": "markdown",
   "id": "7da756b5",
   "metadata": {},
   "source": [
    "Dot `.` character matches everything in input except newline character. By passing <b>`re.DOTALL`</b> as a flag to <b>`re.compile()`</b> , you can make the dot character match all characters, including newline character."
   ]
  },
  {
   "cell_type": "markdown",
   "id": "ddbbc7ed",
   "metadata": {},
   "source": [
    "<h4>18. If numReg = re.compile(r'\\d+'), what will numRegex.sub('X', '11 drumers, 10 pipers, five rings, 4 hen')return?"
   ]
  },
  {
   "cell_type": "markdown",
   "id": "a29e3545",
   "metadata": {},
   "source": [
    "The output will be `'X drummers, X pipers, five rings, X hen'`"
   ]
  },
  {
   "cell_type": "code",
   "execution_count": 1,
   "id": "7226d43b",
   "metadata": {},
   "outputs": [
    {
     "data": {
      "text/plain": [
       "'X drummers, X pipers, five rings, X hen'"
      ]
     },
     "execution_count": 1,
     "metadata": {},
     "output_type": "execute_result"
    }
   ],
   "source": [
    "import re\n",
    "numReg = re.compile(r'\\d+')\n",
    "numReg.sub('X', '11 drummers, 10 pipers, five rings, 4 hen')"
   ]
  },
  {
   "cell_type": "markdown",
   "id": "42103ce9",
   "metadata": {},
   "source": [
    "<h4> 19. What does passing re.VERBOSE as the 2nd argument to re.compile() allow to do?"
   ]
  },
  {
   "cell_type": "markdown",
   "id": "54496fbd",
   "metadata": {},
   "source": [
    "`re.VERBOSE` allows to write regular expressions that look nicer and are more readable by allowing to visually separate logical sections of the pattern and add comments."
   ]
  },
  {
   "cell_type": "code",
   "execution_count": 2,
   "id": "85a36913",
   "metadata": {},
   "outputs": [],
   "source": [
    "# Without Using VERBOSE\n",
    "regex_email = re.compile(r'^([a-z0-9_\\.-]+)@([0-9a-z\\.-]+)\\.([a-z\\.]{2, 6})$',\n",
    "              re.IGNORECASE)\n",
    "   \n",
    "# Using VERBOSE\n",
    "regex_email = re.compile(r\"\"\"\n",
    "            ^([a-z0-9_\\.-]+)              # local Part\n",
    "            @                             # single @ sign\n",
    "            ([0-9a-z\\.-]+)                # Domain name\n",
    "            \\.                            # single Dot .\n",
    "            ([a-z]{2,6})$                 # Top level Domain  \n",
    "             \"\"\",re.VERBOSE | re.IGNORECASE)   "
   ]
  },
  {
   "cell_type": "code",
   "execution_count": 3,
   "id": "038b28eb",
   "metadata": {},
   "outputs": [
    {
     "name": "stdout",
     "output_type": "stream",
     "text": [
      "expectopatronum@gmail.com is Valid. Details are as follow:\n",
      "Local:expectopatronum\n",
      "Domain:gmail\n",
      "Top Level domain:com\n",
      "\n",
      "avadakedavra@yahoo.com@ is Invalid\n",
      "Crucio@.com is Invalid\n"
     ]
    }
   ],
   "source": [
    "import re\n",
    "def validate_email(email):\n",
    "    regex_email=re.compile(r\"\"\"\n",
    "                           ^([a-z0-9_\\.-]+)                 # local Part\n",
    "                           @                             # single @ sign\n",
    "                            ([0-9a-z\\.-]+)                 # Domain name\n",
    "                           \\.                             # single Dot .\n",
    "                            ([a-z]{2,6})$                 # Top level Domain     \n",
    "                           \"\"\",re.VERBOSE | re.IGNORECASE)\n",
    "    res=regex_email.fullmatch(email)\n",
    "    if res:\n",
    "        print(\"{} is Valid. Details are as follow:\".format(email))\n",
    "        print(\"Local:{}\".format(res.group(1)))       \n",
    "        print(\"Domain:{}\".format(res.group(2)))\n",
    "        print(\"Top Level domain:{}\".format(res.group(3)))\n",
    "        print()\n",
    "          \n",
    "    else:\n",
    "        print(\"{} is Invalid\".format(email))\n",
    "  \n",
    "# Driver Code\n",
    "validate_email(\"expectopatronum@gmail.com\")\n",
    "validate_email(\"avadakedavra@yahoo.com@\")\n",
    "validate_email(\"Crucio@.com\")"
   ]
  },
  {
   "cell_type": "markdown",
   "id": "8d5f2dec",
   "metadata": {},
   "source": [
    "<h4>20. How would you write a regex that match a number with comma for every three digits?"
   ]
  },
  {
   "cell_type": "code",
   "execution_count": 6,
   "id": "a0720839",
   "metadata": {},
   "outputs": [
    {
     "name": "stdout",
     "output_type": "stream",
     "text": [
      "Output: 42 -> <re.Match object; span=(0, 2), match='42'>\n",
      "Output: 1,234 -> <re.Match object; span=(0, 5), match='1,234'>\n",
      "Output: 6,368,745 -> <re.Match object; span=(0, 9), match='6,368,745'>\n",
      "Output: 12,34,567 -> None\n",
      "Output: 1234 -> None\n"
     ]
    }
   ],
   "source": [
    "import re \n",
    "pattern = r'^\\d{1,3}(,\\d{3})*$'\n",
    "pagex = re.compile(pattern)\n",
    "for e in ['42','1,234','6,368,745','12,34,567','1234']:\n",
    "\n",
    "    print('Output:',e,'->',pagex.search(e))"
   ]
  },
  {
   "cell_type": "markdown",
   "id": "790fb6e9",
   "metadata": {},
   "source": [
    "#### 21. How would you write a regex that matches the full name of someone whose last name is Watanabe? You can assume that the first name that comes before it will always be one word that begins with a capital letter. The regex must match the following:\n",
    "    \n",
    "'Haruto Watanabe'<br>\n",
    "'Alice Watanabe'<br>\n",
    "'RoboCop Watanabe'<br>\n",
    "\n",
    "but not the following:<br>\n",
    "\n",
    "'haruto Watanabe' (where the first name is not capitalized)<br>\n",
    "'Mr. Watanabe' (where the preceding word has a nonletter character)<br>\n",
    "'Watanabe' (which has no first name)<br>\n",
    "'Haruto watanabe' (where Watanabe is not capitalized)<br>"
   ]
  },
  {
   "cell_type": "code",
   "execution_count": 7,
   "id": "b33586f7",
   "metadata": {},
   "outputs": [
    {
     "name": "stdout",
     "output_type": "stream",
     "text": [
      "Output:  Haruto Watanabe -> <re.Match object; span=(0, 15), match='Haruto Watanabe'>\n",
      "Output:  Alice Watanabe -> <re.Match object; span=(0, 14), match='Alice Watanabe'>\n",
      "Output:  RoboCop Watanabe -> <re.Match object; span=(4, 16), match='Cop Watanabe'>\n",
      "Output:  haruto Watanabe -> None\n",
      "Output:  Mr. Watanabe -> None\n",
      "Output:  Watanabe -> None\n",
      "Output:  Haruto watanabe -> None\n"
     ]
    }
   ],
   "source": [
    "import re\n",
    "pattern = r'[A-Z]{1}[a-z]*\\sWatanabe'\n",
    "namex = re.compile(pattern)\n",
    "for name in ['Haruto Watanabe','Alice Watanabe','RoboCop Watanabe','haruto Watanabe','Mr. Watanabe','Watanabe','Haruto watanabe']:\n",
    "    print('Output: ',name,'->',namex.search(name))"
   ]
  },
  {
   "cell_type": "markdown",
   "id": "ee1b19a5",
   "metadata": {},
   "source": [
    "#### 22. How would you write a regex that matches a sentence where the first word is either Alice, Bob,or Carol; the second word is either eats, pets, or throws; the third word is apples, cats, or baseballs; and the sentence ends with a period? This regex should be case-insensitive. It must match the following:\n",
    "'Alice eats apples.'<br>\n",
    "'Bob pets cats.'<br>\n",
    "'Carol throws baseballs.'<br>\n",
    "'Alice throws Apples.'<br>\n",
    "'BOB EATS CATS.'<br>\n",
    "\n",
    "but not the following:<br>\n",
    "\n",
    "'RoboCop eats apples.'<br>\n",
    "'ALICE THROWS FOOTBALLS.'<br>\n",
    "'Carol eats 7 cats.'<br>"
   ]
  },
  {
   "cell_type": "code",
   "execution_count": 8,
   "id": "aea5946e",
   "metadata": {},
   "outputs": [
    {
     "name": "stdout",
     "output_type": "stream",
     "text": [
      "Output:  Alice eats apples. -> <re.Match object; span=(0, 18), match='Alice eats apples.'>\n",
      "Output:  Bob pets cats. -> <re.Match object; span=(0, 14), match='Bob pets cats.'>\n",
      "Output:  Carol throws baseballs. -> <re.Match object; span=(0, 23), match='Carol throws baseballs.'>\n",
      "Output:  Alice throws Apples. -> <re.Match object; span=(0, 20), match='Alice throws Apples.'>\n",
      "Output:  BOB EATS CATS. -> <re.Match object; span=(0, 14), match='BOB EATS CATS.'>\n",
      "Output:  RoboCop eats apples. -> None\n",
      "Output:  ALICE THROWS FOOTBALLS. -> None\n",
      "Output:  Carol eats 7 cats. -> None\n"
     ]
    }
   ],
   "source": [
    "import re\n",
    "pattern = r'(Alice|Bob|Carol)\\s(eats|pets|throws)\\s(apples|cats|baseballs)\\.'\n",
    "casex = re.compile(pattern,re.IGNORECASE)\n",
    "for ele in ['Alice eats apples.','Bob pets cats.','Carol throws baseballs.','Alice throws Apples.','BOB EATS CATS.','RoboCop eats apples.'\n",
    ",'ALICE THROWS FOOTBALLS.','Carol eats 7 cats.']:\n",
    "    print('Output: ',ele,'->',casex.search(ele))"
   ]
  }
 ],
 "metadata": {
  "kernelspec": {
   "display_name": "Python 3 (ipykernel)",
   "language": "python",
   "name": "python3"
  },
  "language_info": {
   "codemirror_mode": {
    "name": "ipython",
    "version": 3
   },
   "file_extension": ".py",
   "mimetype": "text/x-python",
   "name": "python",
   "nbconvert_exporter": "python",
   "pygments_lexer": "ipython3",
   "version": "3.9.7"
  }
 },
 "nbformat": 4,
 "nbformat_minor": 5
}
