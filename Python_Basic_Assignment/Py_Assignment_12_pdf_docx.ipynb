{
  "nbformat": 4,
  "nbformat_minor": 0,
  "metadata": {
    "colab": {
      "private_outputs": true,
      "provenance": []
    },
    "kernelspec": {
      "name": "python3",
      "display_name": "Python 3"
    },
    "language_info": {
      "name": "python"
    }
  },
  "cells": [
    {
      "cell_type": "markdown",
      "source": [
        "##Assignment 12 Solution"
      ],
      "metadata": {
        "id": "PC83aLS0WkEo"
      }
    },
    {
      "cell_type": "markdown",
      "source": [
        "**1. In what modes should the PdfFileReader() and PdfFileWriter() File objects will be opened?**"
      ],
      "metadata": {
        "id": "ywwc4rgSWrUh"
      }
    },
    {
      "cell_type": "markdown",
      "source": [
        "These file will oopened in binary mode, read binary (rb) for PdfFileReader() and write binary(wb) for PdfFileWriter()."
      ],
      "metadata": {
        "id": "xccGG5IGW9u2"
      }
    },
    {
      "cell_type": "markdown",
      "source": [
        "**2. From a PdfFileReader object, how do you get a Page object for page 5?**"
      ],
      "metadata": {
        "id": "5bfO7CroX0Ev"
      }
    },
    {
      "cell_type": "markdown",
      "source": [
        "Calling the function getPage(4) will return a page object for page 5 since indexing of pages starts from 0."
      ],
      "metadata": {
        "id": "Ppa1Mm8QYD8N"
      }
    },
    {
      "cell_type": "code",
      "source": [
        "!pip install PyPDF2"
      ],
      "metadata": {
        "id": "MqQcpJPgXxMN"
      },
      "execution_count": null,
      "outputs": []
    },
    {
      "cell_type": "code",
      "source": [
        "import PyPDF2 as psf\n",
        "pdfFileObj = open(\"cardealer.pdf\",'rb')\n",
        "pdfReader = pdf.PdfFileReader(pdfFileObj)\n",
        "pageObj = pdfReader.getPage(4)\n",
        "pageObj.extractText()"
      ],
      "metadata": {
        "id": "cbtSR_vGYang"
      },
      "execution_count": null,
      "outputs": []
    },
    {
      "cell_type": "markdown",
      "source": [
        "**3. What PdfFileReader variable stores the number of pages in the PDF document?**"
      ],
      "metadata": {
        "id": "DqPC6lyuZkKf"
      }
    },
    {
      "cell_type": "markdown",
      "source": [
        "`pages` stores the number of pages in the PDF document. `len(pdfReader.pages)`"
      ],
      "metadata": {
        "id": "vYWb-moTZzAm"
      }
    },
    {
      "cell_type": "code",
      "source": [
        "import PyPDF2 as pdf\n",
        "pdfFileObj = open('resume.pdf','rb')\n",
        "pdfReader = pdf.PdfReader(pdfFileObj)\n",
        "len(pdfReader.pages)"
      ],
      "metadata": {
        "id": "2CPng3WdZyit"
      },
      "execution_count": null,
      "outputs": []
    },
    {
      "cell_type": "markdown",
      "source": [
        "**4. If a PdfFileReader object’s PDF is encrypted with the password swordfish, what must you do\n",
        "before you can obtain Page objects from it?**"
      ],
      "metadata": {
        "id": "GaKu3PPD6yYK"
      }
    },
    {
      "cell_type": "markdown",
      "source": [
        "If the PDF is encrypted with a password 'swordfish' then we must decrypt it by calling `.decrypt('swordfish')`"
      ],
      "metadata": {
        "id": "f-PYQ61464cd"
      }
    },
    {
      "cell_type": "markdown",
      "source": [
        "**5. What methods do you use to rotate a page?**"
      ],
      "metadata": {
        "id": "TeRogD_f7V9w"
      }
    },
    {
      "cell_type": "code",
      "source": [
        "#pageObj.rotateClockwise(180)\n",
        "\n",
        "# The rotateClockwise() and rotateCounterClockwise() methods are used and degree is given as integer."
      ],
      "metadata": {
        "id": "6qxLfHyeZQ0v"
      },
      "execution_count": null,
      "outputs": []
    },
    {
      "cell_type": "markdown",
      "source": [
        "**6. What is the difference between a Run object and a Paragraph object?**"
      ],
      "metadata": {
        "id": "RQ5xi_di8QyR"
      }
    },
    {
      "cell_type": "markdown",
      "source": [
        "Paragraph Object : A document contains multiple paragraphs. A paragraph begins on a new line and contains multiple\n",
        "runs. The Document object contains a list of Paragraph objects for the paragraphs in the document. (A new paragraph begins whenever the user presses ENTER or RETURN while typing in a Word document.)\n",
        "\n",
        "Run Objects : Runs are contiguous groups of characters within a paragraph with the same style"
      ],
      "metadata": {
        "id": "9O20dRqz8WAo"
      }
    },
    {
      "cell_type": "markdown",
      "source": [
        "**7. How do you obtain a list of Paragraph objects for a Document object that’s stored in a variable\n",
        "named doc?**"
      ],
      "metadata": {
        "id": "a6T7-KNU-v1H"
      }
    },
    {
      "cell_type": "code",
      "source": [
        "!pip install python-docx\n",
        "import docx\n",
        "doc = docx.Document('abd.docx')\n",
        "doc.paragraphs\n",
        "# We list paragraph by using doc.paragraphs"
      ],
      "metadata": {
        "id": "do3MsgGD7xRU"
      },
      "execution_count": null,
      "outputs": []
    },
    {
      "cell_type": "markdown",
      "source": [
        "**8. What type of object has bold, underline, italic, strike, and outline variables?**"
      ],
      "metadata": {
        "id": "EOSAW6PjAeN1"
      }
    },
    {
      "cell_type": "markdown",
      "source": [
        "A `Run` object has bold, underline, italic, strike, and outline variables."
      ],
      "metadata": {
        "id": "GG06dAYaAoXX"
      }
    },
    {
      "cell_type": "markdown",
      "source": [
        "**9. What is the difference between False, True, and None for the bold variable?**"
      ],
      "metadata": {
        "id": "7qfDFgQVA0zW"
      }
    },
    {
      "cell_type": "markdown",
      "source": [
        "Runs can be further styled using text attributes. Each attribute can be set to one of three values: 1. `False`- the attribute is always disabled. 2. `True`- the attribute is always enabled, no matter what other styles are applied to the run. 3. `None`- default to whatever the run's style is set to.\n",
        "\n",
        "True will always make the run object is bolded and False makes it always unbolded, no matter what the style's bold setting is. None will make the run object just use the style's bold setting."
      ],
      "metadata": {
        "id": "Het8Uln5BCxg"
      }
    },
    {
      "cell_type": "markdown",
      "source": [
        "**10. How do you create a Document object for a new Word document?**"
      ],
      "metadata": {
        "id": "YKbD0UW6sURX"
      }
    },
    {
      "cell_type": "markdown",
      "source": [
        " By Calling the docx.Document() function."
      ],
      "metadata": {
        "id": "QQ-QMiHsseUf"
      }
    },
    {
      "cell_type": "markdown",
      "source": [
        "**11. How do you add a paragraph with the text &#39;Hello, there!&#39; to a Document object stored in a\n",
        "variable named doc?**"
      ],
      "metadata": {
        "id": "1ce3t0KLs1_P"
      }
    },
    {
      "cell_type": "code",
      "source": [
        "import docx\n",
        "doc = docx.Document()\n",
        "\n",
        "doc.add_paragraph('Hello there!')\n",
        "doc.save('hellothere.docx')"
      ],
      "metadata": {
        "id": "StWMVlfjAibR"
      },
      "execution_count": null,
      "outputs": []
    },
    {
      "cell_type": "markdown",
      "source": [
        "**12. What integers represent the levels of headings available in Word documents?**"
      ],
      "metadata": {
        "id": "6WHTQothtCA-"
      }
    },
    {
      "cell_type": "markdown",
      "source": [
        "integer from 0 to 4\n",
        "\n",
        "The arguments to add_heading() are a string of the heading text and an integer from 0 to 4. The integer 0 makes the heading the Title style, which is used for the top of the document. Integers 1 to 4 are for various heading levels, with 1 being the main heading and 4 the lowest subheading"
      ],
      "metadata": {
        "id": "k_XGW1dktJpu"
      }
    }
  ]
}