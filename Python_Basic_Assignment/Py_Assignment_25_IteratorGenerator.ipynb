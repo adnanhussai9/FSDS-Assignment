{
  "nbformat": 4,
  "nbformat_minor": 0,
  "metadata": {
    "colab": {
      "provenance": [],
      "authorship_tag": "ABX9TyNS2i/yUirg+deV00NSXv0G",
      "include_colab_link": true
    },
    "kernelspec": {
      "name": "python3",
      "display_name": "Python 3"
    },
    "language_info": {
      "name": "python"
    },
    "gpuClass": "standard"
  },
  "cells": [
    {
      "cell_type": "markdown",
      "metadata": {
        "id": "view-in-github",
        "colab_type": "text"
      },
      "source": [
        "<a href=\"https://colab.research.google.com/github/adnanhussai9/FSDS-Assignment/blob/main/Python_Basic_Assignment/Py_Assignment_25_IteratorGenerator.ipynb\" target=\"_parent\"><img src=\"https://colab.research.google.com/assets/colab-badge.svg\" alt=\"Open In Colab\"/></a>"
      ]
    },
    {
      "cell_type": "markdown",
      "source": [
        "# Assingnment 25 Solution"
      ],
      "metadata": {
        "id": "rtN2KgHO7eG6"
      }
    },
    {
      "cell_type": "markdown",
      "source": [
        "**1. What is the difference between enclosing a list comprehension in square brackets and parentheses?**"
      ],
      "metadata": {
        "id": "ptar5Cj0r42V"
      }
    },
    {
      "cell_type": "markdown",
      "source": [
        "Enclosing list comprehension in square brackets returns a list, whereas enclosing a list comprehension in paranthesis returns a generator object."
      ],
      "metadata": {
        "id": "yB2-GmB0r4rF"
      }
    },
    {
      "cell_type": "code",
      "source": [
        "l= [ele for ele in range(10)]\n",
        "print(l, type(l))\n",
        "g= (ele for ele in range(10))\n",
        "print(g, type(g))"
      ],
      "metadata": {
        "colab": {
          "base_uri": "https://localhost:8080/"
        },
        "id": "IECKyIOJyByn",
        "outputId": "21d822cf-288e-436e-e808-b440e7f8547c"
      },
      "execution_count": 1,
      "outputs": [
        {
          "output_type": "stream",
          "name": "stdout",
          "text": [
            "[0, 1, 2, 3, 4, 5, 6, 7, 8, 9] <class 'list'>\n",
            "<generator object <genexpr> at 0x7f1628639310> <class 'generator'>\n"
          ]
        }
      ]
    },
    {
      "cell_type": "markdown",
      "source": [
        "**2) What is the relationship between generators and iterators?**"
      ],
      "metadata": {
        "id": "hQEcvWoUr4e5"
      }
    },
    {
      "cell_type": "markdown",
      "source": [
        "An `iterator` is an object which contains a countable number of values and it is used to `iterate over iterable` objects like list, tuples, sets, etc. It follows `lazy evaluation` where the evaluation of the expression will be hold and stored in memory and stored until the item is called specifically which helps us to avoid repeated evaluation.<br>\n",
        "The `__iter__()` method returns the iterator object. This is required to allow an iterator to be used with the `for` and `in` statements.<br>\n",
        "The `__next__()` method returns the next element in the sequence. After reaching it's end, all subsequent call to this method should raise an exception.<br><br>\n",
        "\n",
        "The `generator` object are also like iterators. It also follows `lazy evaluation.` It has `yield` statement instead of return statement. Return statement terminates the code execution entirely, whereas yield statement saves the function state and resumes its execution, upon subsequent calls."
      ],
      "metadata": {
        "id": "CIFjD3oXzZrp"
      }
    },
    {
      "cell_type": "code",
      "source": [
        "# Iterator\n",
        "class UpTo:\n",
        "    # giving the parameter a default value of 0\n",
        "    def __init__(self, max = 0):\n",
        "        self.max = max\n",
        "    def __iter__(self):\n",
        "        self.n = 0\n",
        "        return self\n",
        "    def __next__(self):\n",
        "        # The next method will throw an\n",
        "        # exception when the termination condition is reached.\n",
        "        if self.n > self.max:\n",
        "            raise StopIteration\n",
        "        else:\n",
        "            result = self.n\n",
        "            self.n += 1\n",
        "            return result\n",
        "for number in UpTo(5):\n",
        "    print(number)"
      ],
      "metadata": {
        "id": "LSBGO4J83zkV"
      },
      "execution_count": null,
      "outputs": []
    },
    {
      "cell_type": "code",
      "source": [
        "# Generator\n",
        "def upto(n):\n",
        "  for i in range(n+1):\n",
        "    # The yield statement is what makes a function \n",
        "    # a generator\n",
        "    yield i\n",
        "for number in upto(5):\n",
        "  print(number)"
      ],
      "metadata": {
        "id": "hAgMyWWl3jJT"
      },
      "execution_count": null,
      "outputs": []
    },
    {
      "cell_type": "markdown",
      "source": [
        "**3) What are the signs that a function is a generator function?**"
      ],
      "metadata": {
        "id": "LyvfZlDV4CKN"
      }
    },
    {
      "cell_type": "markdown",
      "source": [
        "A generator function uses a `yield statement` instead of a return statement. A generator function will always return a iterable object called generator. where as a normal function can return a string, list, tuple, dict, NoneType, etc."
      ],
      "metadata": {
        "id": "72dnL3684M1A"
      }
    },
    {
      "cell_type": "markdown",
      "source": [
        "**4) What is the purpose of a yield statement?**"
      ],
      "metadata": {
        "id": "Hzc1ZoQV4Vxf"
      }
    },
    {
      "cell_type": "markdown",
      "source": [
        "The yield statement `suspends` function execution and sends a value back to caller, but retains enough state to `enable function to resume` where it is left off. When resumed, the function continues execution immediately after the last yield run. This allows its code to produce a series of values over time, rather computing them at once and sending them back like a list."
      ],
      "metadata": {
        "id": "g3udVqEs4hxT"
      }
    },
    {
      "cell_type": "markdown",
      "source": [
        "**5) What is the relationship between map calls and list comprehensions? Make a comparison and contrast between the two ?**"
      ],
      "metadata": {
        "id": "dEHu_nvp7Z2N"
      }
    },
    {
      "cell_type": "markdown",
      "source": [
        "1. List comprehension is more `concise and easier` to read as compared to map.\n",
        "2. List comprehension allows `filtering`. In map, we have no such facility. For example, to print all odd numbers, we can use list comprehension but there is no alternative in map.\n",
        "3. List comprehension gives list as `final output`, and map gives map object as final output, it is explicitly converted to desired data type.\n",
        "4. List comprehension is `faster` than map, when we need to `evaluate expressions` that are too long or complicated to express.\n",
        "5. Map is faster in case of calling an already defined function on a group of values."
      ],
      "metadata": {
        "id": "j33tWqvK7c6f"
      }
    }
  ]
}