{
  "nbformat": 4,
  "nbformat_minor": 0,
  "metadata": {
    "colab": {
      "provenance": [],
      "authorship_tag": "ABX9TyNR5dAUHQEIZFyPhWWaL8hV",
      "include_colab_link": true
    },
    "kernelspec": {
      "name": "python3",
      "display_name": "Python 3"
    },
    "language_info": {
      "name": "python"
    },
    "gpuClass": "standard"
  },
  "cells": [
    {
      "cell_type": "markdown",
      "metadata": {
        "id": "view-in-github",
        "colab_type": "text"
      },
      "source": [
        "<a href=\"https://colab.research.google.com/github/adnanhussai9/FSDS-Assignment/blob/main/Python_Basic_Assignment/Py_Assignment_15.ipynb\" target=\"_parent\"><img src=\"https://colab.research.google.com/assets/colab-badge.svg\" alt=\"Open In Colab\"/></a>"
      ]
    },
    {
      "cell_type": "markdown",
      "source": [
        "**1.How many seconds are in an hour? Use the interactive interpreter as a calculator and multiply the number of seconds in a minute (60) by the number of minutes in an hour (also 60).**"
      ],
      "metadata": {
        "id": "RGlFhjrrCYSI"
      }
    },
    {
      "cell_type": "code",
      "source": [
        "print(60*60)"
      ],
      "metadata": {
        "colab": {
          "base_uri": "https://localhost:8080/"
        },
        "id": "lUFKg4qQCa8X",
        "outputId": "145d3da2-b1cc-45d5-cc37-ebfc6d01a1af"
      },
      "execution_count": 1,
      "outputs": [
        {
          "output_type": "stream",
          "name": "stdout",
          "text": [
            "3600\n"
          ]
        }
      ]
    },
    {
      "cell_type": "markdown",
      "source": [
        "**2. Assign the result from the previous task (seconds in an hour) to a variable called seconds_per_hour.**"
      ],
      "metadata": {
        "id": "-tbELiwdCYOj"
      }
    },
    {
      "cell_type": "code",
      "source": [
        "seconds_per_hour = 60*60\n",
        "print(seconds_per_hour)"
      ],
      "metadata": {
        "colab": {
          "base_uri": "https://localhost:8080/"
        },
        "id": "l0b_1HV-Cl3n",
        "outputId": "ce9cdc3e-262f-4a8a-9eb3-4e0a8e6aeac6"
      },
      "execution_count": 2,
      "outputs": [
        {
          "output_type": "stream",
          "name": "stdout",
          "text": [
            "3600\n"
          ]
        }
      ]
    },
    {
      "cell_type": "markdown",
      "source": [
        "**3. How many seconds do you think there are in a day? Make use of the variables seconds per hour and minutes per hour.**"
      ],
      "metadata": {
        "id": "WenRpRJ2CYL3"
      }
    },
    {
      "cell_type": "code",
      "source": [
        "minutes_per_hour = 60\n",
        "print(seconds_per_hour*24)"
      ],
      "metadata": {
        "colab": {
          "base_uri": "https://localhost:8080/"
        },
        "id": "_8FwbyEfCrgL",
        "outputId": "69175379-3bdf-4405-e78d-f409e69e186a"
      },
      "execution_count": 3,
      "outputs": [
        {
          "output_type": "stream",
          "name": "stdout",
          "text": [
            "86400\n"
          ]
        }
      ]
    },
    {
      "cell_type": "markdown",
      "source": [
        "**4. Calculate seconds per day again, but this time save the result in a variable called seconds_per_day**"
      ],
      "metadata": {
        "id": "NV5Hb-eLCYJI"
      }
    },
    {
      "cell_type": "code",
      "source": [
        "seconds_per_day = 24*60*60\n",
        "print(seconds_per_day)"
      ],
      "metadata": {
        "colab": {
          "base_uri": "https://localhost:8080/"
        },
        "id": "tTbvAm6rCxjH",
        "outputId": "f1e053e6-0ac0-44a5-d6d8-0725fed44eb1"
      },
      "execution_count": 4,
      "outputs": [
        {
          "output_type": "stream",
          "name": "stdout",
          "text": [
            "86400\n"
          ]
        }
      ]
    },
    {
      "cell_type": "markdown",
      "source": [
        "**5. Divide seconds_per_day by seconds_per_hour. Use floating-point (/) division.**"
      ],
      "metadata": {
        "id": "vJL5GH8xCYGl"
      }
    },
    {
      "cell_type": "code",
      "source": [
        "print(seconds_per_day/seconds_per_hour)"
      ],
      "metadata": {
        "colab": {
          "base_uri": "https://localhost:8080/"
        },
        "id": "cq32WcspC2Yc",
        "outputId": "90b0ba7c-c74c-4276-bbef-ccfcd19d0cb5"
      },
      "execution_count": 5,
      "outputs": [
        {
          "output_type": "stream",
          "name": "stdout",
          "text": [
            "24.0\n"
          ]
        }
      ]
    },
    {
      "cell_type": "markdown",
      "source": [
        "**6. Divide seconds_per_day by seconds_per_hour, using integer (//) division. Did this number agree with the floating-point value from the previous question, aside from the final .0?**"
      ],
      "metadata": {
        "id": "9sf5_ZL2CYD3"
      }
    },
    {
      "cell_type": "code",
      "source": [
        "print(seconds_per_day//seconds_per_hour, end='')\n",
        "print(' -> yes this values agree with the floating point value from the previous question')"
      ],
      "metadata": {
        "colab": {
          "base_uri": "https://localhost:8080/"
        },
        "id": "ymMUXgbQDB7q",
        "outputId": "2bfe6a73-4b86-4503-b331-2177feb6cd29"
      },
      "execution_count": 6,
      "outputs": [
        {
          "output_type": "stream",
          "name": "stdout",
          "text": [
            "24 -> yes this values agree with the floating point value from the previous question\n"
          ]
        }
      ]
    },
    {
      "cell_type": "markdown",
      "source": [
        "**7. Write a generator, genPrimes, that returns the sequence of prime numbers on successive calls to its next() method: 2, 3, 5, 7, 11, ...**"
      ],
      "metadata": {
        "id": "jU4Pp6hSCYBC"
      }
    },
    {
      "cell_type": "code",
      "source": [
        "'''All prime numbers except 2 and 3 can be written in the the\n",
        "form of 6n+1 or 6n-1'''\n",
        "def getPrimes():\n",
        "  n=0\n",
        "  while True:\n",
        "    if n == 2 or n == 3:\n",
        "      yield n\n",
        "    elif ((n-1)%6 == 0 or (n+1)%6 == 0) and n!=1:\n",
        "      yield n\n",
        "    n += 1\n",
        "output = getPrimes()\n",
        "for i in range(5):\n",
        "  print(next(output))"
      ],
      "metadata": {
        "colab": {
          "base_uri": "https://localhost:8080/"
        },
        "id": "i915J_vvDM5P",
        "outputId": "29d42625-b52f-464d-9455-0837d2a2dc8a"
      },
      "execution_count": 9,
      "outputs": [
        {
          "output_type": "stream",
          "name": "stdout",
          "text": [
            "2\n",
            "3\n",
            "5\n",
            "7\n",
            "11\n"
          ]
        }
      ]
    }
  ]
}