{
 "cells": [
  {
   "cell_type": "markdown",
   "id": "76e01f30",
   "metadata": {},
   "source": [
    "<h4> 1. To what does a relative path refer?"
   ]
  },
  {
   "cell_type": "markdown",
   "id": "ace23a1f",
   "metadata": {},
   "source": [
    "The relative path is the path to some file with respect to your Current Working Directory (cwd). When current working directory(cwd) combines with relative path it is called absolute path."
   ]
  },
  {
   "cell_type": "markdown",
   "id": "08dad041",
   "metadata": {},
   "source": [
    "<h4> 2. Where does an absolute path start with your operating system?"
   ]
  },
  {
   "cell_type": "markdown",
   "id": "41508c34",
   "metadata": {},
   "source": [
    "In Linux based systems the absolute path starts `/`, whereas in windows based systems absolute path starts with `C:`"
   ]
  },
  {
   "cell_type": "markdown",
   "id": "503c851c",
   "metadata": {},
   "source": [
    "<h4>3. What do the functions os.getcwd() and os.chdir() do?"
   ]
  },
  {
   "cell_type": "markdown",
   "id": "db20b4c8",
   "metadata": {},
   "source": [
    "`os.getcwd()` method tells us the location of current working directory(cwd). Whereas `os.chdir()` method in Python is used to change the current working directory to the specified path. These functions are similar to linux commands `pwd` and `cd`"
   ]
  },
  {
   "cell_type": "markdown",
   "id": "f3d26fa2",
   "metadata": {},
   "source": [
    "<h4>4. What are the . and .. folders?"
   ]
  },
  {
   "cell_type": "markdown",
   "id": "cd9eb916",
   "metadata": {},
   "source": [
    "`.` represents the current working directory whereas `..` represent the parent directory of the current working directory."
   ]
  },
  {
   "cell_type": "markdown",
   "id": "bc4ec155",
   "metadata": {},
   "source": [
    "<h4>5. In C:\\bacon\\eggs\\spam.txt, which part is the dir name, and which part is the base name?"
   ]
  },
  {
   "cell_type": "markdown",
   "id": "34449c0e",
   "metadata": {},
   "source": [
    "The dir name is `C:\\bacon\\eggs`<br>\n",
    "The base name is `spam.txt`"
   ]
  },
  {
   "cell_type": "code",
   "execution_count": 4,
   "id": "bd74bc9c",
   "metadata": {},
   "outputs": [
    {
     "name": "stdout",
     "output_type": "stream",
     "text": [
      "C:\\bacon\\eggs\n",
      "spam.txt\n"
     ]
    }
   ],
   "source": [
    "import os\n",
    "path = r'C:\\bacon\\eggs\\spam.txt'\n",
    "print(os.path.dirname(path))\n",
    "print(os.path.basename(path))"
   ]
  },
  {
   "cell_type": "markdown",
   "id": "6bba99ea",
   "metadata": {},
   "source": [
    "<h4> 6. What are the three “mode” arguments that can be passed to the open() function?"
   ]
  },
  {
   "cell_type": "markdown",
   "id": "b1eaa6a6",
   "metadata": {},
   "source": [
    "A file can be accessed in python using `open()` function. Open function takes two arguments filename and mode of operation(optional). If mode is not provided the default mode of opening is in read mode. So, the syntax is `open(filename, mode)`<br>\n",
    "The different types of modes are `r`:Read Mode, `w`:Write Mode, `r+`:Read/Write Mode, `a`:Append Mode,\n",
    "`a+`: Append and Read Mode, `x`:Exclusive Creating Mode"
   ]
  },
  {
   "cell_type": "markdown",
   "id": "4d81b719",
   "metadata": {},
   "source": [
    "<h4>7. What happens if an existing file is opened in write mode?"
   ]
  },
  {
   "cell_type": "markdown",
   "id": "846124b2",
   "metadata": {},
   "source": [
    "If an existing file is opened in write mode the existing file is overwritten. If the given file does not exist, a new one will be created."
   ]
  },
  {
   "cell_type": "markdown",
   "id": "6e8aa40b",
   "metadata": {},
   "source": [
    "<h4>8. How do you tell the difference between read() and readlines()?"
   ]
  },
  {
   "cell_type": "markdown",
   "id": "b13a7db2",
   "metadata": {},
   "source": [
    "The main difference is that `read()` will read the whole file at once and then print out the characters that take up as many bytes as you specify in the parenthesis.<br>\n",
    "The `readline()` will read and print out only the first characters that take up as many bytes as specified in the parenthesis. `readline()` can be used when reading a file that are too big for the RAM"
   ]
  },
  {
   "cell_type": "markdown",
   "id": "8715c540",
   "metadata": {},
   "source": [
    "<h4>9. What data structure does a shelf value resemble?"
   ]
  },
  {
   "cell_type": "markdown",
   "id": "fbd78ab3",
   "metadata": {},
   "source": [
    "It contains key and values, and represent a dictionary."
   ]
  }
 ],
 "metadata": {
  "kernelspec": {
   "display_name": "Python 3 (ipykernel)",
   "language": "python",
   "name": "python3"
  },
  "language_info": {
   "codemirror_mode": {
    "name": "ipython",
    "version": 3
   },
   "file_extension": ".py",
   "mimetype": "text/x-python",
   "name": "python",
   "nbconvert_exporter": "python",
   "pygments_lexer": "ipython3",
   "version": "3.9.7"
  }
 },
 "nbformat": 4,
 "nbformat_minor": 5
}
