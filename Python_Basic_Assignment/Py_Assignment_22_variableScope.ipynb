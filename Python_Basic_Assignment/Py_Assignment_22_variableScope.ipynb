{
  "nbformat": 4,
  "nbformat_minor": 0,
  "metadata": {
    "colab": {
      "provenance": [],
      "authorship_tag": "ABX9TyNHTbcrKRUFFXrvhU5nc5VA",
      "include_colab_link": true
    },
    "kernelspec": {
      "name": "python3",
      "display_name": "Python 3"
    },
    "language_info": {
      "name": "python"
    },
    "gpuClass": "standard"
  },
  "cells": [
    {
      "cell_type": "markdown",
      "metadata": {
        "id": "view-in-github",
        "colab_type": "text"
      },
      "source": [
        "<a href=\"https://colab.research.google.com/github/adnanhussai9/FSDS-Assignment/blob/main/Python_Basic_Assignment/Py_Assignment_22_variableScope.ipynb\" target=\"_parent\"><img src=\"https://colab.research.google.com/assets/colab-badge.svg\" alt=\"Open In Colab\"/></a>"
      ]
    },
    {
      "cell_type": "markdown",
      "source": [
        "# Assignment 22 Solution"
      ],
      "metadata": {
        "id": "VPuZQEKh_C0E"
      }
    },
    {
      "cell_type": "markdown",
      "source": [
        "**1. What is the result of the code, and explain?<br><br>X = &#39;iNeuron&#39;<br>def func():<br>&gt;&gt;&gt; print(X)<br>func()**"
      ],
      "metadata": {
        "id": "AsBq9T_I2esE"
      }
    },
    {
      "cell_type": "code",
      "source": [
        "X= 'iNeuron'\n",
        "def fun():\n",
        "  print(X)\n",
        "\n",
        "fun()"
      ],
      "metadata": {
        "colab": {
          "base_uri": "https://localhost:8080/"
        },
        "id": "Qe6G86MJ23G2",
        "outputId": "754b4447-ab57-45b5-b34c-997db06bcbe7"
      },
      "execution_count": 1,
      "outputs": [
        {
          "output_type": "stream",
          "name": "stdout",
          "text": [
            "iNeuron\n"
          ]
        }
      ]
    },
    {
      "cell_type": "markdown",
      "source": [
        "In the above code we defined a `global variable` named `X` and assigned value as 'iNeuron' to it. A function named `fun()` is created and the content of variable X is printed. When we call the function fun() it gives the output as `'iNeuron' `on the screen."
      ],
      "metadata": {
        "id": "vTt98T8A2emi"
      }
    },
    {
      "cell_type": "markdown",
      "source": [
        "**2. What is the result of the code, and explain?<br><br>X = &#39;iNeuron&#39;<br>\n",
        "def func():<br>&gt;&gt;&gt;X = &#39;NI!&#39;<br>func()<br>print(X)**"
      ],
      "metadata": {
        "id": "ugtwRHyF4ve0"
      }
    },
    {
      "cell_type": "code",
      "execution_count": 2,
      "metadata": {
        "colab": {
          "base_uri": "https://localhost:8080/"
        },
        "id": "TH7nDlBP2Nr9",
        "outputId": "92a2d3c8-befe-4bf8-dbaa-be5de048c307"
      },
      "outputs": [
        {
          "output_type": "stream",
          "name": "stdout",
          "text": [
            "iNeuron\n"
          ]
        }
      ],
      "source": [
        "X= 'iNeuron'\n",
        "def fun():\n",
        "  X='NI!'\n",
        "\n",
        "fun()\n",
        "print(X)"
      ]
    },
    {
      "cell_type": "markdown",
      "source": [
        "Variable X outside function is `global variable` and the variable X inside of function is a `local variable`, hence it is local to that function only and cannot be accessed outside."
      ],
      "metadata": {
        "id": "_hnglay752wX"
      }
    },
    {
      "cell_type": "markdown",
      "source": [
        "**3. What does this code print, and why?<br><br>X = &#39;iNeuron&#39;<br>\n",
        "def func():<br>&gt;&gt;&gt;X = &#39;NI!&#39;<br>&gt;&gt;&gt;print(X)<br>func()<br>print(X)**"
      ],
      "metadata": {
        "id": "T2WeQbxP6keb"
      }
    },
    {
      "cell_type": "code",
      "source": [
        "X= 'iNeuron'\n",
        "def fun():\n",
        "  X='NI!'\n",
        "  print(X)\n",
        "\n",
        "fun()\n",
        "print(X)"
      ],
      "metadata": {
        "colab": {
          "base_uri": "https://localhost:8080/"
        },
        "id": "q-a-PSYj7GzR",
        "outputId": "9fb1b816-3414-496b-bc05-ef20ff13bf13"
      },
      "execution_count": 3,
      "outputs": [
        {
          "output_type": "stream",
          "name": "stdout",
          "text": [
            "NI!\n",
            "iNeuron\n"
          ]
        }
      ]
    },
    {
      "cell_type": "markdown",
      "source": [
        "The first output is `'NI!'` because `local variable` is printed while for second output `'iNeuron'` the `global variable` is printed."
      ],
      "metadata": {
        "id": "DC7cgPAb7HgQ"
      }
    },
    {
      "cell_type": "markdown",
      "source": [
        "**4. What output does this code produce? Why?<br><br>X = &#39;iNeuron&#39;<br>\n",
        "def func():<br>&gt;&gt;&gt;global X<br>&gt;&gt;&gt;X = &#39;NI!&#39;<br>func()<br>print(X)**"
      ],
      "metadata": {
        "id": "k6auyKPt9EEo"
      }
    },
    {
      "cell_type": "code",
      "source": [
        "X= 'iNeuron'\n",
        "def fun():\n",
        "  global X\n",
        "  X='NI!'\n",
        "\n",
        "fun()\n",
        "print(X)"
      ],
      "metadata": {
        "colab": {
          "base_uri": "https://localhost:8080/"
        },
        "id": "cOnKv4qE69w6",
        "outputId": "24d1a2c1-c176-4831-d17d-d8e6bbb21c91"
      },
      "execution_count": 4,
      "outputs": [
        {
          "output_type": "stream",
          "name": "stdout",
          "text": [
            "NI!\n"
          ]
        }
      ]
    },
    {
      "cell_type": "markdown",
      "source": [
        "Here, the output is `'NI!'` because the variable `X` inside of function 'fun()' is made global explicitly."
      ],
      "metadata": {
        "id": "xyFeDYxG90J9"
      }
    },
    {
      "cell_type": "markdown",
      "source": [
        "**5. What about this code—what’s the output, and why?<br><br>X = &#39;iNeuron&#39;<br>\n",
        "def func():<br>&gt;&gt;&gt;X = &#39;NI!&#39;<br>&gt;&gt;&gt;def nested():<br>&gt;&gt;&gt;&gt;&gt;&gt;print(X)<br>&gt;&gt;&gt;nested()<br>func()<br>print(X)**"
      ],
      "metadata": {
        "id": "iZzO4iIr-VBb"
      }
    },
    {
      "cell_type": "code",
      "source": [
        "X = 'iNeuron'\n",
        "def func():\n",
        "    X = 'NI'\n",
        "    def nested():\n",
        "        print(X)\n",
        "    nested()\n",
        "    \n",
        "func()\n",
        "X"
      ],
      "metadata": {
        "colab": {
          "base_uri": "https://localhost:8080/",
          "height": 52
        },
        "id": "rey7G-m7AY8A",
        "outputId": "69b37bd4-428f-48bd-f32d-bbec644bad75"
      },
      "execution_count": 5,
      "outputs": [
        {
          "output_type": "stream",
          "name": "stdout",
          "text": [
            "NI\n"
          ]
        },
        {
          "output_type": "execute_result",
          "data": {
            "text/plain": [
              "'iNeuron'"
            ],
            "application/vnd.google.colaboratory.intrinsic+json": {
              "type": "string"
            }
          },
          "metadata": {},
          "execution_count": 5
        }
      ]
    },
    {
      "cell_type": "markdown",
      "source": [
        "The `print(X)` inside the `nested()` function is under the local scope of varible `X` of function `fun()`, therefore the first print of X give 'NI' while the other gives 'iNeuron' because the of global variable X."
      ],
      "metadata": {
        "id": "_CT2iItp6-J5"
      }
    },
    {
      "cell_type": "markdown",
      "source": [
        "**6. How about this code: what is its output in Python 3, and explain?<br><br>\n",
        "def func():<br>&gt;&gt;&gt; X = &#39;NI!&#39;<br>&gt;&gt;&gt; def nested():<br>&gt;&gt;&gt;&gt;&gt;&gt; nonlocal X<br>&gt;&gt;&gt;&gt;&gt;&gt; X = 'Spam'<br>&gt;&gt;&gt; nested()<br>&gt;&gt;&gt; print(X)<br>func()**"
      ],
      "metadata": {
        "id": "0yZ3Fep-74P7"
      }
    },
    {
      "cell_type": "code",
      "source": [
        "def func():\n",
        "    X = 'NI'\n",
        "    def nested():\n",
        "        nonlocal X\n",
        "        X = 'Spam'\n",
        "    nested()\n",
        "    print(X)\n",
        "func()"
      ],
      "metadata": {
        "colab": {
          "base_uri": "https://localhost:8080/"
        },
        "id": "IIFdCF0H9C7M",
        "outputId": "6b960c1f-736a-4f76-c121-ae2d2c8a2308"
      },
      "execution_count": 1,
      "outputs": [
        {
          "output_type": "stream",
          "name": "stdout",
          "text": [
            "Spam\n"
          ]
        }
      ]
    },
    {
      "cell_type": "markdown",
      "source": [
        "The variable X inside `nested()` function is declared `nonlocal` which does imply that varible is no longer local now. `nonlocal` is used to `access and modify the variable from nearest enclosing scope that is not global.`"
      ],
      "metadata": {
        "id": "i87MYYZ09KHT"
      }
    }
  ]
}