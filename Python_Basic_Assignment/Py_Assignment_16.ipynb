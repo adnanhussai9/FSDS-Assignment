{
  "cells": [
    {
      "cell_type": "markdown",
      "metadata": {
        "id": "view-in-github",
        "colab_type": "text"
      },
      "source": [
        "<a href=\"https://colab.research.google.com/github/adnanhussai9/FSDS-Assignment/blob/main/Python_Basic_Assignment/Py_Assignment_16.ipynb\" target=\"_parent\"><img src=\"https://colab.research.google.com/assets/colab-badge.svg\" alt=\"Open In Colab\"/></a>"
      ]
    },
    {
      "cell_type": "markdown",
      "id": "8b2e208a",
      "metadata": {
        "id": "8b2e208a"
      },
      "source": [
        "**1. Create a list called years_list, starting with the year of your birth, and each year thereafter until the year of your fifth birthday. For example, if you were born in 1980. the list would be years_list = [1980, 1981, 1982, 1983, 1984, 1985].**"
      ]
    },
    {
      "cell_type": "code",
      "execution_count": null,
      "id": "f98f2f79",
      "metadata": {
        "id": "f98f2f79",
        "outputId": "8cb7dfd5-7f03-4709-9737-19c141f9e220",
        "colab": {
          "base_uri": "https://localhost:8080/"
        }
      },
      "outputs": [
        {
          "output_type": "stream",
          "name": "stdout",
          "text": [
            "[1998, 1999, 2000, 2001, 2002, 2003]\n"
          ]
        }
      ],
      "source": [
        "years_list = [ele for ele in range(1998,1998+6)]\n",
        "print(years_list)"
      ]
    },
    {
      "cell_type": "markdown",
      "id": "53f11d18",
      "metadata": {
        "id": "53f11d18"
      },
      "source": [
        "**2. In which year in years_list was your third birthday? Remember, you were 0 years of age for your first year.**"
      ]
    },
    {
      "cell_type": "code",
      "execution_count": null,
      "id": "73ed754a",
      "metadata": {
        "id": "73ed754a",
        "outputId": "47483472-f057-40dd-e2f1-0fed541592d9",
        "colab": {
          "base_uri": "https://localhost:8080/"
        }
      },
      "outputs": [
        {
          "output_type": "stream",
          "name": "stdout",
          "text": [
            "2001\n"
          ]
        }
      ],
      "source": [
        "print(years_list[3])"
      ]
    },
    {
      "cell_type": "markdown",
      "id": "75fe5c14",
      "metadata": {
        "id": "75fe5c14"
      },
      "source": [
        "**3.In the years list, which year were you the oldest?**"
      ]
    },
    {
      "cell_type": "code",
      "execution_count": null,
      "id": "dbf3bf0e",
      "metadata": {
        "id": "dbf3bf0e",
        "outputId": "1452a078-e1f8-4c8d-b108-13bea7d84cd8",
        "colab": {
          "base_uri": "https://localhost:8080/"
        }
      },
      "outputs": [
        {
          "output_type": "stream",
          "name": "stdout",
          "text": [
            "2003\n"
          ]
        }
      ],
      "source": [
        "print(years_list[-1])"
      ]
    },
    {
      "cell_type": "markdown",
      "id": "547d3121",
      "metadata": {
        "id": "547d3121"
      },
      "source": [
        "**4. Make a list called things with these three strings as elements: \"mozzarella\", \"cinderella\", \"salmonella\".**"
      ]
    },
    {
      "cell_type": "code",
      "execution_count": null,
      "id": "7d0e9971",
      "metadata": {
        "id": "7d0e9971",
        "outputId": "db62a61b-d53f-4e66-f372-3753aef221e8",
        "colab": {
          "base_uri": "https://localhost:8080/"
        }
      },
      "outputs": [
        {
          "output_type": "stream",
          "name": "stdout",
          "text": [
            "['mozzarella', 'cinderella', 'salmonella']\n"
          ]
        }
      ],
      "source": [
        "things = [ele+'ella' for ele in ['mozzar','cinder','salmon']]\n",
        "print(things)"
      ]
    },
    {
      "cell_type": "markdown",
      "id": "343162ff",
      "metadata": {
        "id": "343162ff"
      },
      "source": [
        "**5. Capitalize the element in things that refers to a person and then print the list. Did it change the element in the list?**"
      ]
    },
    {
      "cell_type": "code",
      "execution_count": null,
      "id": "2cb97cb0",
      "metadata": {
        "id": "2cb97cb0",
        "outputId": "df6d0b6a-749d-43a5-9142-be570d292e04",
        "colab": {
          "base_uri": "https://localhost:8080/"
        }
      },
      "outputs": [
        {
          "output_type": "stream",
          "name": "stdout",
          "text": [
            "['mozzarella', 'Cinderella', 'salmonella']\n"
          ]
        }
      ],
      "source": [
        "for ele in range(len(things)):\n",
        "    if things[ele] == 'cinderella':\n",
        "        things[ele] = things[ele].capitalize()\n",
        "print(things)"
      ]
    },
    {
      "cell_type": "markdown",
      "id": "1a3f12df",
      "metadata": {
        "id": "1a3f12df"
      },
      "source": [
        "**6. Make a surprise list with the elements \"Groucho,\" \"Chico,\" and \"Harpo.\"**"
      ]
    },
    {
      "cell_type": "code",
      "execution_count": null,
      "id": "2baf9583",
      "metadata": {
        "id": "2baf9583",
        "outputId": "647a62a7-9d90-42fd-ce60-e5d459f55a95",
        "colab": {
          "base_uri": "https://localhost:8080/"
        }
      },
      "outputs": [
        {
          "output_type": "stream",
          "name": "stdout",
          "text": [
            "['Groucho', 'Chico', 'Harpo']\n"
          ]
        }
      ],
      "source": [
        "suprise_list = ['Groucho','Chico','Harpo']\n",
        "print(suprise_list)"
      ]
    },
    {
      "cell_type": "markdown",
      "id": "363d3992",
      "metadata": {
        "id": "363d3992"
      },
      "source": [
        "**7. Lowercase the last element of the surprise list, reverse it, and then capitalize it.**"
      ]
    },
    {
      "cell_type": "code",
      "execution_count": null,
      "id": "68e92414",
      "metadata": {
        "id": "68e92414",
        "outputId": "a82d910d-fe60-4e05-90b7-120d2528791c",
        "colab": {
          "base_uri": "https://localhost:8080/"
        }
      },
      "outputs": [
        {
          "output_type": "stream",
          "name": "stdout",
          "text": [
            "Oprah\n"
          ]
        }
      ],
      "source": [
        "print(suprise_list[-1].lower()[::-1].capitalize())"
      ]
    },
    {
      "cell_type": "markdown",
      "id": "fca0656b",
      "metadata": {
        "id": "fca0656b"
      },
      "source": [
        "**8. Make an English-to-French dictionary called e2f and print it. Here are your starter words: dog is chien, cat is chat, and walrus is morse.**"
      ]
    },
    {
      "cell_type": "code",
      "execution_count": null,
      "id": "c44ff88e",
      "metadata": {
        "id": "c44ff88e",
        "outputId": "9af3d66f-a31d-49b2-943c-098bb0cc87d7",
        "colab": {
          "base_uri": "https://localhost:8080/"
        }
      },
      "outputs": [
        {
          "output_type": "stream",
          "name": "stdout",
          "text": [
            "{'dog': 'chien', 'cat': 'chat', 'walrus': 'morse'}\n"
          ]
        }
      ],
      "source": [
        "e2f = {'dog':'chien','cat':'chat','walrus':'morse'}\n",
        "print(e2f)"
      ]
    },
    {
      "cell_type": "markdown",
      "id": "30528203",
      "metadata": {
        "id": "30528203"
      },
      "source": [
        "**9. Write the French word for walrus in your three-word dictionary e2f.**"
      ]
    },
    {
      "cell_type": "code",
      "execution_count": null,
      "id": "2f33cb74",
      "metadata": {
        "id": "2f33cb74",
        "outputId": "5ac06a0e-8331-460e-b00c-91c80d5c08bf",
        "colab": {
          "base_uri": "https://localhost:8080/"
        }
      },
      "outputs": [
        {
          "output_type": "stream",
          "name": "stdout",
          "text": [
            "morse\n"
          ]
        }
      ],
      "source": [
        "print(e2f.get('walrus'))"
      ]
    },
    {
      "cell_type": "markdown",
      "id": "cd6847c4",
      "metadata": {
        "id": "cd6847c4"
      },
      "source": [
        "**10. Make a French-to-English dictionary called f2e from e2f. Use the items method.**"
      ]
    },
    {
      "cell_type": "code",
      "execution_count": null,
      "id": "36bc927e",
      "metadata": {
        "id": "36bc927e",
        "outputId": "8ac08938-ade3-4d44-9e42-60d57789819e",
        "colab": {
          "base_uri": "https://localhost:8080/"
        }
      },
      "outputs": [
        {
          "output_type": "stream",
          "name": "stdout",
          "text": [
            "{'chien': 'dog', 'chat': 'cat', 'morse': 'walrus'}\n"
          ]
        }
      ],
      "source": [
        "f2e = dict([ele[::-1] for ele in e2f.items()])\n",
        "print(f2e)"
      ]
    },
    {
      "cell_type": "markdown",
      "id": "5b97492b",
      "metadata": {
        "id": "5b97492b"
      },
      "source": [
        "**11. Print the English version of the French word chien using f2e.**"
      ]
    },
    {
      "cell_type": "code",
      "execution_count": null,
      "id": "491998e7",
      "metadata": {
        "id": "491998e7",
        "outputId": "38abf02c-882c-472b-f191-54832493c443",
        "colab": {
          "base_uri": "https://localhost:8080/"
        }
      },
      "outputs": [
        {
          "output_type": "stream",
          "name": "stdout",
          "text": [
            "dog\n"
          ]
        }
      ],
      "source": [
        "print(f2e.get('chien'))"
      ]
    },
    {
      "cell_type": "markdown",
      "id": "f23702c7",
      "metadata": {
        "id": "f23702c7"
      },
      "source": [
        "**12. Make and print a set of English words from the keys in e2f.**"
      ]
    },
    {
      "cell_type": "code",
      "execution_count": null,
      "id": "87105261",
      "metadata": {
        "id": "87105261",
        "outputId": "d07268ae-271a-430a-fc38-282a3dc912bf",
        "colab": {
          "base_uri": "https://localhost:8080/"
        }
      },
      "outputs": [
        {
          "output_type": "stream",
          "name": "stdout",
          "text": [
            "['dog', 'cat', 'walrus']\n"
          ]
        }
      ],
      "source": [
        "print(list(e2f.keys()))"
      ]
    },
    {
      "cell_type": "markdown",
      "id": "4e256021",
      "metadata": {
        "id": "4e256021"
      },
      "source": [
        "**13. Make a multilevel dictionary called life. Use these strings for the topmost keys: 'animals', 'plants', and 'other'. Make the 'animals' key refer to another dictionary with the keys 'cats', 'octopi', and 'emus'. Make the 'cats' key refer to a list of strings with the values 'Henri', 'Grumpy', and 'Lucy'. Make all the other keys refer to empty dictionaries.**"
      ]
    },
    {
      "cell_type": "code",
      "execution_count": null,
      "id": "7f38dfaf",
      "metadata": {
        "id": "7f38dfaf",
        "outputId": "07ba592b-3360-4009-d333-74ae767f3642",
        "colab": {
          "base_uri": "https://localhost:8080/"
        }
      },
      "outputs": [
        {
          "output_type": "stream",
          "name": "stdout",
          "text": [
            "{'animals': {'cats': ['Henri', 'Grumpy', 'Lucy'], 'octopi': {}, 'emus': {}}, 'plants': {}, 'other': {}}\n"
          ]
        }
      ],
      "source": [
        "life = {\n",
        "    'animals':{\n",
        "        'cats':['Henri','Grumpy','Lucy'],\n",
        "        'octopi':{},\n",
        "        'emus':{}\n",
        "    },\n",
        "    'plants':{},\n",
        "    'other':{}\n",
        "}\n",
        "print(life)"
      ]
    },
    {
      "cell_type": "markdown",
      "id": "3616f392",
      "metadata": {
        "id": "3616f392"
      },
      "source": [
        "**14. Print the top-level keys of life.**"
      ]
    },
    {
      "cell_type": "code",
      "execution_count": null,
      "id": "035ef2db",
      "metadata": {
        "id": "035ef2db",
        "outputId": "c0c8c464-b144-403b-8eab-d4dcac2fa78c",
        "colab": {
          "base_uri": "https://localhost:8080/"
        }
      },
      "outputs": [
        {
          "output_type": "stream",
          "name": "stdout",
          "text": [
            "['animals', 'plants', 'other']\n"
          ]
        }
      ],
      "source": [
        "print(list(life.keys()))"
      ]
    },
    {
      "cell_type": "markdown",
      "id": "e1d4ef45",
      "metadata": {
        "id": "e1d4ef45"
      },
      "source": [
        "**15. Print the keys for life['animals'].**"
      ]
    },
    {
      "cell_type": "code",
      "execution_count": null,
      "id": "b05d9f11",
      "metadata": {
        "id": "b05d9f11",
        "outputId": "a257287f-138e-4557-821a-ebf0585a614e",
        "colab": {
          "base_uri": "https://localhost:8080/"
        }
      },
      "outputs": [
        {
          "output_type": "stream",
          "name": "stdout",
          "text": [
            "['cats', 'octopi', 'emus']\n"
          ]
        }
      ],
      "source": [
        "print(list(life['animals'].keys()))"
      ]
    },
    {
      "cell_type": "markdown",
      "id": "8dfc03a8",
      "metadata": {
        "id": "8dfc03a8"
      },
      "source": [
        "**16. Print the values for life['animals']['cats']**"
      ]
    },
    {
      "cell_type": "code",
      "execution_count": null,
      "id": "8a2b4b95",
      "metadata": {
        "id": "8a2b4b95",
        "outputId": "aa5f5a2a-72d2-4a92-f943-303083c6a411",
        "colab": {
          "base_uri": "https://localhost:8080/"
        }
      },
      "outputs": [
        {
          "output_type": "stream",
          "name": "stdout",
          "text": [
            "['Henri', 'Grumpy', 'Lucy']\n"
          ]
        }
      ],
      "source": [
        "print(life['animals']['cats'])"
      ]
    }
  ],
  "metadata": {
    "kernelspec": {
      "display_name": "Python 3 (ipykernel)",
      "language": "python",
      "name": "python3"
    },
    "language_info": {
      "codemirror_mode": {
        "name": "ipython",
        "version": 3
      },
      "file_extension": ".py",
      "mimetype": "text/x-python",
      "name": "python",
      "nbconvert_exporter": "python",
      "pygments_lexer": "ipython3",
      "version": "3.8.8"
    },
    "colab": {
      "provenance": [],
      "include_colab_link": true
    }
  },
  "nbformat": 4,
  "nbformat_minor": 5
}