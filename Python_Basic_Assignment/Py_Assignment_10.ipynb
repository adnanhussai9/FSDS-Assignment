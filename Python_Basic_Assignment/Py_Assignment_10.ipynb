{
 "cells": [
  {
   "cell_type": "markdown",
   "id": "ffaf07b7",
   "metadata": {},
   "source": [
    "<h4>1. How do you distinguish between shutil.copy() and shutil.copytree()?"
   ]
  },
  {
   "cell_type": "markdown",
   "id": "049972f0",
   "metadata": {},
   "source": [
    "`shutil.copy()` method is used to copy the contents of the file from one file to another file/folder, it primarily takes two arguments `src` (for source) and `dest` (for destination).<br>\n",
    "`shutil.copytree()` function is used to copy the entire contents of a folder. This also take two arguments `src` and `dest`."
   ]
  },
  {
   "cell_type": "markdown",
   "id": "7dbf26e1",
   "metadata": {},
   "source": [
    "<h4> 2. What function is used to rename files?"
   ]
  },
  {
   "cell_type": "markdown",
   "id": "34c85f1c",
   "metadata": {},
   "source": [
    "`os.rename()` function is used to rename files or directories using a python program. This function take two arguments `src` and `dest`. `src` represents the name of file/directory which we want to rename, whereas `dest` represents the new name of the file/directory."
   ]
  },
  {
   "cell_type": "markdown",
   "id": "1e48e96a",
   "metadata": {},
   "source": [
    "<h4> 3. What is the difference between the delete functions in the send2trash and shutil modules?"
   ]
  },
  {
   "cell_type": "markdown",
   "id": "8d60e60e",
   "metadata": {},
   "source": [
    "The delete function of sen2trash module do not delete the file permanently, instead it sends it to the trash from where it can be recovered if necessary.<br>\n",
    "While the delete function of shutil module deletes the file permanently."
   ]
  },
  {
   "cell_type": "markdown",
   "id": "498b9517",
   "metadata": {},
   "source": [
    "<h4> 4.ZipFile objects have a close() method just like File objects’ close() method. What ZipFile method is\n",
    "equivalent to File objects’ open() method?"
   ]
  },
  {
   "cell_type": "markdown",
   "id": "7ef644c4",
   "metadata": {},
   "source": [
    "ZipFile Module provides a method called as zipfile.ZipFile() to read and write to zipFiles. it takes arugments lile filename and mode etc zipfile.ZipFile('filename', mode = 'r')"
   ]
  },
  {
   "cell_type": "markdown",
   "id": "8f3138da",
   "metadata": {},
   "source": [
    "<h4> 5. Create a programme that searches a folder tree for files with a certain file extension (such as .pdf\n",
    "or .jpg). Copy these files from whatever location they are in to a new folder."
   ]
  },
  {
   "cell_type": "code",
   "execution_count": 3,
   "id": "62b1323c",
   "metadata": {},
   "outputs": [],
   "source": [
    "import os\n",
    "import shutil\n",
    "\n",
    "def search_and_copy(source, destination, extensions):\n",
    "    source = os.path.abspath(source)\n",
    "    destination = os.path.abspath(destination)\n",
    "    for foldername, subfolder, filenames in os.walk(source):\n",
    "        print(f'Folder Name ➞ {foldername}',end='\\n\\n')\n",
    "        print(f'Sub Folders ➞ {subfolder}',end='\\n\\n')\n",
    "        print(f'Files ➞ {filenames}',end='\\n\\n')\n",
    "        \n",
    "        for filename in filenames:\n",
    "            filename, extension = os.path.splitext(filename)\n",
    "            if extension in extensions:\n",
    "                targetFile = foldername + os.path.sep + fileName + extension\n",
    "                shutil.copy(targetfile, destination)\n",
    "        \n",
    "        print(f\"File copied successfully from {source} to {destination}\")\n",
    "\n",
    "extensions = ['.pdf','.jpg','.ipynb']\n",
    "source = 'Dummy Source'\n",
    "destination = 'Dummy Destination'\n",
    "search_and_copy(source, destination, extensions)"
   ]
  }
 ],
 "metadata": {
  "kernelspec": {
   "display_name": "Python 3 (ipykernel)",
   "language": "python",
   "name": "python3"
  },
  "language_info": {
   "codemirror_mode": {
    "name": "ipython",
    "version": 3
   },
   "file_extension": ".py",
   "mimetype": "text/x-python",
   "name": "python",
   "nbconvert_exporter": "python",
   "pygments_lexer": "ipython3",
   "version": "3.9.7"
  }
 },
 "nbformat": 4,
 "nbformat_minor": 5
}
