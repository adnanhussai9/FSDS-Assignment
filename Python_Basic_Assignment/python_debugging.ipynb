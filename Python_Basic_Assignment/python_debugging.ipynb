{
  "nbformat": 4,
  "nbformat_minor": 0,
  "metadata": {
    "colab": {
      "private_outputs": true,
      "provenance": []
    },
    "kernelspec": {
      "name": "python3",
      "display_name": "Python 3"
    },
    "language_info": {
      "name": "python"
    }
  },
  "cells": [
    {
      "cell_type": "markdown",
      "source": [
        "##Assignment 11 Solution"
      ],
      "metadata": {
        "id": "vYGKC_ip-5bk"
      }
    },
    {
      "cell_type": "markdown",
      "source": [
        "**1. Create an assert statement that throws an AssertionError if the variable spam is a negative\n",
        "integer.**"
      ],
      "metadata": {
        "id": "kfj3RilUDKSs"
      }
    },
    {
      "cell_type": "code",
      "execution_count": null,
      "metadata": {
        "id": "w2zPnAlP9kOa"
      },
      "outputs": [],
      "source": [
        "spam=-10\n",
        "assert spam>=0, \"spam variable should be positive number\""
      ]
    },
    {
      "cell_type": "markdown",
      "source": [
        "**2. Write an assert statement that triggers an AssertionError if the variables eggs and bacon contain\n",
        "strings that are the same as each other, even if their cases are different (that is, &#39;hello&#39; and &#39;hello&#39; are\n",
        "considered the same, and &#39;goodbye&#39; and &#39;GOODbye&#39; are also considered the same).**"
      ],
      "metadata": {
        "id": "t32ICqSZDib8"
      }
    },
    {
      "cell_type": "code",
      "source": [
        "def assert_st(egg,bacon):\n",
        "  egg = egg.upper()\n",
        "  bacon = bacon.upper()\n",
        "  assert egg != bacon, \"Egg and Bacon variable should not be same\""
      ],
      "metadata": {
        "id": "Q4mzkyeQDehN"
      },
      "execution_count": null,
      "outputs": []
    },
    {
      "cell_type": "code",
      "source": [
        "assert_st(\"goodbye\", \"GOODbye\")"
      ],
      "metadata": {
        "id": "AICeOWNZCgkR"
      },
      "execution_count": null,
      "outputs": []
    },
    {
      "cell_type": "markdown",
      "source": [
        "**3. Create an assert statement that throws an AssertionError every time.**"
      ],
      "metadata": {
        "id": "A1r1cf9QEvsd"
      }
    },
    {
      "cell_type": "code",
      "source": [
        "def always_assert():\n",
        "  assert False, \"Will always raise assertion error becoz it is False\"\n",
        "always_assert()"
      ],
      "metadata": {
        "id": "jX5StPoCFA53"
      },
      "execution_count": null,
      "outputs": []
    },
    {
      "cell_type": "markdown",
      "source": [
        "**4. What are the two lines that must be present in your software in order to call logging.debug()?**"
      ],
      "metadata": {
        "id": "zm9VNssPFz2q"
      }
    },
    {
      "cell_type": "code",
      "source": [
        "import logging\n",
        "logging.basicConfig(filename='app_log.txt', level=logging.DEBUG, format=' %(asctime)s - %(levelname)s - %(message)s')"
      ],
      "metadata": {
        "id": "BMqDnYutFGYz"
      },
      "execution_count": null,
      "outputs": []
    },
    {
      "cell_type": "markdown",
      "source": [
        "**5. What are two lines that your program must have in order to have logging.debug() send a logging message to a file named programLog.txt?**"
      ],
      "metadata": {
        "id": "su84z_mgHO8P"
      }
    },
    {
      "cell_type": "code",
      "source": [
        "import logging \n",
        "logging.basicConfig(filename='/logging_file/programLog.txt', filemode='w+', level=logging.DEBUG, format=' %(asctime)s - %(levelname)s - %(message)s')\n",
        "logging.debug(\"Data inserted successfully\")\n",
        "logging.debug(\"Connection closed successfully\")"
      ],
      "metadata": {
        "id": "EuzoG3FSILmn"
      },
      "execution_count": null,
      "outputs": []
    },
    {
      "cell_type": "markdown",
      "source": [
        "**6. What are the five levels of logging?**"
      ],
      "metadata": {
        "id": "4RlbZ4z-Omi_"
      }
    },
    {
      "cell_type": "markdown",
      "source": [
        "The five level of logging are 1. CRITICAL(50) 2. ERROR(40) 3. WARNING(30) 4. INFO(20) 5. DEBUG(10) 6. NOTSET(0)"
      ],
      "metadata": {
        "id": "JjslRvqoOsBT"
      }
    },
    {
      "cell_type": "markdown",
      "source": [
        "**7. What line of code would you add to your software to disable all logging messages?**"
      ],
      "metadata": {
        "id": "wPf5fYSbQABK"
      }
    },
    {
      "cell_type": "code",
      "source": [
        "logging.disable = True"
      ],
      "metadata": {
        "id": "o7s5qCTqOq3-"
      },
      "execution_count": null,
      "outputs": []
    },
    {
      "cell_type": "markdown",
      "source": [
        "**8. Why is using logging better than using print() to display the same message?**"
      ],
      "metadata": {
        "id": "ndCzYwV7QigT"
      }
    },
    {
      "cell_type": "markdown",
      "source": [
        "Post development of the code one can disable logging messages without removing the logging functions. Whereas, if you try to remove print statement manually it will be a tedious task. print() is used when you want to display any particular message or help whereas logging is used when you want to display any particular message or help whereas logging is used to record all events like error, info, debug messages, and timestamps."
      ],
      "metadata": {
        "id": "I3eNBg1ORDxE"
      }
    },
    {
      "cell_type": "markdown",
      "source": [
        "**9. What are the differences between the Step Over, Step In, and Step Out buttons in the debugger?**"
      ],
      "metadata": {
        "id": "dN550vN_SMnk"
      }
    },
    {
      "cell_type": "markdown",
      "source": [
        "1. Step in: Step In button will cause the debugger to execute the next line of code and then pause again.\n",
        "2. Step Over: Step Over button will execute the next line of code, similar to the step in button. But, if the next line of code is a function call, it will step over the code in the fuction. The function code will be executed, and the debugger will pause as soon as the function caall returns.\n",
        "3. Step Out: Step Out button will cause the debugger to execute lines of code at full speed until it returns from the current function."
      ],
      "metadata": {
        "id": "bOzmQ4ldSlfU"
      }
    },
    {
      "cell_type": "markdown",
      "source": [
        "**10. After you click Continue, when will the debugger stop?**"
      ],
      "metadata": {
        "id": "rLIR3EIPT88N"
      }
    },
    {
      "cell_type": "markdown",
      "source": [
        " This will cause the program to continue running normally, without pausing for debugging until it terminates or reaches a breakpoint."
      ],
      "metadata": {
        "id": "0aveOxCrY4Qg"
      }
    },
    {
      "cell_type": "markdown",
      "source": [
        "**11. What is the concept of a breakpoint?**"
      ],
      "metadata": {
        "id": "lhkpT_fGZQ5X"
      }
    },
    {
      "cell_type": "markdown",
      "source": [
        "breakpoint() allows us to write loosely coupled debugging code. It is a setting on a line of code that causes the debugger to pause the debugging process.\n",
        "\n",
        "It’s recommended to use this for debugging so that you can easily hook other third-party debuggers on the fly. It also provides an easy option to disable the debugger and runs the program normally."
      ],
      "metadata": {
        "id": "fP0i-rzJZd1n"
      }
    }
  ]
}