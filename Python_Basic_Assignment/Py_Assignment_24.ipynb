{
  "nbformat": 4,
  "nbformat_minor": 0,
  "metadata": {
    "colab": {
      "provenance": [],
      "authorship_tag": "ABX9TyN8pKnFi140uRTzbsORa7Ci",
      "include_colab_link": true
    },
    "kernelspec": {
      "name": "python3",
      "display_name": "Python 3"
    },
    "language_info": {
      "name": "python"
    },
    "gpuClass": "standard"
  },
  "cells": [
    {
      "cell_type": "markdown",
      "metadata": {
        "id": "view-in-github",
        "colab_type": "text"
      },
      "source": [
        "<a href=\"https://colab.research.google.com/github/adnanhussai9/FSDS-Assignment/blob/main/Python_Basic_Assignment/Py_Assignment_24.ipynb\" target=\"_parent\"><img src=\"https://colab.research.google.com/assets/colab-badge.svg\" alt=\"Open In Colab\"/></a>"
      ]
    },
    {
      "cell_type": "markdown",
      "source": [
        "# Assignment 24 Solution"
      ],
      "metadata": {
        "id": "yXW4QHENen4N"
      }
    },
    {
      "cell_type": "markdown",
      "source": [
        "**1. What is the relationship between def statements and lambda expressions ?**\n"
      ],
      "metadata": {
        "id": "R75gfYELeg-x"
      }
    },
    {
      "cell_type": "markdown",
      "source": [
        "Both def statements and lambda expression does some work that is defined and returns an output. Both have same kind of metadata and capablities.<br>\n",
        "In def statement we can use `multline expression`, but in lambda function the expression is written in a `single line`. Lambda function are `anonymous function` which is assigned to a variable, and can be called later using that variable."
      ],
      "metadata": {
        "id": "m8cdRyVXejTt"
      }
    },
    {
      "cell_type": "markdown",
      "source": [
        "**2. What is the benefit of lambda?**"
      ],
      "metadata": {
        "id": "lBjM9aQNhiwj"
      }
    },
    {
      "cell_type": "markdown",
      "source": [
        "Benefits of using lambda expression:\n",
        "1. Improve code `redability` and do not require interpretation.\n",
        "2. Allow to write `concise code`.\n",
        "3. Encourages the use of `functional programming`.\n",
        "4. Simplifies variable scope and encourages `code reusabilty`.\n",
        "5. Lambda function can be `assigned to a variable` and used by calling that variable."
      ],
      "metadata": {
        "id": "mmOONcMUl7r3"
      }
    },
    {
      "cell_type": "markdown",
      "source": [
        "**3. Compare and contrast map, filter, and reduce.**"
      ],
      "metadata": {
        "id": "rGn0mTBFmphp"
      }
    },
    {
      "cell_type": "markdown",
      "source": [
        "1. `map():` The map() takes other function as parameter and an iterable to which that function is to be applied. It returns an iterable object.\n",
        "2. `filter():` The filter() function returns an iterator object, where the items are filtered through a function to test if the items are true or not.\n",
        "3. `reduce()`: The reduce() function returns a single output after applying the function on an iterable."
      ],
      "metadata": {
        "id": "644V7OBdm6Ea"
      }
    },
    {
      "cell_type": "code",
      "execution_count": 5,
      "metadata": {
        "colab": {
          "base_uri": "https://localhost:8080/"
        },
        "id": "DHvphX7zea5L",
        "outputId": "d53eb9f8-5132-4f3a-ca73-aae175ab0721"
      },
      "outputs": [
        {
          "output_type": "stream",
          "name": "stdout",
          "text": [
            "[4, 16, 25, 36]\n",
            "[2, 4, 6, 8]\n",
            "5040\n"
          ]
        }
      ],
      "source": [
        "from functools import reduce\n",
        "\n",
        "# map() function\n",
        "print(list(map(lambda x:x**2, [2,4,5,6]))) # squares the number\n",
        "\n",
        "# filter() function\n",
        "print(list(filter(lambda x:x%2==0, [2,3,4,5,6,7,8]))) # filters even number\n",
        "\n",
        "# reduce() function\n",
        "print(reduce(lambda x,y:x*y, [1,2,3,4,5,6,7])) # gives product of all values"
      ]
    },
    {
      "cell_type": "markdown",
      "source": [
        "**4. What are function annotations, and how are they used?**"
      ],
      "metadata": {
        "id": "AyJ9lkPerrNY"
      }
    },
    {
      "cell_type": "markdown",
      "source": [
        "Function annotation provide a way of associating various parts of a function with arbitrary python expression at compile time.<br>\n",
        "1. Annotation for simple parameters:<br>\n",
        "`def foobar(a:expression, b:expression=5)`\n",
        "2. Annotation for excess parameters:<br>\n",
        "`def foobar(*args:expression, **kwargs:expression):`\n",
        "3. Annotation for nested parameters:<br>\n",
        "`def foobar((a:expression, b:expression), (c:expression, d:expression)):`\n",
        "4. Annotation for return type:<br>\n",
        "`def foobar(a:expression)->expression:`"
      ],
      "metadata": {
        "id": "k1wVHkSxrv_j"
      }
    },
    {
      "cell_type": "markdown",
      "source": [
        "**5. What are recursive functions, and how are they used?**"
      ],
      "metadata": {
        "id": "uKV_qLtPwUeT"
      }
    },
    {
      "cell_type": "markdown",
      "source": [
        "Recursive function are the function that call itself inside its block with some base case to end the execution. <br>\n",
        "We call the same function inside the block to call that function iteratively."
      ],
      "metadata": {
        "id": "11RLx1axwa_p"
      }
    },
    {
      "cell_type": "code",
      "source": [
        "# print natural number\n",
        "def natural(a):\n",
        "  if a==1:\n",
        "    return a\n",
        "  else:\n",
        "    print(a,end=' ')\n",
        "    return natural(a-1)\n",
        "\n",
        "print(natural(6))"
      ],
      "metadata": {
        "colab": {
          "base_uri": "https://localhost:8080/"
        },
        "id": "QwpxdpkMw8bD",
        "outputId": "bd42d5dc-c2b3-48a4-a159-8b1cdb564478"
      },
      "execution_count": 12,
      "outputs": [
        {
          "output_type": "stream",
          "name": "stdout",
          "text": [
            "6 5 4 3 2 1\n"
          ]
        }
      ]
    },
    {
      "cell_type": "markdown",
      "source": [
        "**6. What are some general design guidelines for coding functions?**"
      ],
      "metadata": {
        "id": "WkTHusgSyfSY"
      }
    },
    {
      "cell_type": "markdown",
      "source": [
        "Some general design guidelines for coding function are:\n",
        "1. Limited use of globals: Don't use too much global variables.\n",
        "2. Standard headers for different modules: `Headers must contain information` like name of the module, author of the module, date of the module creation, modification history, synopsis of the module about what module does, function description of the function used in module with input and output parameters, and global variables accessed or modified by the module.\n",
        "3. Naming conventions for local variables, global variables, constant and function: `Local Variables` names must be in `camel case` starting with small letters, `Global Variables` must `start with capital letters` and be in camel case, and `Constant` must be `all caps` (e.g. CONSDATA). It is better to avoid digits in variable names. The name of function must be written in camel case starting with small letters, and name must be meaniningful according to the working of function.\n",
        "4. Indentation: Use of `proper indentation increases the redability` of the code.\n",
        "5. Error return values and exception handling conventions: All functions that may encounter an `error condition` should either `return a 0 or 1` for simplification in debugging.\n",
        "6. Code should be well documented: `Comments` used properly helps others coders to `understand` it easily.\n",
        "7. Length of function should not be very large: `Lengthy functions should be broken into small ones for completing small tasks.`\n",
        "8. Try not to use GOTO statements."
      ],
      "metadata": {
        "id": "IXzVTNO_yj8g"
      }
    },
    {
      "cell_type": "markdown",
      "source": [
        "**7. Name three or more ways that functions can communicate results to a caller.**"
      ],
      "metadata": {
        "id": "HIkfrxaLpCif"
      }
    },
    {
      "cell_type": "markdown",
      "source": [
        "Three ways in which function can communicate with calling function is:\n",
        "1. print\n",
        "2. return \n",
        "3. yield"
      ],
      "metadata": {
        "id": "TZef9BBYpItA"
      }
    }
  ]
}