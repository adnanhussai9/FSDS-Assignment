{
 "cells": [
  {
   "cell_type": "markdown",
   "id": "41a3ca47",
   "metadata": {},
   "source": [
    "1.<br>\n",
    "There are two types of values in boolean data type and these are True and False.<br>\n",
    "True and False."
   ]
  },
  {
   "cell_type": "markdown",
   "id": "1a145a2c",
   "metadata": {},
   "source": [
    "2.<br>\n",
    "i.and, ii.or , iii.not"
   ]
  },
  {
   "cell_type": "markdown",
   "id": "558b5319",
   "metadata": {},
   "source": [
    "3.<br>\n",
    "Truth table for `and` operator:<br>\n",
    "True and True is True <br>\n",
    "True and False is False<br>\n",
    "False and True is False<br>\n",
    "False and False is False<br>\n",
    "<br>\n",
    "Truth table for `or` operator:<br>\n",
    "True or True is True <br>\n",
    "True or False is True<br>\n",
    "False or True is True<br>\n",
    "False or False is False<br>\n",
    "<br>\n",
    "`not` operator:<br>\n",
    "not False is True<br>\n",
    "not True is False\n",
    "\n"
   ]
  },
  {
   "cell_type": "markdown",
   "id": "d601333b",
   "metadata": {},
   "source": [
    "4.<br>\n",
    "(5>4)and(3==5) - False<br>\n",
    "not(5>4) - False<br>\n",
    "(5>4)or(3==5) - True<br>\n",
    "not((5>4)or(3==5)) - False<br>\n",
    "(True and True)and(True==False)- False<br>\n",
    "(not False)or(not True)- True<br>"
   ]
  },
  {
   "cell_type": "markdown",
   "id": "ddbe52ae",
   "metadata": {},
   "source": [
    "5.<br>\n",
    "Six comparision operators are:<br>\n",
    ",>, <, >=, <=, ==, !="
   ]
  },
  {
   "cell_type": "markdown",
   "id": "5f928285",
   "metadata": {},
   "source": [
    "6.<br>\n",
    "The equal operator(=) is used to assign a value to a variable or a variable value to another variable.<br>\n",
    "The comparision(==) operator is used to compare values of two variable or numbers or variables with numbers."
   ]
  },
  {
   "cell_type": "code",
   "execution_count": 2,
   "id": "33c19277",
   "metadata": {},
   "outputs": [
    {
     "name": "stdout",
     "output_type": "stream",
     "text": [
      "False\n",
      "10\n",
      "10\n"
     ]
    }
   ],
   "source": [
    "a=5\n",
    "b=10\n",
    "print(a==b) #False\n",
    "a=b\n",
    "print(a) #10\n",
    "print(b) #10"
   ]
  },
  {
   "cell_type": "code",
   "execution_count": 4,
   "id": "78ba5801",
   "metadata": {},
   "outputs": [
    {
     "name": "stdout",
     "output_type": "stream",
     "text": [
      "ham\n",
      "spam\n",
      "spam\n"
     ]
    }
   ],
   "source": [
    "##7\n",
    "\n",
    "spam = 0  \n",
    "if spam == 10:  \n",
    "    print('eggs')  # block 1\n",
    "if spam > 5:  \n",
    "    print('bacon')  # block 2\n",
    "else:  \n",
    "    print('ham')  # block 3\n",
    "print('spam')  \n",
    "print('spam')"
   ]
  },
  {
   "cell_type": "code",
   "execution_count": 11,
   "id": "b055fab4",
   "metadata": {},
   "outputs": [
    {
     "name": "stdout",
     "output_type": "stream",
     "text": [
      "Greeting!\n"
     ]
    }
   ],
   "source": [
    "##8\n",
    "\n",
    "spam=10\n",
    "if (spam==1):\n",
    "    print(\"Hello\")\n",
    "elif (spam==2):\n",
    "    print(\"Howdy\")\n",
    "else:\n",
    "    print(\"Greeting!\")"
   ]
  },
  {
   "cell_type": "markdown",
   "id": "04a0888c",
   "metadata": {},
   "source": [
    "9.<br>\n",
    "If the program is stuck in an infiniteloop:<br>\n",
    "restart the kernel (0,0)<br>\n",
    "interupt the kernel (I,I)<br>"
   ]
  },
  {
   "cell_type": "markdown",
   "id": "43612034",
   "metadata": {},
   "source": [
    "10.<br>\n",
    "The `break` keyword is used to come out of loop directly or based on some condition.<br>\n",
    "The `continue` keyword is used to continue the loop based on some satisfied condition."
   ]
  },
  {
   "cell_type": "markdown",
   "id": "caf3ba81",
   "metadata": {},
   "source": [
    "11.<br>\n",
    "If range(10) is used than the loop will run 10 times i.e. from 0 to 9. 10 is taken as end and by default start is 0 and step is 1.<br>\n",
    "In range(0,10) the same as above will happen but we have given both start and end value.<br>\n",
    "In range(0,10,1) we have given all the parameters which are start, end and step."
   ]
  },
  {
   "cell_type": "code",
   "execution_count": 17,
   "id": "d3c8519f",
   "metadata": {},
   "outputs": [
    {
     "name": "stdout",
     "output_type": "stream",
     "text": [
      "1 2 3 4 5 6 7 8 9 10 "
     ]
    }
   ],
   "source": [
    "##12\n",
    "for i in range(1,11):\n",
    "    print(i, end=\" \")"
   ]
  },
  {
   "cell_type": "code",
   "execution_count": 19,
   "id": "47d8d5b0",
   "metadata": {},
   "outputs": [
    {
     "name": "stdout",
     "output_type": "stream",
     "text": [
      "1 2 3 4 5 6 7 8 9 10 "
     ]
    }
   ],
   "source": [
    "i=1\n",
    "while i<11:\n",
    "    print(i,end=\" \")\n",
    "    i+=1"
   ]
  },
  {
   "cell_type": "markdown",
   "id": "7d28374d",
   "metadata": {},
   "source": [
    "13.<br>\n",
    "spam.bacon()"
   ]
  }
 ],
 "metadata": {
  "kernelspec": {
   "display_name": "Python 3 (ipykernel)",
   "language": "python",
   "name": "python3"
  },
  "language_info": {
   "codemirror_mode": {
    "name": "ipython",
    "version": 3
   },
   "file_extension": ".py",
   "mimetype": "text/x-python",
   "name": "python",
   "nbconvert_exporter": "python",
   "pygments_lexer": "ipython3",
   "version": "3.9.7"
  }
 },
 "nbformat": 4,
 "nbformat_minor": 5
}
