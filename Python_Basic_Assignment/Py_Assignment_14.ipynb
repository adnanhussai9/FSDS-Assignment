{
  "nbformat": 4,
  "nbformat_minor": 0,
  "metadata": {
    "colab": {
      "private_outputs": true,
      "provenance": [],
      "authorship_tag": "ABX9TyMZOnMdZN0N52t59howA6Ta",
      "include_colab_link": true
    },
    "kernelspec": {
      "name": "python3",
      "display_name": "Python 3"
    },
    "language_info": {
      "name": "python"
    }
  },
  "cells": [
    {
      "cell_type": "markdown",
      "metadata": {
        "id": "view-in-github",
        "colab_type": "text"
      },
      "source": [
        "<a href=\"https://colab.research.google.com/github/adnanhussai9/FSDS-Assignment/blob/main/Python_Basic_Assignment/Py_Assignment_14.ipynb\" target=\"_parent\"><img src=\"https://colab.research.google.com/assets/colab-badge.svg\" alt=\"Open In Colab\"/></a>"
      ]
    },
    {
      "cell_type": "markdown",
      "source": [
        "**1. What does RGBA stand for?**"
      ],
      "metadata": {
        "id": "LXyCQx65j_q6"
      }
    },
    {
      "cell_type": "markdown",
      "source": [
        "RGBA is four channel format containing data for `Red`, `Green`, `Blue`, and `Alpha` value. Here, Alpha stores the value of opacity."
      ],
      "metadata": {
        "id": "cADt87W9j_nd"
      }
    },
    {
      "cell_type": "markdown",
      "source": [
        "**2. From the Pillow module, how do you get the RGBA value of any images?**"
      ],
      "metadata": {
        "id": "-S7k76Voj_ke"
      }
    },
    {
      "cell_type": "code",
      "source": [
        "import PIL\n",
        "imgobj = PIL.Image.open('Fotor_AI.png')\n",
        "pixels = imgobj.convert('RGBA')\n",
        "data = imgobj.getdata()\n",
        "lofpixels = []\n",
        "for pixel in data:\n",
        "    lofpixels.extend(pixel)\n",
        "lofpixels"
      ],
      "metadata": {
        "id": "9pixJ5N4mtK-"
      },
      "execution_count": null,
      "outputs": []
    },
    {
      "cell_type": "markdown",
      "source": [
        "**3. What is a box tuple, and how does it work?**"
      ],
      "metadata": {
        "id": "LWGfyK9qj_fK"
      }
    },
    {
      "cell_type": "markdown",
      "source": [
        "A box tuple is a tuple value of four integers, the left-edge x-coordinate, the top-edge y-coordinate, the width and the height, respectively."
      ],
      "metadata": {
        "id": "k5YdBf9mj_VW"
      }
    },
    {
      "cell_type": "markdown",
      "source": [
        "**4. Use your image and load in notebook then, How can you find out the width and height of an Image object?**"
      ],
      "metadata": {
        "id": "-mWRrNYyj_HQ"
      }
    },
    {
      "cell_type": "code",
      "execution_count": null,
      "metadata": {
        "id": "KG0bLFshj592"
      },
      "outputs": [],
      "source": [
        "from PIL import Image\n",
        "imgobj = Image.open('Fotor_AI.png')\n",
        "\n",
        "imgobj.size # First is width and second is height"
      ]
    },
    {
      "cell_type": "markdown",
      "source": [
        "**5. What method would you call to get Image object for a 100×100 image, excluding the lower-left quarter of it?**"
      ],
      "metadata": {
        "id": "speRRL_9pP36"
      }
    },
    {
      "cell_type": "code",
      "source": [
        "from PIL import Image\n",
        "imgobj = Image.open('Fotor_AI.png')\n",
        "new_img = imgobj.crop((0,50,50,50))"
      ],
      "metadata": {
        "id": "e8LdkBolqcB6"
      },
      "execution_count": null,
      "outputs": []
    },
    {
      "cell_type": "markdown",
      "source": [
        "**6. After making changes to an Image object, how could you save it as an image file?**"
      ],
      "metadata": {
        "id": "6TetDwj3pXMF"
      }
    },
    {
      "cell_type": "markdown",
      "source": [
        "Image file is saved by calling the save() function on image object, it takes file name as parameter."
      ],
      "metadata": {
        "id": "5sH9Qryb6Dw1"
      }
    },
    {
      "cell_type": "code",
      "source": [
        "new_img.save('crop_img.png')"
      ],
      "metadata": {
        "id": "05P5yg0-54LF"
      },
      "execution_count": null,
      "outputs": []
    },
    {
      "cell_type": "markdown",
      "source": [
        "**7. What module contains Pillow’s shape-drawing code?**"
      ],
      "metadata": {
        "id": "tszGQV6BpWzv"
      }
    },
    {
      "cell_type": "markdown",
      "source": [
        "Pillows `ImageDraw` module contains Shape drawing methods"
      ],
      "metadata": {
        "id": "PpTXGN-gpWU5"
      }
    },
    {
      "cell_type": "markdown",
      "source": [
        "**8. Image objects do not have drawing methods. What kind of object does? How do you get this kind of object?**"
      ],
      "metadata": {
        "id": "DAn5Oe6K6oym"
      }
    },
    {
      "cell_type": "markdown",
      "source": [
        "ImageDraw objects have shape-drawing methods such as `point()`, `line()`, or `rectangle()`. This object is returned by passing the image file to `ImageDraw.Draw()` function."
      ],
      "metadata": {
        "id": "YG0Lsxy961YK"
      }
    }
  ]
}