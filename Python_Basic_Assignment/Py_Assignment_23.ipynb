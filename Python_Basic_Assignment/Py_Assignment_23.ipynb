{
  "nbformat": 4,
  "nbformat_minor": 0,
  "metadata": {
    "colab": {
      "provenance": [],
      "authorship_tag": "ABX9TyPQH/FMCu9Iz5e/3XmQZhIX",
      "include_colab_link": true
    },
    "kernelspec": {
      "name": "python3",
      "display_name": "Python 3"
    },
    "language_info": {
      "name": "python"
    },
    "gpuClass": "standard"
  },
  "cells": [
    {
      "cell_type": "markdown",
      "metadata": {
        "id": "view-in-github",
        "colab_type": "text"
      },
      "source": [
        "<a href=\"https://colab.research.google.com/github/adnanhussai9/FSDS-Assignment/blob/main/Python_Basic_Assignment/Py_Assignment_23.ipynb\" target=\"_parent\"><img src=\"https://colab.research.google.com/assets/colab-badge.svg\" alt=\"Open In Colab\"/></a>"
      ]
    },
    {
      "cell_type": "markdown",
      "source": [
        "# Assignment 23 Solution"
      ],
      "metadata": {
        "id": "SFVBL07wAqZS"
      }
    },
    {
      "cell_type": "markdown",
      "source": [
        "**1. What is the result of the code, and why?<br><br>\n",
        "def func(a, b=6, c=8):<br>\n",
        "&gt;&gt;&gt; print(a, b, c)<br>\n",
        "func(1, 2)**"
      ],
      "metadata": {
        "id": "8YI48oJRAvxc"
      }
    },
    {
      "cell_type": "code",
      "source": [
        "def func(a,b=6,c=8):\n",
        "    print(a,b,c)\n",
        "func(1,2)"
      ],
      "metadata": {
        "id": "VMFVCtRtAvLe"
      },
      "execution_count": null,
      "outputs": []
    },
    {
      "cell_type": "markdown",
      "source": [
        "Function `fun()` has default argument b and c with value assigned to it. If no value is given while calling the function, then this default value is used. In the above example while calling the function `fun()` the two argument `1 and 2` is given which is assigned positionally to a and b, while c has its default value `8`."
      ],
      "metadata": {
        "id": "6AA4vg9GBWiJ"
      }
    },
    {
      "cell_type": "markdown",
      "source": [
        "**2. What is the result of this code, and why?<br>\n",
        "def func(a, b, c=5):<br>\n",
        "&gt;&gt;&gt; print(a, b, c)<br>\n",
        "func(1, c=3, b=2)**"
      ],
      "metadata": {
        "id": "r_yzBXmHBWC9"
      }
    },
    {
      "cell_type": "code",
      "execution_count": null,
      "metadata": {
        "id": "s51h1MOu_1GH"
      },
      "outputs": [],
      "source": [
        "def func(a,b,c=5):\n",
        "    print(a,b,c)\n",
        "func(1,c=3,b=2)"
      ]
    },
    {
      "cell_type": "markdown",
      "source": [
        "**3. How about this code: what is its result, and why? <br> &gt;&gt;&gt; def func(a, *pargs): <br> print(a, pargs) <br> &gt;&gt;&gt; func(1, 2, 3)**"
      ],
      "metadata": {
        "id": "XXN-QrPdKnFn"
      }
    },
    {
      "cell_type": "code",
      "source": [
        "def func(a, *pargs):\n",
        "  print(a, pargs)\n",
        "func(1,2,3)"
      ],
      "metadata": {
        "colab": {
          "base_uri": "https://localhost:8080/"
        },
        "id": "UxnPOPfFTCbP",
        "outputId": "8897615b-0ac3-43df-ac77-1e8529bd1e1c"
      },
      "execution_count": 3,
      "outputs": [
        {
          "output_type": "stream",
          "name": "stdout",
          "text": [
            "1 (2, 3)\n"
          ]
        }
      ]
    },
    {
      "cell_type": "markdown",
      "source": [
        "In the above code the function `fun()` has an argument `a`, and a variable `pargs` that can take variable number of arguments in the form of `tuple`."
      ],
      "metadata": {
        "id": "njuDcNr2UK8L"
      }
    },
    {
      "cell_type": "markdown",
      "source": [
        "**4. What does this code print, and why?<br> &gt;&gt;&gt; def func(a, **kargs):<br> print(a, kargs)<br>&gt;&gt;&gt; func(a=1, c=3, b=2)**"
      ],
      "metadata": {
        "id": "VgS8GmcoVLN8"
      }
    },
    {
      "cell_type": "code",
      "source": [
        "def func(a, **kargs):\n",
        "  print(a, kargs)\n",
        "func(a=1, c=3, b=2)"
      ],
      "metadata": {
        "colab": {
          "base_uri": "https://localhost:8080/"
        },
        "id": "WahLy_qEVXmw",
        "outputId": "0600b5ae-8966-4822-962b-ee63c5043697"
      },
      "execution_count": 9,
      "outputs": [
        {
          "output_type": "stream",
          "name": "stdout",
          "text": [
            "1 {'c': 3, 'b': 2}\n"
          ]
        }
      ]
    },
    {
      "cell_type": "markdown",
      "source": [
        "In the above code value `1` is assigned to variavle `a`, while varible `kargs` variable with 2 asterisk `**` is called keywords arguments that can take multiple or no arguments in the form of `dictionary`. If a function is accepting keyword argument then it is cumpulsory that `variable must be given with its value`."
      ],
      "metadata": {
        "id": "xMiV9rW6V4XT"
      }
    },
    {
      "cell_type": "markdown",
      "source": [
        "**5. What gets printed by this, and explain?<br> &gt;&gt;&gt; def func(a, b, c=8, d=5):<br> print(a, b, c, d)<br> &gt;&gt;&gt; func(1, *(5, 6))**"
      ],
      "metadata": {
        "id": "e7qzedf5YRA2"
      }
    },
    {
      "cell_type": "code",
      "source": [
        "def func(a, b, c=8, d=5):\n",
        "  print(a, b, c, d)\n",
        "func(1, *(5, 6))"
      ],
      "metadata": {
        "colab": {
          "base_uri": "https://localhost:8080/"
        },
        "id": "9lsJBSmnYcs5",
        "outputId": "ea3f4632-a909-4210-9d57-3a94b8af8d21"
      },
      "execution_count": 10,
      "outputs": [
        {
          "output_type": "stream",
          "name": "stdout",
          "text": [
            "1 5 6 5\n"
          ]
        }
      ]
    },
    {
      "cell_type": "markdown",
      "source": [
        "Here, function `fun()` has 4 argument in which c and d have default value, while passing the value to the function the `1` is given directly to `a` positionally, `*(5,6)` is given as a tuple argument which is assigned to `b and c`, positionally."
      ],
      "metadata": {
        "id": "AhAU_2y7Y3P3"
      }
    },
    {
      "cell_type": "markdown",
      "source": [
        "**6. what is the result of this, and explain?<br> &gt;&gt;&gt; def func(a, b, c): a = 2; b[0] = &#39;x&#39;; c[&#39;a&#39;] = &#39;y&#39;<br> &gt;&gt;&gt; l=1; m=[1]; n={&#39;a&#39;:0}<br> &gt;&gt;&gt; func(l, m, n)<br> &gt;&gt;&gt; l, m, n**"
      ],
      "metadata": {
        "id": "MBhKEpx3aw-P"
      }
    },
    {
      "cell_type": "code",
      "source": [
        "def func(a,b,c): a = 2; b[0] = 'x'; c['a']='y'\n",
        "l=1; m=[1]; n={'a':0}\n",
        "func(l, m, n)\n",
        "l, m, n"
      ],
      "metadata": {
        "colab": {
          "base_uri": "https://localhost:8080/"
        },
        "id": "6EK5vNHkaD5V",
        "outputId": "129912cc-5a15-4632-83b4-0ce6b5013d0e"
      },
      "execution_count": 12,
      "outputs": [
        {
          "output_type": "execute_result",
          "data": {
            "text/plain": [
              "(1, ['x'], {'a': 'y'})"
            ]
          },
          "metadata": {},
          "execution_count": 12
        }
      ]
    },
    {
      "cell_type": "markdown",
      "source": [
        "1. Python provides facility of writing the whole function in the single line seperating each of them with `semicolon ;`.\n",
        "2. When l,m,n are provided as inputs to the function. its modifies the values of l,m,n and sets the value of `l=2 ,m=['x'] and n={'a':'y'}`"
      ],
      "metadata": {
        "id": "iAb6wHhmclg7"
      }
    }
  ]
}