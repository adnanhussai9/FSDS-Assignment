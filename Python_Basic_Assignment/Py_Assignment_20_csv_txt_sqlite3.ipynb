{
  "nbformat": 4,
  "nbformat_minor": 0,
  "metadata": {
    "colab": {
      "provenance": [],
      "authorship_tag": "ABX9TyPVTAr5DfHMHRjmKaHe+xV+",
      "include_colab_link": true
    },
    "kernelspec": {
      "name": "python3",
      "display_name": "Python 3"
    },
    "language_info": {
      "name": "python"
    },
    "gpuClass": "standard"
  },
  "cells": [
    {
      "cell_type": "markdown",
      "metadata": {
        "id": "view-in-github",
        "colab_type": "text"
      },
      "source": [
        "<a href=\"https://colab.research.google.com/github/adnanhussai9/FSDS-Assignment/blob/main/Python_Basic_Assignment/Py_Assignment_20_csv_txt_sqlite3.ipynb\" target=\"_parent\"><img src=\"https://colab.research.google.com/assets/colab-badge.svg\" alt=\"Open In Colab\"/></a>"
      ]
    },
    {
      "cell_type": "markdown",
      "source": [
        "# Assignment 20 Solutions"
      ],
      "metadata": {
        "id": "3vwK7lWVEVJ9"
      }
    },
    {
      "cell_type": "markdown",
      "source": [
        "**1. Set the variable test1 to the string 'This is a test of the emergency text system,' and save test1 to a file named test.txt.**"
      ],
      "metadata": {
        "id": "N8YKVjkbEgV6"
      }
    },
    {
      "cell_type": "code",
      "execution_count": 2,
      "metadata": {
        "id": "XdeqcTT75Wh1"
      },
      "outputs": [],
      "source": [
        "test1= 'This is a test of the emergency text system,'\n",
        "with open('test.txt','w') as file:\n",
        "  file.write(test1)\n",
        "  file.close()"
      ]
    },
    {
      "cell_type": "markdown",
      "source": [
        "**2. Read the contents of the file test.txt into the variable test2. Is there a difference between test 1 and test 2?**"
      ],
      "metadata": {
        "id": "K9UG0CLwFGnc"
      }
    },
    {
      "cell_type": "code",
      "source": [
        "with open('test.txt','r') as file:\n",
        "  test2 = file.read()\n",
        "print(test2)\n",
        "print(test1 == test2)"
      ],
      "metadata": {
        "colab": {
          "base_uri": "https://localhost:8080/"
        },
        "id": "TZR3axc1GAER",
        "outputId": "3644460d-96a0-4540-b9ee-21c09a20b739"
      },
      "execution_count": 3,
      "outputs": [
        {
          "output_type": "stream",
          "name": "stdout",
          "text": [
            "This is a test of the emergency text system,\n",
            "True\n"
          ]
        }
      ]
    },
    {
      "cell_type": "markdown",
      "source": [
        "No, there is no difference between these two."
      ],
      "metadata": {
        "id": "cofBqWyCGnxl"
      }
    },
    {
      "cell_type": "markdown",
      "source": [
        "3. Create a CSV file called books.csv by using these lines: <br>\n",
        "title,author,year<br>\n",
        "The Weirdstone of Brisingamen,Alan Garner,1960<br>\n",
        "Perdido Street Station,China Miéville,2000<br>\n",
        "Thud!,Terry Pratchett,2005<br>\n",
        "The Spellman Files,Lisa Lutz,2007<br>\n",
        "Small Gods,Terry Pratchett,1992<br>"
      ],
      "metadata": {
        "id": "5Cq89wT_Gwj3"
      }
    },
    {
      "cell_type": "code",
      "source": [
        "data = '''title,author,year\n",
        "The Weirdstone of Brisingamen,Alan Garner,1960\n",
        "Perdido Street Station,China Miéville,2000\n",
        "Thud!,Terry Pratchett,2005\n",
        "The Spellman Files,Lisa Lutz,2007\n",
        "Small Gods,Terry Pratchett,1992'''\n",
        "\n",
        "with open('books.csv','w') as file:\n",
        "  file.write(data)"
      ],
      "metadata": {
        "id": "Hsz57cenGik2"
      },
      "execution_count": 4,
      "outputs": []
    },
    {
      "cell_type": "code",
      "source": [
        "with open('books.csv', 'r') as file:\n",
        "  print(file.read())"
      ],
      "metadata": {
        "colab": {
          "base_uri": "https://localhost:8080/"
        },
        "id": "FwDyXuM6HjK0",
        "outputId": "a205bf35-1736-4ec2-9ea8-c43ab9c31c15"
      },
      "execution_count": 5,
      "outputs": [
        {
          "output_type": "stream",
          "name": "stdout",
          "text": [
            "title,author,year\n",
            "The Weirdstone of Brisingamen,Alan Garner,1960\n",
            "Perdido Street Station,China Miéville,2000\n",
            "Thud!,Terry Pratchett,2005\n",
            "The Spellman Files,Lisa Lutz,2007\n",
            "Small Gods,Terry Pratchett,1992\n"
          ]
        }
      ]
    },
    {
      "cell_type": "markdown",
      "source": [
        "**4. Use the sqlite3 module to create a SQLite database called books.db, and a table called books with these fields: title (text), author (text), and year (integer).**"
      ],
      "metadata": {
        "id": "BKGa_CauH1qw"
      }
    },
    {
      "cell_type": "code",
      "source": [
        "import sqlite3\n",
        "db = sqlite3.connect('books.db')\n",
        "cursor = db.cursor()\n",
        "cursor.execute('CREATE TABLE books (title text, author text, year integer)')\n",
        "db.commit()\n",
        "db.close()"
      ],
      "metadata": {
        "id": "eowqNP2sICJ6"
      },
      "execution_count": 6,
      "outputs": []
    },
    {
      "cell_type": "markdown",
      "source": [
        "**5. Read books.csv and insert its data into the books table.**"
      ],
      "metadata": {
        "id": "P_2KifBnJZvW"
      }
    },
    {
      "cell_type": "code",
      "source": [
        "import sqlite3\n",
        "import csv\n",
        "conn = sqlite3.connect('books.db')\n",
        "cursor = conn.cursor()\n",
        "with open('books.csv','r') as file:\n",
        "  books = csv.DictReader(file)\n",
        "  for book in books:\n",
        "    cursor.execute(\"INSERT INTO books VALUES (?,?,?)\", (book['title'], book['author'], book['year']))\n",
        "conn.commit()\n",
        "conn.close()"
      ],
      "metadata": {
        "id": "DUTe5COwJGFd"
      },
      "execution_count": 7,
      "outputs": []
    },
    {
      "cell_type": "markdown",
      "source": [
        "**6. Select and print the title column from the books table in alphabetical order.**"
      ],
      "metadata": {
        "id": "lCS9qd9rizVa"
      }
    },
    {
      "cell_type": "code",
      "source": [
        "import sqlite3\n",
        "db = sqlite3.connect('books.db')\n",
        "cursor = db.cursor()\n",
        "output = cursor.execute(\"SELECT title From books ORDER BY title ASC\")\n",
        "for items in output:\n",
        "  print(items[0])\n",
        "db.close()"
      ],
      "metadata": {
        "id": "FQ6paaxQg7gM",
        "colab": {
          "base_uri": "https://localhost:8080/"
        },
        "outputId": "8ac38db5-e0db-43bd-8db3-0151574a0df2"
      },
      "execution_count": 9,
      "outputs": [
        {
          "output_type": "stream",
          "name": "stdout",
          "text": [
            "Perdido Street Station\n",
            "Small Gods\n",
            "The Spellman Files\n",
            "The Weirdstone of Brisingamen\n",
            "Thud!\n"
          ]
        }
      ]
    },
    {
      "cell_type": "markdown",
      "source": [
        "**7. From the books table, select and print all columns in the order of publication.**"
      ],
      "metadata": {
        "id": "Z_IIFSEx2BhC"
      }
    },
    {
      "cell_type": "code",
      "source": [
        "import sqlite3\n",
        "conn = sqlite3.connect('books.db')\n",
        "cursor = conn.cursor()\n",
        "query = 'SELECT * FROM books ORDER BY year ASC'\n",
        "output = cursor.execute(query)\n",
        "for record in output:\n",
        "  print(record)"
      ],
      "metadata": {
        "colab": {
          "base_uri": "https://localhost:8080/"
        },
        "id": "WLBjr06R2GoM",
        "outputId": "aec9a8be-a984-43fd-dcd1-27c1a64708ab"
      },
      "execution_count": 13,
      "outputs": [
        {
          "output_type": "stream",
          "name": "stdout",
          "text": [
            "('The Weirdstone of Brisingamen', 'Alan Garner', 1960)\n",
            "('Small Gods', 'Terry Pratchett', 1992)\n",
            "('Perdido Street Station', 'China Miéville', 2000)\n",
            "('Thud!', 'Terry Pratchett', 2005)\n",
            "('The Spellman Files', 'Lisa Lutz', 2007)\n"
          ]
        }
      ]
    },
    {
      "cell_type": "markdown",
      "source": [
        "**8. Use the sqlalchemy module to connect to the sqlite3 database books.db that you just made in exercise 6.**"
      ],
      "metadata": {
        "id": "1zdcZsd13cQx"
      }
    },
    {
      "cell_type": "code",
      "source": [
        "import sqlalchemy\n",
        "conn = sqlalchemy.create_engine('sqlite:///books.db')\n",
        "conn"
      ],
      "metadata": {
        "colab": {
          "base_uri": "https://localhost:8080/"
        },
        "id": "qQHRCs8G3gHu",
        "outputId": "8fee0d95-5a9c-4d53-9ae5-da0217b5e14c"
      },
      "execution_count": 15,
      "outputs": [
        {
          "output_type": "execute_result",
          "data": {
            "text/plain": [
              "Engine(sqlite:///books.db)"
            ]
          },
          "metadata": {},
          "execution_count": 15
        }
      ]
    },
    {
      "cell_type": "markdown",
      "source": [
        "**9. Install the Redis server and the Python redis library (pip install redis) on your computer. Create a Redis hash called test with the fields count (1) and name ('Fester Bestertester'). Print all the fields for test.**"
      ],
      "metadata": {
        "id": "vqrHyn074O6R"
      }
    },
    {
      "cell_type": "code",
      "source": [
        "! python -m pip install redis"
      ],
      "metadata": {
        "colab": {
          "base_uri": "https://localhost:8080/"
        },
        "id": "RZoEaGNl4RvN",
        "outputId": "76144e52-0d69-4921-f796-3244f49fca0b"
      },
      "execution_count": 54,
      "outputs": [
        {
          "output_type": "stream",
          "name": "stdout",
          "text": [
            "Looking in indexes: https://pypi.org/simple, https://us-python.pkg.dev/colab-wheels/public/simple/\n",
            "Requirement already satisfied: redis in /usr/local/lib/python3.10/dist-packages (4.5.4)\n",
            "Requirement already satisfied: async-timeout>=4.0.2 in /usr/local/lib/python3.10/dist-packages (from redis) (4.0.2)\n"
          ]
        }
      ]
    },
    {
      "cell_type": "code",
      "source": [
        "import redis\n",
        "conn = redis.Redis()\n",
        "conn.hset('test',{\n",
        "    'count':1,\n",
        "    'name':'Fester Bestertester'\n",
        "})\n",
        "conn.hgetall('test')"
      ],
      "metadata": {
        "id": "jJadaYo94Z-V"
      },
      "execution_count": null,
      "outputs": []
    },
    {
      "cell_type": "markdown",
      "source": [
        "**10. Increment the count field of test and print it.**"
      ],
      "metadata": {
        "id": "IyAqkctl5NCm"
      }
    },
    {
      "cell_type": "code",
      "source": [
        "conn.hincrby('test', 'count', 1)\n",
        "conn.hget('test', 'count')"
      ],
      "metadata": {
        "id": "QWBLVRI15QBW"
      },
      "execution_count": null,
      "outputs": []
    }
  ]
}