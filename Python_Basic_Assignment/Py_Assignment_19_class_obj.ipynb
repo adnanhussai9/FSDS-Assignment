{
  "nbformat": 4,
  "nbformat_minor": 0,
  "metadata": {
    "colab": {
      "provenance": [],
      "authorship_tag": "ABX9TyPkq5VbzIfLfPuvmS8X5WZU",
      "include_colab_link": true
    },
    "kernelspec": {
      "name": "python3",
      "display_name": "Python 3"
    },
    "language_info": {
      "name": "python"
    },
    "gpuClass": "standard"
  },
  "cells": [
    {
      "cell_type": "markdown",
      "metadata": {
        "id": "view-in-github",
        "colab_type": "text"
      },
      "source": [
        "<a href=\"https://colab.research.google.com/github/adnanhussai9/FSDS-Assignment/blob/main/Python_Basic_Assignment/Py_Assignment_19_class_obj.ipynb\" target=\"_parent\"><img src=\"https://colab.research.google.com/assets/colab-badge.svg\" alt=\"Open In Colab\"/></a>"
      ]
    },
    {
      "cell_type": "markdown",
      "source": [
        "**1. Make a class called Thing with no contents and print it. Then, create an object called example from this class and also print it. Are the printed values the same or different?**"
      ],
      "metadata": {
        "id": "x0aO-WO2n8sm"
      }
    },
    {
      "cell_type": "code",
      "execution_count": 2,
      "metadata": {
        "colab": {
          "base_uri": "https://localhost:8080/"
        },
        "id": "rwukqYE3xSTB",
        "outputId": "88417b11-fc26-44b6-c426-a5fe24884ded"
      },
      "outputs": [
        {
          "output_type": "stream",
          "name": "stdout",
          "text": [
            "<class '__main__.Thing'>\n",
            "<__main__.Thing object at 0x7f243b5634c0>\n"
          ]
        }
      ],
      "source": [
        "class Thing:\n",
        "  pass\n",
        "print(Thing)\n",
        "\n",
        "example = Thing()\n",
        "print(example)"
      ]
    },
    {
      "cell_type": "markdown",
      "source": [
        "No, the printed values are not same, when we print Thing it prints the name of that class saved in automatcalliy created __ main__() function, and when we print the object it prints the location of memory of that object."
      ],
      "metadata": {
        "id": "2wsx4vmroVii"
      }
    },
    {
      "cell_type": "markdown",
      "source": [
        "**2. Create a new class called Thing2 and add the value &#39;abc&#39; to the letters class attribute. Letters should be printed.**"
      ],
      "metadata": {
        "id": "M9-2OA4Yoq34"
      }
    },
    {
      "cell_type": "code",
      "source": [
        "class Thing2:\n",
        "  letters='abc'\n",
        "print(Thing2.letters)"
      ],
      "metadata": {
        "colab": {
          "base_uri": "https://localhost:8080/"
        },
        "id": "D8kLutYZoxbK",
        "outputId": "2880d54c-4ed2-436e-b122-ac8d557b130f"
      },
      "execution_count": 4,
      "outputs": [
        {
          "output_type": "stream",
          "name": "stdout",
          "text": [
            "abc\n"
          ]
        }
      ]
    },
    {
      "cell_type": "markdown",
      "source": [
        "**3. Make yet another class called, of course, Thing3. This time, assign the value &#39;xyz&#39; to an instance (object) attribute called letters. Print letters. Do you need to make an object from the class to do this?**"
      ],
      "metadata": {
        "id": "EioKQ3EFq8D4"
      }
    },
    {
      "cell_type": "code",
      "source": [
        "class Thing3:\n",
        "  def __init__(self):\n",
        "    self.letters='xyz'"
      ],
      "metadata": {
        "id": "hjykg5Zcq_rv"
      },
      "execution_count": 5,
      "outputs": []
    },
    {
      "cell_type": "code",
      "source": [
        "print(Thing3.letters)"
      ],
      "metadata": {
        "colab": {
          "base_uri": "https://localhost:8080/",
          "height": 166
        },
        "id": "WXz9ipZYroI7",
        "outputId": "59aa94d2-dea3-4f9b-c1b7-0c82725e6c33"
      },
      "execution_count": 6,
      "outputs": [
        {
          "output_type": "error",
          "ename": "AttributeError",
          "evalue": "ignored",
          "traceback": [
            "\u001b[0;31m---------------------------------------------------------------------------\u001b[0m",
            "\u001b[0;31mAttributeError\u001b[0m                            Traceback (most recent call last)",
            "\u001b[0;32m<ipython-input-6-6f5d5916809a>\u001b[0m in \u001b[0;36m<cell line: 1>\u001b[0;34m()\u001b[0m\n\u001b[0;32m----> 1\u001b[0;31m \u001b[0mprint\u001b[0m\u001b[0;34m(\u001b[0m\u001b[0mThing3\u001b[0m\u001b[0;34m.\u001b[0m\u001b[0mletters\u001b[0m\u001b[0;34m)\u001b[0m\u001b[0;34m\u001b[0m\u001b[0;34m\u001b[0m\u001b[0m\n\u001b[0m",
            "\u001b[0;31mAttributeError\u001b[0m: type object 'Thing3' has no attribute 'letters'"
          ]
        }
      ]
    },
    {
      "cell_type": "code",
      "source": [
        "obj = Thing3()\n",
        "obj.letters"
      ],
      "metadata": {
        "colab": {
          "base_uri": "https://localhost:8080/",
          "height": 35
        },
        "id": "Et9A_pOMr0Xq",
        "outputId": "c9938ccd-b5a7-420f-e381-5522f119c37e"
      },
      "execution_count": 7,
      "outputs": [
        {
          "output_type": "execute_result",
          "data": {
            "text/plain": [
              "'xyz'"
            ],
            "application/vnd.google.colaboratory.intrinsic+json": {
              "type": "string"
            }
          },
          "metadata": {},
          "execution_count": 7
        }
      ]
    },
    {
      "cell_type": "markdown",
      "source": [
        "Here, for object attributes we need to create an object to call it, but in case of Thing2 example we need not to create object because memory allocation of class attributes are not dependent on the object creation."
      ],
      "metadata": {
        "id": "wUpiLJ2Kr9iX"
      }
    },
    {
      "cell_type": "markdown",
      "source": [
        "**4. Create an Element class with the instance attributes name, symbol, and number. Create a class object with the values &#39;Hydrogen,&#39; &#39;H,&#39; and 1.**"
      ],
      "metadata": {
        "id": "tfgi3ESfssbQ"
      }
    },
    {
      "cell_type": "code",
      "source": [
        "class Element:\n",
        "  def __init__(self, name, symbol, number):\n",
        "    self.name = name\n",
        "    self.symbol = symbol\n",
        "    self.number = number\n",
        "\n",
        "obj = Element(\"Hydrogen\", 'H', 1)"
      ],
      "metadata": {
        "id": "-l7Cep5Lr8B4"
      },
      "execution_count": 15,
      "outputs": []
    },
    {
      "cell_type": "markdown",
      "source": [
        "**5. Make a dictionary with these keys and values: &#39;name&#39;: &#39;Hydrogen&#39;, &#39;symbol&#39;: &#39;H&#39;, &#39;number&#39;: 1. Then, create an object called hydrogen from class Element using this dictionary.**"
      ],
      "metadata": {
        "id": "OAgPxK02td3C"
      }
    },
    {
      "cell_type": "code",
      "source": [
        "ele = { 'name': 'Hydrogen', 'symbol': 'H', 'number': 1}\n",
        "# Method 1\n",
        "hydrogen = Element(**ele)\n",
        "print(hydrogen.name)\n",
        "# Method  2\n",
        "hydrogen = Element(*ele.values())\n",
        "print(hydrogen.symbol)"
      ],
      "metadata": {
        "colab": {
          "base_uri": "https://localhost:8080/"
        },
        "id": "rG1eFYqPtk4_",
        "outputId": "791d3201-517a-428c-9cfe-6b3fadd8f141"
      },
      "execution_count": 20,
      "outputs": [
        {
          "output_type": "stream",
          "name": "stdout",
          "text": [
            "Hydrogen\n",
            "H\n"
          ]
        }
      ]
    },
    {
      "cell_type": "markdown",
      "source": [
        "**6. For the Element class, define a method called dump() that prints the values of the object’s attributes (name, symbol, and number). Create the hydrogen object from this new definition and use dump() to print its attributes.**"
      ],
      "metadata": {
        "id": "HImVzbYovwRu"
      }
    },
    {
      "cell_type": "code",
      "source": [
        "class Element:\n",
        "  def __init__(self, name, symbol, number):\n",
        "    self.name = name\n",
        "    self.symbol = symbol\n",
        "    self.number = number\n",
        "  def dump(self):\n",
        "    print(self.name)\n",
        "    print(self.symbol)\n",
        "    print(self.number)\n",
        "\n",
        "hydrogen = Element(**ele)\n",
        "hydrogen.dump()"
      ],
      "metadata": {
        "colab": {
          "base_uri": "https://localhost:8080/"
        },
        "id": "VGac2gQ7v3Za",
        "outputId": "864a1fed-fd2b-4efd-d385-57991fec6f93"
      },
      "execution_count": 21,
      "outputs": [
        {
          "output_type": "stream",
          "name": "stdout",
          "text": [
            "Hydrogen\n",
            "H\n",
            "1\n"
          ]
        }
      ]
    },
    {
      "cell_type": "markdown",
      "source": [
        "**7. Call print(hydrogen). In the definition of Element, change the name of method dump to __str__, create a new hydrogen object, and call print(hydrogen) again.**"
      ],
      "metadata": {
        "id": "n7o1O6Mow9fF"
      }
    },
    {
      "cell_type": "code",
      "source": [
        "print(hydrogen)\n",
        "\n",
        "class Element:\n",
        "  def __init__(self, name, symbol, number):\n",
        "    self.name = name\n",
        "    self.symbol = symbol\n",
        "    self.number = number\n",
        "  def __str__(self):\n",
        "    return f'{self.name}, {self.symbol}, {self.number}'\n",
        "\n",
        "hydrogen = Element(**ele)\n",
        "print(hydrogen)"
      ],
      "metadata": {
        "colab": {
          "base_uri": "https://localhost:8080/",
          "height": 235
        },
        "id": "CViRiyHsw35K",
        "outputId": "2157a7c0-9350-4626-8e11-3c8a0d34c347"
      },
      "execution_count": 25,
      "outputs": [
        {
          "output_type": "error",
          "ename": "TypeError",
          "evalue": "ignored",
          "traceback": [
            "\u001b[0;31m---------------------------------------------------------------------------\u001b[0m",
            "\u001b[0;31mTypeError\u001b[0m                                 Traceback (most recent call last)",
            "\u001b[0;32m<ipython-input-25-2b5c472712f7>\u001b[0m in \u001b[0;36m<cell line: 1>\u001b[0;34m()\u001b[0m\n\u001b[0;32m----> 1\u001b[0;31m \u001b[0mprint\u001b[0m\u001b[0;34m(\u001b[0m\u001b[0mhydrogen\u001b[0m\u001b[0;34m)\u001b[0m\u001b[0;34m\u001b[0m\u001b[0;34m\u001b[0m\u001b[0m\n\u001b[0m\u001b[1;32m      2\u001b[0m \u001b[0;34m\u001b[0m\u001b[0m\n\u001b[1;32m      3\u001b[0m \u001b[0;32mclass\u001b[0m \u001b[0mElement\u001b[0m\u001b[0;34m:\u001b[0m\u001b[0;34m\u001b[0m\u001b[0;34m\u001b[0m\u001b[0m\n\u001b[1;32m      4\u001b[0m   \u001b[0;32mdef\u001b[0m \u001b[0m__init__\u001b[0m\u001b[0;34m(\u001b[0m\u001b[0mself\u001b[0m\u001b[0;34m,\u001b[0m \u001b[0mname\u001b[0m\u001b[0;34m,\u001b[0m \u001b[0msymbol\u001b[0m\u001b[0;34m,\u001b[0m \u001b[0mnumber\u001b[0m\u001b[0;34m)\u001b[0m\u001b[0;34m:\u001b[0m\u001b[0;34m\u001b[0m\u001b[0;34m\u001b[0m\u001b[0m\n\u001b[1;32m      5\u001b[0m     \u001b[0mself\u001b[0m\u001b[0;34m.\u001b[0m\u001b[0mname\u001b[0m \u001b[0;34m=\u001b[0m \u001b[0mname\u001b[0m\u001b[0;34m\u001b[0m\u001b[0;34m\u001b[0m\u001b[0m\n",
            "\u001b[0;31mTypeError\u001b[0m: __str__ returned non-string (type tuple)"
          ]
        }
      ]
    },
    {
      "cell_type": "markdown",
      "source": [
        "**8. Modify Element to make the attributes name, symbol, and number private. Define a getter property for each to return its value.**"
      ],
      "metadata": {
        "id": "nX0LydRxyOIE"
      }
    },
    {
      "cell_type": "code",
      "source": [
        "class Element:\n",
        "  def __init__(self, name, symbol, number):\n",
        "    self.__name = name\n",
        "    self.__symbol = symbol\n",
        "    self.__number = number\n",
        "\n",
        "  def getName(self):\n",
        "    return self.__name\n",
        "\n",
        "  def getSymbol(self):\n",
        "    return self.__symbol\n",
        "\n",
        "  def getNumber(self):\n",
        "    return self.__number\n",
        "\n",
        "ele = { 'name': 'Hydrogen', 'symbol': 'H', 'number': 1}\n",
        "hydrogen = Element(**ele)\n",
        "print(hydrogen.getName())\n",
        "print(hydrogen.getSymbol())\n",
        "print(hydrogen.getNumber())"
      ],
      "metadata": {
        "colab": {
          "base_uri": "https://localhost:8080/"
        },
        "id": "V-HjI8Q3yY9m",
        "outputId": "82a79128-2cee-4fe9-c0ef-f9139f29c356"
      },
      "execution_count": 27,
      "outputs": [
        {
          "output_type": "stream",
          "name": "stdout",
          "text": [
            "Hydrogen\n",
            "H\n",
            "1\n"
          ]
        }
      ]
    },
    {
      "cell_type": "markdown",
      "source": [
        "**9. Define three classes: Bear, Rabbit, and Octothorpe. For each, define only one method: eats(). This should return 'berries' (Bear), 'clover' (Rabbit), or 'campers' (Octothorpe). Create one object from each and print what it eats.**"
      ],
      "metadata": {
        "id": "zfehg1Ci0mKG"
      }
    },
    {
      "cell_type": "code",
      "source": [
        "class Bear:\n",
        "    def eats(self):\n",
        "        print('berries')\n",
        "class Rabbit:\n",
        "    def eats(self):\n",
        "        print('clover')\n",
        "class Octothorpe:\n",
        "    def eats(self):\n",
        "        print('campers')\n",
        "        \n",
        "bear = Bear()\n",
        "rabbit = Rabbit()\n",
        "octothrope = Octothorpe()\n",
        "\n",
        "bear.eats()\n",
        "rabbit.eats()\n",
        "octothrope.eats()"
      ],
      "metadata": {
        "colab": {
          "base_uri": "https://localhost:8080/"
        },
        "id": "C21h_jdN0r-6",
        "outputId": "dd1b88be-bbe1-47cc-acc0-0ec86b09d584"
      },
      "execution_count": 28,
      "outputs": [
        {
          "output_type": "stream",
          "name": "stdout",
          "text": [
            "berries\n",
            "clover\n",
            "campers\n"
          ]
        }
      ]
    },
    {
      "cell_type": "markdown",
      "source": [
        "**10. Define these classes: Laser, Claw, and SmartPhone. Each has only one method: does(). This returns 'disintegrate' (Laser), 'crush' (Claw), or 'ring' (SmartPhone). Then, define the class Robot that has one instance (object) of each of these. Define a does() method for the Robot that prints what its component objects do.**"
      ],
      "metadata": {
        "id": "PH6f1jvC03Sy"
      }
    },
    {
      "cell_type": "code",
      "source": [
        "class Laser:\n",
        "  def does(self):\n",
        "    return 'disintegrate'\n",
        "class Claw:\n",
        "  def does(self):\n",
        "    return 'crush'\n",
        "class SmartPhone:\n",
        "  def does(self):\n",
        "    return 'ring'\n",
        "\n",
        "class Robot:\n",
        "  def __init__(self):\n",
        "    self.laser= Laser()\n",
        "    self.claw= Claw()\n",
        "    self.smartphone= SmartPhone()\n",
        "\n",
        "  def does(self):\n",
        "    print(f'{self.laser.does()}, {self.claw.does()}, {self.smartphone.does()}')\n",
        "\n",
        "robot= Robot()\n",
        "robot.does()"
      ],
      "metadata": {
        "colab": {
          "base_uri": "https://localhost:8080/"
        },
        "id": "A64LHFDT1CwQ",
        "outputId": "806f1297-0d7f-4aff-8aa4-d28d322bb202"
      },
      "execution_count": 32,
      "outputs": [
        {
          "output_type": "stream",
          "name": "stdout",
          "text": [
            "disintegrate, crush, ring\n"
          ]
        }
      ]
    }
  ]
}