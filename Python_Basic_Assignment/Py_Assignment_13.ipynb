{
  "nbformat": 4,
  "nbformat_minor": 0,
  "metadata": {
    "colab": {
      "private_outputs": true,
      "provenance": [],
      "authorship_tag": "ABX9TyPIKxHljCIUJCqUwSV7OyMF",
      "include_colab_link": true
    },
    "kernelspec": {
      "name": "python3",
      "display_name": "Python 3"
    },
    "language_info": {
      "name": "python"
    }
  },
  "cells": [
    {
      "cell_type": "markdown",
      "metadata": {
        "id": "view-in-github",
        "colab_type": "text"
      },
      "source": [
        "<a href=\"https://colab.research.google.com/github/adnanhussai9/FSDS-Assignment/blob/main/Python_Basic_Assignment/Py_Assignment_13.ipynb\" target=\"_parent\"><img src=\"https://colab.research.google.com/assets/colab-badge.svg\" alt=\"Open In Colab\"/></a>"
      ]
    },
    {
      "cell_type": "markdown",
      "source": [
        "**1. What advantages do Excel spreadsheets have over CSV spreadsheets?**"
      ],
      "metadata": {
        "id": "P__eCHt1LMGY"
      }
    },
    {
      "cell_type": "markdown",
      "source": [
        "Advantage of Excel over CSV are:</br>\n",
        "1. Excel (.xls and .xlsx) file formats are better for storing and analysing complex data.\n",
        "2. An excel not only stores data but can also do operations on data using macros, formulas etc.\n",
        "3. CSV files are plain-text files, and does not contain formatting, formulas, macros, etc. It is also known as flat files."
      ],
      "metadata": {
        "id": "8noEQtUvLR-z"
      }
    },
    {
      "cell_type": "markdown",
      "source": [
        "**2.What do you pass to csv.reader() and csv.writer() to create reader and writer objects?**"
      ],
      "metadata": {
        "id": "hHPiI-V6NmTY"
      }
    },
    {
      "cell_type": "code",
      "source": [
        "import csv\n",
        "with open('text.csv',mode='w') as file:\n",
        "  csv_write = csv.writer(file, delimiter=',', quotechar='\"', quoting=csv.QUOTE_MINIMAL)\n",
        "  csv_write.writerow(['John','Commerce','May'])\n",
        "  csv_write.writerow(['Smith', 'IT', 'June'])"
      ],
      "metadata": {
        "id": "ikH4hdS7PMW5"
      },
      "execution_count": null,
      "outputs": []
    },
    {
      "cell_type": "code",
      "source": [
        "with open('text.csv','r') as file:\n",
        "  csv_file = csv.reader(file,delimiter=',')\n",
        "  for ele in csv_file:\n",
        "    print(ele)"
      ],
      "metadata": {
        "id": "xMwtVfRfLLoT"
      },
      "execution_count": null,
      "outputs": []
    },
    {
      "cell_type": "markdown",
      "source": [
        "**3. What modes do File objects for reader and writer objects need to be opened in?**"
      ],
      "metadata": {
        "id": "ZkGDWCoKOqMe"
      }
    },
    {
      "cell_type": "markdown",
      "source": [
        "For reader object the file must be opened in `read` mode i.e. `mode='r'`, and for writer object  the file objects must be opened in `write` mode i.e. `mode='w'`."
      ],
      "metadata": {
        "id": "OGqJeWfCOurF"
      }
    },
    {
      "cell_type": "markdown",
      "source": [
        "**4. What method takes a list argument and writes it to a CSV file?**"
      ],
      "metadata": {
        "id": "4Q-Zf7RuSGpK"
      }
    },
    {
      "cell_type": "markdown",
      "source": [
        "csv.writer class provides two methods for writing to CSV. They are `writerow()` and `writerows()`."
      ],
      "metadata": {
        "id": "i583_We0STd7"
      }
    },
    {
      "cell_type": "code",
      "source": [
        "import csv\n",
        "fields = ['Name','Branch','Year','CGPA']\n",
        "rows = [\n",
        "    ['Adnan','CSE','4','9.1'],\n",
        "    ['Hussain','CSE','4','9.0']\n",
        "]\n",
        "with open('college_records.csv','w') as csvfile:\n",
        "  csvwriter = csv.writer(csvfile)\n",
        "  csvwriter.writerow(fields)\n",
        "  csvwriter.writerows(rows)\n",
        "                     "
      ],
      "metadata": {
        "id": "Q0L23a-qTTES"
      },
      "execution_count": null,
      "outputs": []
    },
    {
      "cell_type": "markdown",
      "source": [
        "**5. What do the keyword arguments delimiter and line terminator do?**"
      ],
      "metadata": {
        "id": "DF_CcUeyTF_L"
      }
    },
    {
      "cell_type": "markdown",
      "source": [
        "In CSV file the content are seperated by `,` for the single row element; this `,` is called delimiter here. Delimiter can be other also.<br>\n",
        "Line terminator `\\n` is used to change the line. In csv file this is used to change the rows or seperate the records."
      ],
      "metadata": {
        "id": "4WTC7R--Vw9b"
      }
    },
    {
      "cell_type": "markdown",
      "source": [
        "**6. What function takes a string of JSON data and returns a Python data structure?**"
      ],
      "metadata": {
        "id": "rEJhLAckXcp_"
      }
    },
    {
      "cell_type": "markdown",
      "source": [
        "`loads()` method takes a string of JSON data and returns a Python data structure."
      ],
      "metadata": {
        "id": "0DkLK8ZrXoIs"
      }
    },
    {
      "cell_type": "code",
      "source": [
        "import json\n",
        "my_details_json ='''{\n",
        "  \"Name\": \"Adnan Hussain\",\n",
        "  \"Branch\": \"BTech\",\n",
        "  \"Stream\": \"CSE\"\n",
        "}'''\n",
        "print(\"Data type of my_details_json: \",type(my_details_json))\n",
        "#below is the load function used to convert JSON string to python data structure\n",
        "my_details = json.loads(my_details_json)\n",
        "print(my_details)\n",
        "print(\"Data type of my_details: \",type(my_details))"
      ],
      "metadata": {
        "id": "H0qHGEmcSGBv"
      },
      "execution_count": null,
      "outputs": []
    },
    {
      "cell_type": "markdown",
      "source": [
        "**7. What function takes a Python data structure and returns a string of JSON data?**"
      ],
      "metadata": {
        "id": "uGHhsiMqZ02M"
      }
    },
    {
      "cell_type": "code",
      "source": [
        "import json\n",
        "my_details={\n",
        "    'name':\"adnan\",\n",
        "    'branch':\"btech\",\n",
        "    'stream':\"cse\"\n",
        "}\n",
        "print(type(my_details))\n",
        "my_details_json= json.dumps(my_details, indent=4, sort_keys=True)\n",
        "print(type(my_details_json))"
      ],
      "metadata": {
        "id": "jv1HTybadAPM"
      },
      "execution_count": null,
      "outputs": []
    }
  ]
}