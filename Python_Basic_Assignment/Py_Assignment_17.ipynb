{
  "nbformat": 4,
  "nbformat_minor": 0,
  "metadata": {
    "colab": {
      "provenance": [],
      "authorship_tag": "ABX9TyNOuDG3vsDNVl6JAch5e9aG",
      "include_colab_link": true
    },
    "kernelspec": {
      "name": "python3",
      "display_name": "Python 3"
    },
    "language_info": {
      "name": "python"
    },
    "gpuClass": "standard"
  },
  "cells": [
    {
      "cell_type": "markdown",
      "metadata": {
        "id": "view-in-github",
        "colab_type": "text"
      },
      "source": [
        "<a href=\"https://colab.research.google.com/github/adnanhussai9/FSDS-Assignment/blob/main/Python_Basic_Assignment/Py_Assignment_17.ipynb\" target=\"_parent\"><img src=\"https://colab.research.google.com/assets/colab-badge.svg\" alt=\"Open In Colab\"/></a>"
      ]
    },
    {
      "cell_type": "markdown",
      "source": [
        "**1. Assign the value 7 to the variable guess_me. Then, write the conditional tests (if, else, and elif) to print the string 'too low' if guess_me is less than 7, 'too high' if greater than 7, and 'just right' if equal to 7.**"
      ],
      "metadata": {
        "id": "alX4DOISLHwO"
      }
    },
    {
      "cell_type": "code",
      "execution_count": 1,
      "metadata": {
        "colab": {
          "base_uri": "https://localhost:8080/"
        },
        "id": "k38rdC-RKkCY",
        "outputId": "f6a998e2-e628-4ba5-b7ea-120653dd2631"
      },
      "outputs": [
        {
          "output_type": "stream",
          "name": "stdout",
          "text": [
            "just right\n"
          ]
        }
      ],
      "source": [
        "guess_me=7\n",
        "if guess_me<7:\n",
        "  print(\"too low\")\n",
        "elif guess_me>7:\n",
        "  print(\"too high\")\n",
        "else:\n",
        "  print(\"just right\")"
      ]
    },
    {
      "cell_type": "markdown",
      "source": [
        "**2. Assign the value 7 to the variable guess_me and the value 1 to the variable start. Write a while loop that compares start with guess_me. Print too low if start is less than guess me. If start equals guess_me, print 'found it!' and exit the loop. If start is greater than guess_me, print 'oops' and exit the loop. Increment start at the end of the loop**"
      ],
      "metadata": {
        "id": "SzFJgSvlLxSq"
      }
    },
    {
      "cell_type": "code",
      "source": [
        "guess_me = 7\n",
        "start = 1\n",
        "while True:\n",
        "    if start < guess_me:\n",
        "        print('too low')\n",
        "    elif start == guess_me:\n",
        "        print('found it')\n",
        "        break\n",
        "    else:\n",
        "        print('oops')\n",
        "        break\n",
        "    start += 1"
      ],
      "metadata": {
        "colab": {
          "base_uri": "https://localhost:8080/"
        },
        "id": "KVtNyL98L1WL",
        "outputId": "77e26d2a-a7e3-45b5-965a-9a3c4d6b12cf"
      },
      "execution_count": 2,
      "outputs": [
        {
          "output_type": "stream",
          "name": "stdout",
          "text": [
            "too low\n",
            "too low\n",
            "too low\n",
            "too low\n",
            "too low\n",
            "too low\n",
            "found it\n"
          ]
        }
      ]
    },
    {
      "cell_type": "markdown",
      "source": [
        "**3. Print the following values of the list [3, 2, 1, 0] using a for loop.**"
      ],
      "metadata": {
        "id": "hhd-mSBaL9Gp"
      }
    },
    {
      "cell_type": "code",
      "source": [
        "in_list = [3,2,1,0]\n",
        "for ele in in_list:\n",
        "    print(ele)"
      ],
      "metadata": {
        "colab": {
          "base_uri": "https://localhost:8080/"
        },
        "id": "HzpgYBeUMAtI",
        "outputId": "582e0617-4607-46eb-a168-a98cbe9ce1d1"
      },
      "execution_count": 3,
      "outputs": [
        {
          "output_type": "stream",
          "name": "stdout",
          "text": [
            "3\n",
            "2\n",
            "1\n",
            "0\n"
          ]
        }
      ]
    },
    {
      "cell_type": "markdown",
      "source": [
        "**4. Use a list comprehension to make a list of the even numbers in range(10)**"
      ],
      "metadata": {
        "id": "O9Rk6RLXMFdH"
      }
    },
    {
      "cell_type": "code",
      "source": [
        "[x for x in range(10) if x%2==0]"
      ],
      "metadata": {
        "colab": {
          "base_uri": "https://localhost:8080/"
        },
        "id": "wTypW-j-MJzX",
        "outputId": "aa62e98e-4d56-49b4-b173-635b1dbec74d"
      },
      "execution_count": 4,
      "outputs": [
        {
          "output_type": "execute_result",
          "data": {
            "text/plain": [
              "[0, 2, 4, 6, 8]"
            ]
          },
          "metadata": {},
          "execution_count": 4
        }
      ]
    },
    {
      "cell_type": "markdown",
      "source": [
        "**5. Use a dictionary comprehension to create the dictionary squares. Use range(10) to return the keys, and use the square of each key as its value.**"
      ],
      "metadata": {
        "id": "aZsq5aZgMZA5"
      }
    },
    {
      "cell_type": "code",
      "source": [
        "{x:x**2 for x in range(10)}"
      ],
      "metadata": {
        "colab": {
          "base_uri": "https://localhost:8080/"
        },
        "id": "3ripwcUaMdS-",
        "outputId": "a755d475-47c3-4328-edf9-f1aac7ad10e2"
      },
      "execution_count": 5,
      "outputs": [
        {
          "output_type": "execute_result",
          "data": {
            "text/plain": [
              "{0: 0, 1: 1, 2: 4, 3: 9, 4: 16, 5: 25, 6: 36, 7: 49, 8: 64, 9: 81}"
            ]
          },
          "metadata": {},
          "execution_count": 5
        }
      ]
    },
    {
      "cell_type": "markdown",
      "source": [
        "**6. Construct the set odd from the odd numbers in the range using a set comprehension (10).**"
      ],
      "metadata": {
        "id": "FdV7SPq8MsNZ"
      }
    },
    {
      "cell_type": "code",
      "source": [
        "{x for x in range(10) if x%2!=0}"
      ],
      "metadata": {
        "colab": {
          "base_uri": "https://localhost:8080/"
        },
        "id": "DhK8_bg7MzTc",
        "outputId": "e4ec45a2-6cab-431d-e5b0-f1aa6d460404"
      },
      "execution_count": 6,
      "outputs": [
        {
          "output_type": "execute_result",
          "data": {
            "text/plain": [
              "{1, 3, 5, 7, 9}"
            ]
          },
          "metadata": {},
          "execution_count": 6
        }
      ]
    },
    {
      "cell_type": "markdown",
      "source": [
        "**7. Use a generator comprehension to return the string \"Got\" and a number for the numbers in range(10). Iterate through this by using a for loop.**"
      ],
      "metadata": {
        "id": "fGDyY-DpNBhi"
      }
    },
    {
      "cell_type": "code",
      "source": [
        "s = ('Got'+str(x) for x in range(10))\n",
        "print(s)\n",
        "for ele in s:\n",
        "  print(ele, end=\" \")"
      ],
      "metadata": {
        "colab": {
          "base_uri": "https://localhost:8080/"
        },
        "id": "_oa6Oe-bNajE",
        "outputId": "940595b6-f4a2-42c2-d83e-54f337d55b72"
      },
      "execution_count": 9,
      "outputs": [
        {
          "output_type": "stream",
          "name": "stdout",
          "text": [
            "<generator object <genexpr> at 0x7f217671f610>\n",
            "Got0 Got1 Got2 Got3 Got4 Got5 Got6 Got7 Got8 Got9 "
          ]
        }
      ]
    },
    {
      "cell_type": "markdown",
      "source": [
        "**8. Define a function called good that returns the list ['Harry', 'Ron', 'Hermione'].**"
      ],
      "metadata": {
        "id": "CfSYNuU2NBeD"
      }
    },
    {
      "cell_type": "code",
      "source": [
        "def good():\n",
        "    x =  ['Harry', 'Ron', 'Hermione']\n",
        "    return x\n",
        "print(good())"
      ],
      "metadata": {
        "colab": {
          "base_uri": "https://localhost:8080/"
        },
        "id": "WnnKgVPhOAq_",
        "outputId": "e3116271-f16b-43a1-e7c1-8d1e295e2551"
      },
      "execution_count": 10,
      "outputs": [
        {
          "output_type": "stream",
          "name": "stdout",
          "text": [
            "['Harry', 'Ron', 'Hermione']\n"
          ]
        }
      ]
    },
    {
      "cell_type": "markdown",
      "source": [
        "**9. Define a generator function called get_odds that returns the odd numbers from range(10). Use a for loop to find and print the third value returned.**"
      ],
      "metadata": {
        "id": "ockal2DxOCQ4"
      }
    },
    {
      "cell_type": "code",
      "source": [
        "def get_odds():\n",
        "  odd= (x for x in range(10) if x%2!=0)\n",
        "  return odd\n",
        "for ele in get_odds():\n",
        "  i=0\n",
        "  if i==2:\n",
        "    print(ele)\n",
        "    break\n",
        "  i+=1"
      ],
      "metadata": {
        "id": "DM6j9h37OFyc"
      },
      "execution_count": 13,
      "outputs": []
    },
    {
      "cell_type": "markdown",
      "source": [
        "**10. Define an exception called OopsException. Raise this exception to see what happens. Then write the code to catch this exception and print 'Caught an oops'.**"
      ],
      "metadata": {
        "id": "Jv_X2CjsPoI8"
      }
    },
    {
      "cell_type": "code",
      "source": [
        "class OopsException(Exception):\n",
        "  print('Caught in OOPs')\n",
        "def test(input):\n",
        "  if input<0:\n",
        "    raise OopsException(a)\n",
        "try:\n",
        "  test(-100)\n",
        "except Exception as e:\n",
        "  print(e)"
      ],
      "metadata": {
        "colab": {
          "base_uri": "https://localhost:8080/"
        },
        "id": "vhC0fKwwPnku",
        "outputId": "77531252-1100-446b-b7fd-51682b93562c"
      },
      "execution_count": 15,
      "outputs": [
        {
          "output_type": "stream",
          "name": "stdout",
          "text": [
            "Caught in OOPs\n",
            "name 'a' is not defined\n"
          ]
        }
      ]
    },
    {
      "cell_type": "markdown",
      "source": [
        "**11. Use zip() to make a dictionary called movies that pairs these lists: titles = ['Creature of Habit', 'Crewel Fate'] and plots = ['A nun turns into a monster', 'A haunted yarn shop'].**"
      ],
      "metadata": {
        "id": "3fdAa4RhkSzL"
      }
    },
    {
      "cell_type": "code",
      "source": [
        "titles = ['Creature of Habit', 'Crewel Fate'] \n",
        "plots = ['A nun turns into a monster', 'A haunted yarn shop']\n",
        "d=dict(zip(titles,plots))\n",
        "print(d)"
      ],
      "metadata": {
        "colab": {
          "base_uri": "https://localhost:8080/"
        },
        "id": "IKpKkIutkWDU",
        "outputId": "5cb1ad80-0d0f-47ea-db1c-3dabaa06df43"
      },
      "execution_count": 21,
      "outputs": [
        {
          "output_type": "stream",
          "name": "stdout",
          "text": [
            "{'Creature of Habit': 'A nun turns into a monster', 'Crewel Fate': 'A haunted yarn shop'}\n"
          ]
        }
      ]
    }
  ]
}