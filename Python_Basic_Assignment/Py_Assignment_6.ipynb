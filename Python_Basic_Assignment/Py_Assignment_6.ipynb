{
 "cells": [
  {
   "cell_type": "markdown",
   "id": "aecc1662",
   "metadata": {},
   "source": [
    "#1<br>\n",
    "Escape characters are the characters used to insert the illegal characters.<br>\n",
    "We use backslash followed by the character that we wish to insert."
   ]
  },
  {
   "cell_type": "markdown",
   "id": "4baf9603",
   "metadata": {},
   "source": [
    "#2<br>\n",
    "Escape characters `n` is used to change the line.<br>\n",
    "Escape characters `t` is used to give the tab space.<br>"
   ]
  },
  {
   "cell_type": "markdown",
   "id": "2f426276",
   "metadata": {},
   "source": [
    "#3<br>\n",
    "We can use two backward slashes (\"\\\\\") or r\"a\\2\""
   ]
  },
  {
   "cell_type": "markdown",
   "id": "353ab382",
   "metadata": {},
   "source": [
    "#4<br>\n",
    "`\"Howl's Moving Castle\"` in this single quotes are printed because we used double quotes outside."
   ]
  },
  {
   "cell_type": "markdown",
   "id": "53ab5084",
   "metadata": {},
   "source": [
    "#5<br>\n",
    "If we want to use new lines in a string then we can use triple single or double quotes if we don't want to use n character."
   ]
  },
  {
   "cell_type": "markdown",
   "id": "8514d84a",
   "metadata": {},
   "source": [
    "#6<br>\n",
    "'Hello, World!'[1] # 'e' <br>\n",
    "'Hello, World!'[0:5] # 'Hello' <br>\n",
    "'Hello, World!'[:5] # 'Hello' <br>\n",
    "'Hello, World!'[3:] # 'lo, World!' "
   ]
  },
  {
   "cell_type": "markdown",
   "id": "4a6e4986",
   "metadata": {},
   "source": [
    "#7<br>\n",
    "'Hello'.upper() #transform every letter to upper case 'HELLO'<br>\n",
    "'Hello'.upper().isupper() # It returns `True` because the string is converted <br>\n",
    "'Hello'.upper().islower() #It returns `False` "
   ]
  },
  {
   "cell_type": "markdown",
   "id": "c003d527",
   "metadata": {},
   "source": [
    "#8<br>\n",
    "'Remember, remember, the fifth of July.'.split() #`will split the string on the basis of spaces and returns it as a list.`<br>\n",
    "'-'.join('There can only one.'.split()) #`first splits on the basis of spaces and then it is joined with hyphen`"
   ]
  },
  {
   "cell_type": "markdown",
   "id": "009091ce",
   "metadata": {},
   "source": [
    "#9<br>\n",
    "For right-justifying a string we use-- rjustify()<br>\n",
    "For left-justifying a string we use-- ljustify()<br>\n",
    "For centering a string we use-- rjustify()"
   ]
  },
  {
   "cell_type": "markdown",
   "id": "26496484",
   "metadata": {},
   "source": [
    "#10<br>\n",
    "`strip()` method to remove whitespace characters from the start or end."
   ]
  }
 ],
 "metadata": {
  "kernelspec": {
   "display_name": "Python 3 (ipykernel)",
   "language": "python",
   "name": "python3"
  },
  "language_info": {
   "codemirror_mode": {
    "name": "ipython",
    "version": 3
   },
   "file_extension": ".py",
   "mimetype": "text/x-python",
   "name": "python",
   "nbconvert_exporter": "python",
   "pygments_lexer": "ipython3",
   "version": "3.9.7"
  }
 },
 "nbformat": 4,
 "nbformat_minor": 5
}
