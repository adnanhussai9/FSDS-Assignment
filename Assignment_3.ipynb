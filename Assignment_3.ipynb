{
 "cells": [
  {
   "cell_type": "markdown",
   "id": "9c6e36ba",
   "metadata": {},
   "source": [
    "1.Function is important in program because: i) It creates reusability of code, ii)Function allows us to break large complex problems to small maneagable problems, iii)In a function we can use different arguments to get different outputs. iv)It also increase readability of the code. v)Functions can be individually tested hence reduce debugging time."
   ]
  },
  {
   "cell_type": "markdown",
   "id": "5e29902c",
   "metadata": {},
   "source": [
    "2.Code in a function run only when it is called."
   ]
  },
  {
   "cell_type": "markdown",
   "id": "7827ca8e",
   "metadata": {},
   "source": [
    "3.The 'def' keyword is used to creates a function."
   ]
  },
  {
   "cell_type": "markdown",
   "id": "48ee4ed7",
   "metadata": {},
   "source": [
    "4.When we talk about function it means function definition in which we write the behaviour of that function, while when we call a function it means we tell the compiler to execute that part of the code."
   ]
  },
  {
   "cell_type": "markdown",
   "id": "2f674d95",
   "metadata": {},
   "source": [
    "5.There is only one 'global scope' for python program. This scope remains in existence until program is terminated and all of its names are forgotten. There can be any number 'local scopes' bacause every variable is local to the function in which it is declared."
   ]
  },
  {
   "cell_type": "markdown",
   "id": "335d03c2",
   "metadata": {},
   "source": [
    "6.After the function returns, the local variable names are forgotten i.e. space in meomory is erased."
   ]
  },
  {
   "cell_type": "markdown",
   "id": "756995ff",
   "metadata": {},
   "source": [
    "7.The return keyword is used to return a value and exit the function. Yes we can have an expression in return vale."
   ]
  },
  {
   "cell_type": "code",
   "execution_count": 1,
   "id": "8cd969a0",
   "metadata": {},
   "outputs": [
    {
     "name": "stdout",
     "output_type": "stream",
     "text": [
      "27\n"
     ]
    }
   ],
   "source": [
    "def fun(a,b,c,d):\n",
    "    return a+b*c-d\n",
    "print(fun(3,5,6,6))"
   ]
  },
  {
   "cell_type": "markdown",
   "id": "c88bf3f0",
   "metadata": {},
   "source": [
    "8.If a function does not have any return value it return 'None' type."
   ]
  },
  {
   "cell_type": "code",
   "execution_count": 2,
   "id": "9a1b9bed",
   "metadata": {},
   "outputs": [
    {
     "name": "stdout",
     "output_type": "stream",
     "text": [
      "15\n",
      "None\n"
     ]
    }
   ],
   "source": [
    "def fun1():\n",
    "    a=9+6\n",
    "    print(a)\n",
    "print(fun1())"
   ]
  },
  {
   "cell_type": "markdown",
   "id": "856c5816",
   "metadata": {},
   "source": [
    "9.If we want to refer a variable to global variable than we prefix the variable to global scope."
   ]
  },
  {
   "cell_type": "code",
   "execution_count": 3,
   "id": "a7490f66",
   "metadata": {},
   "outputs": [
    {
     "name": "stdout",
     "output_type": "stream",
     "text": [
      "12\n"
     ]
    }
   ],
   "source": [
    "def fun2():\n",
    "    global b\n",
    "    b=12\n",
    "    \n",
    "fun2()\n",
    "print(b)"
   ]
  },
  {
   "cell_type": "markdown",
   "id": "968adf22",
   "metadata": {},
   "source": [
    "10.The Data Type of None is NoneType."
   ]
  },
  {
   "cell_type": "code",
   "execution_count": 4,
   "id": "9a77af4b",
   "metadata": {},
   "outputs": [
    {
     "data": {
      "text/plain": [
       "NoneType"
      ]
     },
     "execution_count": 4,
     "metadata": {},
     "output_type": "execute_result"
    }
   ],
   "source": [
    "type(None)"
   ]
  },
  {
   "cell_type": "markdown",
   "id": "0752b36b",
   "metadata": {},
   "source": [
    "11.The statement 'import areallyourpetsnamederic' will import 'areallyourpetsnamederic' package. That is all the code and program of 'areallyourpetsnamederic' can now be accessed."
   ]
  },
  {
   "cell_type": "markdown",
   "id": "77be70df",
   "metadata": {},
   "source": [
    "12.import spam <br>\n",
    "spam.bacon()"
   ]
  },
  {
   "cell_type": "markdown",
   "id": "c53b043e",
   "metadata": {},
   "source": [
    "13.We will do exception handling to prevent our code from crashing when it encounters an error. There is try, except, else, raise and finally used for exception handling."
   ]
  },
  {
   "cell_type": "markdown",
   "id": "568d1851",
   "metadata": {},
   "source": [
    "14.In 'try' clause we write the code snippet that is expected to encounter an error. In 'except' clause we write the code snippet that will execute if the 'try' code encounters an error."
   ]
  }
 ],
 "metadata": {
  "kernelspec": {
   "display_name": "Python 3 (ipykernel)",
   "language": "python",
   "name": "python3"
  },
  "language_info": {
   "codemirror_mode": {
    "name": "ipython",
    "version": 3
   },
   "file_extension": ".py",
   "mimetype": "text/x-python",
   "name": "python",
   "nbconvert_exporter": "python",
   "pygments_lexer": "ipython3",
   "version": "3.9.7"
  }
 },
 "nbformat": 4,
 "nbformat_minor": 5
}
