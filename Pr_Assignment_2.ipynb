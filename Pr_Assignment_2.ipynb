{
 "cells": [
  {
   "cell_type": "code",
   "execution_count": null,
   "id": "8e1ae890",
   "metadata": {},
   "outputs": [],
   "source": [
    "#1\n",
    "i=int(input(\"Enter KM \"))\n",
    "def conv(km):\n",
    "    return f\"{km*0.621371:.3f} miles\"\n",
    "print(conv(i))"
   ]
  },
  {
   "cell_type": "code",
   "execution_count": null,
   "id": "edeefb28",
   "metadata": {},
   "outputs": [],
   "source": [
    "#2\n",
    "j=int(input(\"Enter Celsius \"))\n",
    "def cf(cel):\n",
    "    return f\"{(cel*9/5)+32} Fahrenheit\"\n",
    "print(cf(j))"
   ]
  },
  {
   "cell_type": "code",
   "execution_count": null,
   "id": "977cd674",
   "metadata": {},
   "outputs": [],
   "source": [
    "#3\n",
    "import calendar\n",
    "print(calendar.calendar(2022))"
   ]
  },
  {
   "cell_type": "code",
   "execution_count": null,
   "id": "ab2a6c68",
   "metadata": {},
   "outputs": [],
   "source": [
    "print(calendar.month(2022,7))"
   ]
  },
  {
   "cell_type": "code",
   "execution_count": null,
   "id": "97fa9c0c",
   "metadata": {},
   "outputs": [],
   "source": [
    "#4\n",
    "import math as m\n",
    "def quad(a,b,c):\n",
    "    d=b**2-(4*a*c)\n",
    "    if d>=0:\n",
    "        sol=[(-b+m.sqrt(d))/2*a, (-b-m.sqrt(d))/2*a]\n",
    "        return sol\n",
    "    elif d<0:\n",
    "        return f\"No Real Solution\"\n",
    "print(quad(1,1,0))\n",
    "print(quad(1,1,2))\n",
    "print(quad(1,0,0))"
   ]
  },
  {
   "cell_type": "code",
   "execution_count": null,
   "id": "6f274609",
   "metadata": {},
   "outputs": [],
   "source": [
    "#5 \n",
    "def swap(a,b):\n",
    "    b,a=a,b\n",
    "    return (a,b)\n",
    "print(swap(1,2))"
   ]
  }
 ],
 "metadata": {
  "kernelspec": {
   "display_name": "Python 3 (ipykernel)",
   "language": "python",
   "name": "python3"
  },
  "language_info": {
   "codemirror_mode": {
    "name": "ipython",
    "version": 3
   },
   "file_extension": ".py",
   "mimetype": "text/x-python",
   "name": "python",
   "nbconvert_exporter": "python",
   "pygments_lexer": "ipython3",
   "version": "3.9.7"
  }
 },
 "nbformat": 4,
 "nbformat_minor": 5
}
