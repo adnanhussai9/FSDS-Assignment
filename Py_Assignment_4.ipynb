{
 "cells": [
  {
   "cell_type": "markdown",
   "id": "63e03534",
   "metadata": {},
   "source": [
    "1.The square bracket `[]` is used to assign an `empty list` to a variable."
   ]
  },
  {
   "cell_type": "markdown",
   "id": "f7807489",
   "metadata": {},
   "source": [
    "2.If the list is `list1` than we can add element by `list1[2]='hello'`."
   ]
  },
  {
   "cell_type": "code",
   "execution_count": 1,
   "id": "b1667144",
   "metadata": {},
   "outputs": [
    {
     "data": {
      "text/plain": [
       "[2, 4, 'hello', 8, 10]"
      ]
     },
     "execution_count": 1,
     "metadata": {},
     "output_type": "execute_result"
    }
   ],
   "source": [
    "list1=[2,4,6,8,10]\n",
    "list1[2]='hello'\n",
    "list1"
   ]
  },
  {
   "cell_type": "code",
   "execution_count": 2,
   "id": "75caddc6",
   "metadata": {},
   "outputs": [
    {
     "data": {
      "text/plain": [
       "'d'"
      ]
     },
     "execution_count": 2,
     "metadata": {},
     "output_type": "execute_result"
    }
   ],
   "source": [
    "#3\n",
    "spam=['a','b','c','d']\n",
    "spam[int(int('3'*2)/11)] #'3'*2 will give 33 and then it is converted to integer and dividing by 11 gives 3"
   ]
  },
  {
   "cell_type": "code",
   "execution_count": 3,
   "id": "172fff6c",
   "metadata": {},
   "outputs": [
    {
     "data": {
      "text/plain": [
       "'d'"
      ]
     },
     "execution_count": 3,
     "metadata": {},
     "output_type": "execute_result"
    }
   ],
   "source": [
    "#4\n",
    "spam[-1] #negative indexing is used that's why the last element is returned"
   ]
  },
  {
   "cell_type": "code",
   "execution_count": 4,
   "id": "62a0a06e",
   "metadata": {},
   "outputs": [
    {
     "data": {
      "text/plain": [
       "['a', 'b']"
      ]
     },
     "execution_count": 4,
     "metadata": {},
     "output_type": "execute_result"
    }
   ],
   "source": [
    "#5\n",
    "spam[:2] #here slicing operation is done from 0 to 2-1=1"
   ]
  },
  {
   "cell_type": "code",
   "execution_count": 5,
   "id": "6dd2bdca",
   "metadata": {},
   "outputs": [
    {
     "data": {
      "text/plain": [
       "1"
      ]
     },
     "execution_count": 5,
     "metadata": {},
     "output_type": "execute_result"
    }
   ],
   "source": [
    "#6\n",
    "bacon=[3.14,'cat',11,'cat',True]\n",
    "bacon.index('cat') #it returns the index of first item that it encounters."
   ]
  },
  {
   "cell_type": "markdown",
   "id": "092ff0e2",
   "metadata": {},
   "source": [
    "7.`bacon.append(99)` will add the integer 99 to the end of list."
   ]
  },
  {
   "cell_type": "code",
   "execution_count": 6,
   "id": "95c79145",
   "metadata": {},
   "outputs": [
    {
     "data": {
      "text/plain": [
       "[3.14, 'cat', 11, 'cat', True, 99]"
      ]
     },
     "execution_count": 6,
     "metadata": {},
     "output_type": "execute_result"
    }
   ],
   "source": [
    "bacon.append(99)\n",
    "bacon"
   ]
  },
  {
   "cell_type": "markdown",
   "id": "8e0f8256",
   "metadata": {},
   "source": [
    "8.`bacon.remove('cat')` will remove the first 'cat' string that it encounters."
   ]
  },
  {
   "cell_type": "code",
   "execution_count": 7,
   "id": "a30d8e56",
   "metadata": {},
   "outputs": [
    {
     "data": {
      "text/plain": [
       "[3.14, 11, 'cat', True, 99]"
      ]
     },
     "execution_count": 7,
     "metadata": {},
     "output_type": "execute_result"
    }
   ],
   "source": [
    "bacon.remove('cat')\n",
    "bacon"
   ]
  },
  {
   "cell_type": "markdown",
   "id": "11f7de40",
   "metadata": {},
   "source": [
    "9.In list concatenation we join two list. In list replication we duplicate the list."
   ]
  },
  {
   "cell_type": "code",
   "execution_count": 8,
   "id": "afa267e9",
   "metadata": {},
   "outputs": [
    {
     "name": "stdout",
     "output_type": "stream",
     "text": [
      "[1, 2, 3, 'a', 'b', 'c']\n",
      "[1, 2, 3, 1, 2, 3]\n"
     ]
    }
   ],
   "source": [
    "l1=[1,2,3]\n",
    "l2=['a','b','c']\n",
    "print(l1+l2) # list concatenation\n",
    "print(l1*2) # list replication"
   ]
  },
  {
   "cell_type": "markdown",
   "id": "d39706ce",
   "metadata": {},
   "source": [
    "10.By append operation we can add element to the list only at last. <br>\n",
    "By insert operation we can add element wherever we wish by giving the index."
   ]
  },
  {
   "cell_type": "code",
   "execution_count": 9,
   "id": "4ccab768",
   "metadata": {},
   "outputs": [
    {
     "name": "stdout",
     "output_type": "stream",
     "text": [
      "[2, 3, 4, 5]\n",
      "['a', 'c', 'd', 'e']\n"
     ]
    }
   ],
   "source": [
    "l1=[2,3,4]\n",
    "l2=['c','d','e']\n",
    "l1.append(5)\n",
    "print(l1)\n",
    "l2.insert(0,'a') # first argument in insert is the index and the second one is the item we want to insert.\n",
    "print(l2)"
   ]
  },
  {
   "cell_type": "markdown",
   "id": "0f180412",
   "metadata": {},
   "source": [
    "11.We can remove elements from the list by two functions: i) `remove()` ii) `pop()`"
   ]
  },
  {
   "cell_type": "code",
   "execution_count": 10,
   "id": "7d42656b",
   "metadata": {},
   "outputs": [
    {
     "name": "stdout",
     "output_type": "stream",
     "text": [
      "[2, 3, 5]\n",
      "['a', 'c', 'd']\n"
     ]
    }
   ],
   "source": [
    "l1.remove(4)\n",
    "print(l1)\n",
    "l2.pop()\n",
    "print(l2)"
   ]
  },
  {
   "cell_type": "markdown",
   "id": "7458b8cc",
   "metadata": {},
   "source": [
    "12.List values are identical to string values in such a way that both `store data in sequence`. We can do `indexing` and `slicing` with both of them. "
   ]
  },
  {
   "cell_type": "markdown",
   "id": "00b6d1a3",
   "metadata": {},
   "source": [
    "13.Tuples:<br>\n",
    "i) Immutable <br>\n",
    "ii) Insertion and Deletion can't be done directly<br>\n",
    "List:<br>\n",
    "i) Mutable<br>\n",
    "ii) Insertion and Deletion can be done"
   ]
  },
  {
   "cell_type": "markdown",
   "id": "e251b373",
   "metadata": {},
   "source": [
    "14.If 42 is the only element then we will use `,` after 42. Eg:a=(42,)"
   ]
  },
  {
   "cell_type": "markdown",
   "id": "4550dc15",
   "metadata": {},
   "source": [
    "15.If we want to convert list values to tuple form we will use `tuple()` function above list or list variable. Eg. tuple([1,2,3,4])<br>\n",
    "If we want to convert tuple values to list form we will use `list()` function above tuple or tuple variable. Eg. list((1,2,3))"
   ]
  },
  {
   "cell_type": "markdown",
   "id": "c5c0f859",
   "metadata": {},
   "source": [
    "16.The list can contain multiple data types such as: i) int ii) float iii) string iv) boolean v) list vi) tuple vii) dictionary viii) set"
   ]
  },
  {
   "cell_type": "code",
   "execution_count": 11,
   "id": "b66a46d9",
   "metadata": {},
   "outputs": [
    {
     "data": {
      "text/plain": [
       "list"
      ]
     },
     "execution_count": 11,
     "metadata": {},
     "output_type": "execute_result"
    }
   ],
   "source": [
    "l=[1,1.2,'A',True,[1,23],(5,4),{\"a\":8,\"b\":0},{7,8}]\n",
    "type(l)"
   ]
  },
  {
   "cell_type": "markdown",
   "id": "ebec0f1e",
   "metadata": {},
   "source": [
    "17.In copy.copy() the object reference is copied. If we make change in copied file it would be reflected in original object.<br>\n",
    "<br>\n",
    "In copy.deepcopy() the new object is created and there will be no change in original object if we make changes in copied object."
   ]
  }
 ],
 "metadata": {
  "kernelspec": {
   "display_name": "Python 3 (ipykernel)",
   "language": "python",
   "name": "python3"
  },
  "language_info": {
   "codemirror_mode": {
    "name": "ipython",
    "version": 3
   },
   "file_extension": ".py",
   "mimetype": "text/x-python",
   "name": "python",
   "nbconvert_exporter": "python",
   "pygments_lexer": "ipython3",
   "version": "3.9.7"
  }
 },
 "nbformat": 4,
 "nbformat_minor": 5
}
