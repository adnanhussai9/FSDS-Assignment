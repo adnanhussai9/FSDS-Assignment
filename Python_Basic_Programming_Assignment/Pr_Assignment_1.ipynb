{
 "cells": [
  {
   "cell_type": "code",
   "execution_count": 1,
   "id": "4ddf5721",
   "metadata": {},
   "outputs": [
    {
     "name": "stdout",
     "output_type": "stream",
     "text": [
      "Hello Python\n"
     ]
    }
   ],
   "source": [
    "#1\n",
    "print(\"Hello Python\")"
   ]
  },
  {
   "cell_type": "code",
   "execution_count": 2,
   "id": "a22edf67",
   "metadata": {},
   "outputs": [
    {
     "name": "stdout",
     "output_type": "stream",
     "text": [
      "10\n",
      "3\n"
     ]
    }
   ],
   "source": [
    "#2\n",
    "def add(a,b):\n",
    "    return a+b\n",
    "def div(a,b):\n",
    "    if b!=0:\n",
    "        return a//b\n",
    "print(add(5,5))\n",
    "print(div(9,3))"
   ]
  },
  {
   "cell_type": "code",
   "execution_count": 3,
   "id": "4864be4f",
   "metadata": {},
   "outputs": [
    {
     "name": "stdout",
     "output_type": "stream",
     "text": [
      "10.0\n",
      "9.922\n"
     ]
    }
   ],
   "source": [
    "#3\n",
    "import numpy as np\n",
    "def area_bh(b,h):\n",
    "    return 0.5*b*h\n",
    "\n",
    "def area_3side(a,b,c):\n",
    "    s=(a+b+c)/2\n",
    "    return np.sqrt(s*(s-a)*(s-b)*(s-c))   \n",
    "\n",
    "print(area_bh(2,10))\n",
    "print(f\"{area_3side(4,5,6):.3f}\")"
   ]
  },
  {
   "cell_type": "code",
   "execution_count": 4,
   "id": "9320712e",
   "metadata": {},
   "outputs": [
    {
     "name": "stdout",
     "output_type": "stream",
     "text": [
      "(2, 1)\n"
     ]
    }
   ],
   "source": [
    "#4\n",
    "def swap(a,b):\n",
    "    c=a\n",
    "    a=b\n",
    "    b=c\n",
    "    return a,b\n",
    "print(swap(1,2))"
   ]
  },
  {
   "cell_type": "code",
   "execution_count": 5,
   "id": "2e8c7656",
   "metadata": {},
   "outputs": [
    {
     "name": "stdout",
     "output_type": "stream",
     "text": [
      "8\n"
     ]
    }
   ],
   "source": [
    "#5\n",
    "import random\n",
    "print(random.randint(0,9))"
   ]
  }
 ],
 "metadata": {
  "kernelspec": {
   "display_name": "Python 3 (ipykernel)",
   "language": "python",
   "name": "python3"
  },
  "language_info": {
   "codemirror_mode": {
    "name": "ipython",
    "version": 3
   },
   "file_extension": ".py",
   "mimetype": "text/x-python",
   "name": "python",
   "nbconvert_exporter": "python",
   "pygments_lexer": "ipython3",
   "version": "3.9.7"
  }
 },
 "nbformat": 4,
 "nbformat_minor": 5
}
