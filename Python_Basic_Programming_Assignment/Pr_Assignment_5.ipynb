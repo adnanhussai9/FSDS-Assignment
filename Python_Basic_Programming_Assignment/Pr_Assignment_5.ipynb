{
  "nbformat": 4,
  "nbformat_minor": 0,
  "metadata": {
    "colab": {
      "provenance": [],
      "authorship_tag": "ABX9TyPk5rrIc/WHbvA803gvdgaU",
      "include_colab_link": true
    },
    "kernelspec": {
      "name": "python3",
      "display_name": "Python 3"
    },
    "language_info": {
      "name": "python"
    },
    "gpuClass": "standard"
  },
  "cells": [
    {
      "cell_type": "markdown",
      "metadata": {
        "id": "view-in-github",
        "colab_type": "text"
      },
      "source": [
        "<a href=\"https://colab.research.google.com/github/adnanhussai9/FSDS-Assignment/blob/main/Python_Basic_Programming_Assignment/Pr_Assignment_5.ipynb\" target=\"_parent\"><img src=\"https://colab.research.google.com/assets/colab-badge.svg\" alt=\"Open In Colab\"/></a>"
      ]
    },
    {
      "cell_type": "markdown",
      "source": [
        "# Programming Assignment 5 Solution"
      ],
      "metadata": {
        "id": "0jOfo2iGto1T"
      }
    },
    {
      "cell_type": "markdown",
      "source": [
        "**1. Write a Python Program to Find LCM?**"
      ],
      "metadata": {
        "id": "fXulA2OOuD2o"
      }
    },
    {
      "cell_type": "code",
      "execution_count": null,
      "metadata": {
        "id": "uIwqVjC2-Kbp",
        "colab": {
          "base_uri": "https://localhost:8080/"
        },
        "outputId": "72fd5310-99b2-45af-d17c-9ed9df8157c1"
      },
      "outputs": [
        {
          "output_type": "stream",
          "name": "stdout",
          "text": [
            "8\n",
            "84\n",
            "36\n"
          ]
        }
      ],
      "source": [
        "def lcm_of_two_numbers(a,b):\n",
        "  greater= max(a, b)\n",
        "  smaller= min(a, b)\n",
        "  i=greater\n",
        "  while True:\n",
        "    if greater%smaller==0:\n",
        "      print(greater)\n",
        "      break\n",
        "    else:\n",
        "      greater+=i\n",
        "\n",
        "lcm_of_two_numbers(8,4)\n",
        "lcm_of_two_numbers(12,28)\n",
        "lcm_of_two_numbers(9,12)"
      ]
    },
    {
      "cell_type": "markdown",
      "source": [
        "**2. Write a Python Program to Find HCF?**"
      ],
      "metadata": {
        "id": "Xjg7gDjX5JUF"
      }
    },
    {
      "cell_type": "code",
      "source": [
        "def hcf(a,b):\n",
        "  mn= min(a,b)\n",
        "  for i in range(1, mn+1):\n",
        "    if a%i==0 and b%i==0:\n",
        "      hcf=i\n",
        "  print(hcf)\n",
        "\n",
        "hcf(4,28)\n",
        "hcf(9,45)"
      ],
      "metadata": {
        "colab": {
          "base_uri": "https://localhost:8080/"
        },
        "id": "4wIc0egI5OCr",
        "outputId": "113b9b4d-e62f-4334-a64a-b534f150ebc0"
      },
      "execution_count": null,
      "outputs": [
        {
          "output_type": "stream",
          "name": "stdout",
          "text": [
            "4\n",
            "9\n"
          ]
        }
      ]
    },
    {
      "cell_type": "markdown",
      "source": [
        "**3. Write a Python Program to Convert Decimal to Binary, Octal and Hexadecimal ?**"
      ],
      "metadata": {
        "id": "pCj1gV4OAhgc"
      }
    },
    {
      "cell_type": "code",
      "source": [
        "def decimalToOther():\n",
        "  num = int(input(\"Enter a number to Convert: \"))\n",
        "  print(\"Binary Number: \", bin(num))\n",
        "  print(\"Octal Number: \", oct(num))\n",
        "  print(\"Hexadecimal Number: \", hex(num))\n",
        "\n",
        "decimalToOther()"
      ],
      "metadata": {
        "id": "ux_yYtGEAIYk",
        "colab": {
          "base_uri": "https://localhost:8080/"
        },
        "outputId": "3cf753f2-7039-4629-b58a-44768ff5c398"
      },
      "execution_count": 1,
      "outputs": [
        {
          "output_type": "stream",
          "name": "stdout",
          "text": [
            "Enter a number to Convert: 5\n",
            "Binary Number:  0b101\n",
            "Octal Number:  0o5\n",
            "Hexadecimal Number:  0x5\n"
          ]
        }
      ]
    },
    {
      "cell_type": "markdown",
      "source": [
        "**4. Write a Python Program to Find the ASCII value of a Character ?**"
      ],
      "metadata": {
        "id": "O0yMOkEGBYG1"
      }
    },
    {
      "cell_type": "code",
      "source": [
        "def charToASCII():\n",
        "  char = input(\"Enter a Character: \")\n",
        "  print(\"ASCII value of a character is: \",ord(char))\n",
        "\n",
        "charToASCII()"
      ],
      "metadata": {
        "colab": {
          "base_uri": "https://localhost:8080/"
        },
        "id": "1O25qYReBLCM",
        "outputId": "f550070f-f83e-4e48-c066-eabff8c7d86f"
      },
      "execution_count": 4,
      "outputs": [
        {
          "output_type": "stream",
          "name": "stdout",
          "text": [
            "Enter a Character: a\n",
            "ASCII value of a character is:  97\n"
          ]
        }
      ]
    },
    {
      "cell_type": "markdown",
      "source": [
        "**5. Write a Python Program to Make a Simple Calculator with 4 Basic Mathematical operations ?**"
      ],
      "metadata": {
        "id": "2uuvfQdMC2sk"
      }
    },
    {
      "cell_type": "code",
      "source": [
        "import operator\n",
        "ops = {\"+\": operator.add, \"-\":operator.sub, \"*\":operator.mul, \"/\":operator.truediv}\n",
        "\n",
        "print(\"Select a Arithmetic Operation: \\\n",
        "      \\n1.Addition(+)\\\n",
        "      \\n2.Division(-)\\\n",
        "      \\n3.Multiplication(*)\\\n",
        "      \\n4.Division(/)\\\n",
        "      \\n3.Stop(0)\\n\")\n",
        "\n",
        "while True:\n",
        "  operator = input(\"Enter an arithmetic operation ->\")\n",
        "  if operator == '0':\n",
        "    print(\"Program stopped successfully\")\n",
        "    break\n",
        "  elif operator not in ['+','-','*','/']:\n",
        "    print(\"Please enter valid operator\")\n",
        "  else:\n",
        "    num1 = int(input('\\nEnter 1st number: '))\n",
        "    num2 = int(input('Enter 2nd number: '))\n",
        "    print(ops[operator](num1, num2))"
      ],
      "metadata": {
        "colab": {
          "base_uri": "https://localhost:8080/"
        },
        "id": "Mo2ugUtDC_1y",
        "outputId": "7aeb71ee-9052-4f10-e148-9689b19b4450"
      },
      "execution_count": 5,
      "outputs": [
        {
          "output_type": "stream",
          "name": "stdout",
          "text": [
            "Select a Arithmetic Operation:       \n",
            "1.Addition(+)      \n",
            "2.Division(-)      \n",
            "3.Multiplication(*)      \n",
            "4.Division(/)      \n",
            "3.Stop(0)\n",
            "\n",
            "Enter an arithmetic operation ->*\n",
            "\n",
            "Enter 1st number: 4\n",
            "Enter 2nd number: 5\n",
            "20\n",
            "Enter an arithmetic operation ->0\n",
            "Program stopped successfully\n"
          ]
        }
      ]
    }
  ]
}