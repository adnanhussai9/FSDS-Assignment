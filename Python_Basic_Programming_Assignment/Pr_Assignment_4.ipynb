{
 "cells": [
  {
   "cell_type": "markdown",
   "id": "8c3f6782",
   "metadata": {},
   "source": [
    "<b>1. Write a Python Program to Find the Factorial of a Number?"
   ]
  },
  {
   "cell_type": "code",
   "execution_count": 1,
   "id": "b0391bae",
   "metadata": {},
   "outputs": [
    {
     "name": "stdout",
     "output_type": "stream",
     "text": [
      "120\n"
     ]
    }
   ],
   "source": [
    "def factorial(n):\n",
    "    fact = 1\n",
    "    for i in range(1,n+1):\n",
    "        fact = fact*i\n",
    "    return fact\n",
    "\n",
    "print(factorial(5))"
   ]
  },
  {
   "cell_type": "markdown",
   "id": "bb4cc43c",
   "metadata": {},
   "source": [
    "<b>2. Write a Python Program to Display the multiplication Table?"
   ]
  },
  {
   "cell_type": "code",
   "execution_count": 3,
   "id": "a7072e10",
   "metadata": {},
   "outputs": [
    {
     "name": "stdout",
     "output_type": "stream",
     "text": [
      "2 * 1 = 2\n",
      "2 * 2 = 4\n",
      "2 * 3 = 6\n",
      "2 * 4 = 8\n",
      "2 * 5 = 10\n",
      "2 * 6 = 12\n",
      "2 * 7 = 14\n",
      "2 * 8 = 16\n",
      "2 * 9 = 18\n",
      "2 * 10 = 20\n"
     ]
    }
   ],
   "source": [
    "def mul_table(n):\n",
    "    for i in range(1,11):\n",
    "        print(f\"{n} * {i} = {n*i}\")\n",
    "        \n",
    "mul_table(2)"
   ]
  },
  {
   "cell_type": "markdown",
   "id": "29d926bb",
   "metadata": {},
   "source": [
    "<b>3. Write a Python Program to Print the Fibonacci sequence?"
   ]
  },
  {
   "cell_type": "code",
   "execution_count": 6,
   "id": "f86bf184",
   "metadata": {},
   "outputs": [
    {
     "name": "stdout",
     "output_type": "stream",
     "text": [
      "0 1 1 2 3 "
     ]
    }
   ],
   "source": [
    "def fibonacci(n):\n",
    "    n1=0\n",
    "    n2=1\n",
    "    for i in range(n):\n",
    "        print(n1,end=\" \")\n",
    "        temp=n1\n",
    "        n1=n2\n",
    "        n2=temp+n2\n",
    "\n",
    "fibonacci(5)"
   ]
  },
  {
   "cell_type": "markdown",
   "id": "39fedf49",
   "metadata": {},
   "source": [
    "<b>4. Write a Python Program to Check Armstrong Number?"
   ]
  },
  {
   "cell_type": "code",
   "execution_count": 25,
   "id": "128c30c8",
   "metadata": {},
   "outputs": [
    {
     "data": {
      "text/plain": [
       "'Armstrong'"
      ]
     },
     "execution_count": 25,
     "metadata": {},
     "output_type": "execute_result"
    }
   ],
   "source": [
    "def armstrong(num):\n",
    "    n=num\n",
    "    sum = 0\n",
    "    while n!=0:\n",
    "        d = n%10\n",
    "        sum = sum + pow(d,len(str(num)))\n",
    "        n = n//10\n",
    "\n",
    "    if sum==num:\n",
    "        return \"Armstrong\"\n",
    "    else:\n",
    "        return \"Not Armstrong\"\n",
    "    \n",
    "armstrong(153)"
   ]
  },
  {
   "cell_type": "markdown",
   "id": "17eb3d77",
   "metadata": {},
   "source": [
    "<b>5. Write a Python Program to Find Armstrong Number in an Interval?"
   ]
  },
  {
   "cell_type": "code",
   "execution_count": 31,
   "id": "007b5f64",
   "metadata": {},
   "outputs": [
    {
     "data": {
      "text/plain": [
       "[153, 370, 371, 407]"
      ]
     },
     "execution_count": 31,
     "metadata": {},
     "output_type": "execute_result"
    }
   ],
   "source": [
    "def armstrong(num1,num2):\n",
    "    l=[]\n",
    "    for num in range(num1,num2+1):\n",
    "        n=num\n",
    "        sum = 0\n",
    "        while n!=0:\n",
    "            d = n%10\n",
    "            sum = sum + pow(d,len(str(num)))\n",
    "            n = n//10\n",
    "\n",
    "        if sum==num:\n",
    "            l.append(num)\n",
    "    return l\n",
    "    \n",
    "armstrong(100,999)"
   ]
  },
  {
   "cell_type": "markdown",
   "id": "da15e73a",
   "metadata": {},
   "source": [
    "<b>6. Write a Python Program to Find the Sum of Natural Numbers?"
   ]
  },
  {
   "cell_type": "code",
   "execution_count": 33,
   "id": "9e5bdb73",
   "metadata": {},
   "outputs": [
    {
     "data": {
      "text/plain": [
       "15"
      ]
     },
     "execution_count": 33,
     "metadata": {},
     "output_type": "execute_result"
    }
   ],
   "source": [
    "def sum_n(n):\n",
    "    return (n*(n+1))//2\n",
    "\n",
    "sum_n(5)"
   ]
  }
 ],
 "metadata": {
  "kernelspec": {
   "display_name": "Python 3 (ipykernel)",
   "language": "python",
   "name": "python3"
  },
  "language_info": {
   "codemirror_mode": {
    "name": "ipython",
    "version": 3
   },
   "file_extension": ".py",
   "mimetype": "text/x-python",
   "name": "python",
   "nbconvert_exporter": "python",
   "pygments_lexer": "ipython3",
   "version": "3.9.7"
  }
 },
 "nbformat": 4,
 "nbformat_minor": 5
}
