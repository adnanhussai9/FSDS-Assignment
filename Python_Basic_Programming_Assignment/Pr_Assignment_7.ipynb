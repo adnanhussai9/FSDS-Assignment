{
  "nbformat": 4,
  "nbformat_minor": 0,
  "metadata": {
    "colab": {
      "private_outputs": true,
      "provenance": [],
      "authorship_tag": "ABX9TyOyAfu3lHVD79SzMEPcIrfW",
      "include_colab_link": true
    },
    "kernelspec": {
      "name": "python3",
      "display_name": "Python 3"
    },
    "language_info": {
      "name": "python"
    }
  },
  "cells": [
    {
      "cell_type": "markdown",
      "metadata": {
        "id": "view-in-github",
        "colab_type": "text"
      },
      "source": [
        "<a href=\"https://colab.research.google.com/github/adnanhussai9/FSDS-Assignment/blob/main/Python_Basic_Programming_Assignment/Pr_Assignment_7.ipynb\" target=\"_parent\"><img src=\"https://colab.research.google.com/assets/colab-badge.svg\" alt=\"Open In Colab\"/></a>"
      ]
    },
    {
      "cell_type": "markdown",
      "source": [
        "# Programming Assignment 7"
      ],
      "metadata": {
        "id": "zI6cMkv40cSt"
      }
    },
    {
      "cell_type": "markdown",
      "source": [
        "1. Write a Python Program to find sum of Array ?"
      ],
      "metadata": {
        "id": "UBI8hPgR0jzC"
      }
    },
    {
      "cell_type": "code",
      "execution_count": null,
      "metadata": {
        "id": "1kLwuxGt0YBT"
      },
      "outputs": [],
      "source": [
        "def sumArray(arr):\n",
        "  sum = 0\n",
        "  for i in arr:\n",
        "    sum += i\n",
        "  print(sum)\n",
        "\n",
        "sumArray([3,5,6,3,6,3])"
      ]
    },
    {
      "cell_type": "markdown",
      "source": [
        "2. Write a Python Program to find Largest element in an Array ?"
      ],
      "metadata": {
        "id": "QysPVUbH070m"
      }
    },
    {
      "cell_type": "code",
      "source": [
        "def maxArray(arr):\n",
        "  maxi = -99999999999999\n",
        "  for i in arr:\n",
        "    maxi = max(i, maxi)\n",
        "  print(maxi)\n",
        "\n",
        "maxArray([1,4,5,3,2,9])"
      ],
      "metadata": {
        "id": "HGQcNGXm0-Xu"
      },
      "execution_count": null,
      "outputs": []
    },
    {
      "cell_type": "markdown",
      "source": [
        "3. Write a Python Program for array rotation ?"
      ],
      "metadata": {
        "id": "-ophOhV81u8o"
      }
    },
    {
      "cell_type": "code",
      "source": [
        "def rotateArr(arr):\n",
        "  rev_arr = []\n",
        "  for i in range(len(arr)-1,-1,-1):\n",
        "    rev_arr.append(arr[i])\n",
        "  print(rev_arr)\n",
        "\n",
        "rotateArr([8,9,6,4,0])"
      ],
      "metadata": {
        "id": "VMyd21sM1yLQ"
      },
      "execution_count": null,
      "outputs": []
    },
    {
      "cell_type": "markdown",
      "source": [
        "4. Write a Python Program to Split the array and add the first part to the end ?"
      ],
      "metadata": {
        "id": "O9Ses0CI3EFE"
      }
    },
    {
      "cell_type": "code",
      "source": [
        "def sumOfSplits():\n",
        "    in_arr = eval(input(\"Enter the Array: \"))\n",
        "    print(f\"The Sum of First and Last Elements of Array {in_arr} is {in_arr[0]+in_arr[-1]}\")\n",
        "\n",
        "sumOfSplits()"
      ],
      "metadata": {
        "id": "s5f-cbT03HUN"
      },
      "execution_count": null,
      "outputs": []
    },
    {
      "cell_type": "markdown",
      "source": [
        "5. Write a Python Program to check if given array is Monotonic ?"
      ],
      "metadata": {
        "id": "YAfbzWfQ3Gfl"
      }
    },
    {
      "cell_type": "code",
      "source": [
        "def isMonotonic(arr):\n",
        "  if all(arr[i] <= arr[i+1] for i in range(len(arr)-1)) or all(arr[i] >= arr[i+1] for i in range(len(arr)-1)):\n",
        "    print('Monotonic')\n",
        "  else:\n",
        "    print('Not Monotonic')\n",
        "\n",
        "isMonotonic([1,3,5,6,7])\n",
        "isMonotonic([2,1,4])"
      ],
      "metadata": {
        "id": "dXAgilK634zY"
      },
      "execution_count": null,
      "outputs": []
    }
  ]
}