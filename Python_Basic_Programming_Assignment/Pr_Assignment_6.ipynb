{
  "nbformat": 4,
  "nbformat_minor": 0,
  "metadata": {
    "colab": {
      "private_outputs": true,
      "provenance": [],
      "authorship_tag": "ABX9TyOJxvNoQlcHrOZEVBLjrqAF",
      "include_colab_link": true
    },
    "kernelspec": {
      "name": "python3",
      "display_name": "Python 3"
    },
    "language_info": {
      "name": "python"
    }
  },
  "cells": [
    {
      "cell_type": "markdown",
      "metadata": {
        "id": "view-in-github",
        "colab_type": "text"
      },
      "source": [
        "<a href=\"https://colab.research.google.com/github/adnanhussai9/FSDS-Assignment/blob/main/Python_Basic_Programming_Assignment/Pr_Assignment_6.ipynb\" target=\"_parent\"><img src=\"https://colab.research.google.com/assets/colab-badge.svg\" alt=\"Open In Colab\"/></a>"
      ]
    },
    {
      "cell_type": "markdown",
      "source": [
        "# Programming Assignment 6"
      ],
      "metadata": {
        "id": "zhGVNGpOTiGt"
      }
    },
    {
      "cell_type": "markdown",
      "source": [
        "1. Write a Python Program to Display Fibonacci Sequence Using Recursion?"
      ],
      "metadata": {
        "id": "niQ2LYQBTnHu"
      }
    },
    {
      "cell_type": "code",
      "execution_count": null,
      "metadata": {
        "id": "jEJshSOuTBJw"
      },
      "outputs": [],
      "source": [
        "def fib(n,a,b):\n",
        "  if n==0:\n",
        "    return 1\n",
        "  result = a+b\n",
        "  print(result, end=' ')\n",
        "  fib(n-1, b, result)\n",
        "print(0, 1, end=' ')\n",
        "\n",
        "fib(7, 0, 1)"
      ]
    },
    {
      "cell_type": "markdown",
      "source": [
        "2. Write a Python Program to Find Factorial of a Number using Recursion ?"
      ],
      "metadata": {
        "id": "PwoCr83Wv4aE"
      }
    },
    {
      "cell_type": "code",
      "source": [
        "def fact(num):\n",
        "  if num < 1:\n",
        "    return 1\n",
        "  else:\n",
        "    return num*fact(num-1)\n",
        "\n",
        "fact(5)"
      ],
      "metadata": {
        "id": "aArxe8xDv7Ac"
      },
      "execution_count": null,
      "outputs": []
    },
    {
      "cell_type": "markdown",
      "source": [
        "3. Write a Python Program to Calculate your Body Mass Index ?"
      ],
      "metadata": {
        "id": "C3KTdSq7wiqh"
      }
    },
    {
      "cell_type": "code",
      "source": [
        "def bmi(weight, height):\n",
        "  bmi_ = weight / pow(height, 2)\n",
        "  if bmi_ < 18.5:\n",
        "    status = 'Underweight'\n",
        "  elif bmi_ >= 18.5 and bmi_ < 24.9:\n",
        "    status = 'Healthy'\n",
        "  elif bmi_ >= 24.9 and bmi_ < 30:\n",
        "    status = 'Overweight'\n",
        "  elif bmi >= 30:\n",
        "    status = 'Obesity'\n",
        "  print(status)\n",
        "\n",
        "bmi(65, 1.76)\n"
      ],
      "metadata": {
        "id": "20lwV9aHwnLD"
      },
      "execution_count": null,
      "outputs": []
    },
    {
      "cell_type": "markdown",
      "source": [
        "4. Write a Python Program to Calculate the Natural Logarithm of any Number ?"
      ],
      "metadata": {
        "id": "tM4Ktw8-yk3K"
      }
    },
    {
      "cell_type": "code",
      "source": [
        "import math\n",
        "def naturalLog():\n",
        "    num = eval(input(\"Enter a Number:\"))\n",
        "    print(math.log(num))\n",
        "\n",
        "naturalLog()"
      ],
      "metadata": {
        "id": "bOSYd_AqyafM"
      },
      "execution_count": null,
      "outputs": []
    },
    {
      "cell_type": "markdown",
      "source": [
        "5. Write a Python Program for Cube sum of first n Natural Numbers ?"
      ],
      "metadata": {
        "id": "ikdozMKDy2TE"
      }
    },
    {
      "cell_type": "code",
      "source": [
        "def cubeOfNaturalNumbers():\n",
        "    num = int(input(\"Enter the no of Natural Numbers: \"))\n",
        "    result = pow(((num * (num +1))/2),2)\n",
        "    print(f'The Cube Sum of First {num} Natural Numbers is {result}')\n",
        "\n",
        "cubeOfNaturalNumbers()"
      ],
      "metadata": {
        "id": "Au-mYQ6iy4SY"
      },
      "execution_count": null,
      "outputs": []
    }
  ]
}