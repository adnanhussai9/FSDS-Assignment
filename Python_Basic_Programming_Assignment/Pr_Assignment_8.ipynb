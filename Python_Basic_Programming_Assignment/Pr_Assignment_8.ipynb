{
  "nbformat": 4,
  "nbformat_minor": 0,
  "metadata": {
    "colab": {
      "provenance": [],
      "authorship_tag": "ABX9TyPvwR0cQEsqcMfvqNzxXnuh",
      "include_colab_link": true
    },
    "kernelspec": {
      "name": "python3",
      "display_name": "Python 3"
    },
    "language_info": {
      "name": "python"
    }
  },
  "cells": [
    {
      "cell_type": "markdown",
      "metadata": {
        "id": "view-in-github",
        "colab_type": "text"
      },
      "source": [
        "<a href=\"https://colab.research.google.com/github/adnanhussai9/FSDS-Assignment/blob/main/Python_Basic_Programming_Assignment/Pr_Assignment_8.ipynb\" target=\"_parent\"><img src=\"https://colab.research.google.com/assets/colab-badge.svg\" alt=\"Open In Colab\"/></a>"
      ]
    },
    {
      "cell_type": "markdown",
      "source": [
        "# Programming Assignment 8"
      ],
      "metadata": {
        "id": "_mSp45pc6iLo"
      }
    },
    {
      "cell_type": "markdown",
      "source": [
        "1. Write a Python Program to Add two Matrices ?"
      ],
      "metadata": {
        "id": "mI7yNcdI6oN4"
      }
    },
    {
      "cell_type": "code",
      "execution_count": 3,
      "metadata": {
        "colab": {
          "base_uri": "https://localhost:8080/"
        },
        "id": "gnXSK10x6cRC",
        "outputId": "ae199cd0-9fdd-4432-dc0b-606acc37a383"
      },
      "outputs": [
        {
          "output_type": "stream",
          "name": "stdout",
          "text": [
            "[[10 10 10]\n",
            " [10 10 10]\n",
            " [10 10 10]]\n"
          ]
        }
      ],
      "source": [
        "import numpy as np\n",
        "def addMatrices(arr1, arr2):\n",
        "  array1 = np.array(arr1)\n",
        "  array2 = np.array(arr2)\n",
        "  print(array1 + array2)\n",
        "\n",
        "addMatrices([[1, 2, 3], [4, 5, 6], [7, 8, 9]],[[9, 8, 7], [6, 5, 4], [3, 2, 1]])"
      ]
    },
    {
      "cell_type": "markdown",
      "source": [
        "2. Write a Python Program to Multiply two Matrices ?"
      ],
      "metadata": {
        "id": "td69p6b7AwsA"
      }
    },
    {
      "cell_type": "code",
      "source": [
        "import numpy as np\n",
        "def mulMatrices(arr1, arr2):\n",
        "  array1 = np.array(arr1)\n",
        "  array2 = np.array(arr2)\n",
        "  print(np.matmul(array1, array2))\n",
        "\n",
        "a = [[1,2,3],[4,5,6],[7,8,9]]\n",
        "b = [[1,4,7],[2,5,8],[3,6,9]]\n",
        "mulMatrices(a, b)"
      ],
      "metadata": {
        "colab": {
          "base_uri": "https://localhost:8080/"
        },
        "id": "hJU6LRQ6A0Wn",
        "outputId": "f68dc324-a257-4869-faf1-5385160d698e"
      },
      "execution_count": 5,
      "outputs": [
        {
          "output_type": "stream",
          "name": "stdout",
          "text": [
            "[[ 14  32  50]\n",
            " [ 32  77 122]\n",
            " [ 50 122 194]]\n"
          ]
        }
      ]
    },
    {
      "cell_type": "markdown",
      "source": [
        "3. Write a Python Program to transpose a Matrix ?"
      ],
      "metadata": {
        "id": "0LqcWafxCN6n"
      }
    },
    {
      "cell_type": "code",
      "source": [
        "import numpy as np\n",
        "def transMatrices(arr):\n",
        "  array = np.array(arr)\n",
        "  print(np.transpose(array))\n",
        "\n",
        "a = [[1,2,3],[4,5,6],[7,8,9]]\n",
        "transMatrices(a)"
      ],
      "metadata": {
        "colab": {
          "base_uri": "https://localhost:8080/"
        },
        "id": "1cY9tEHXCRxL",
        "outputId": "d356dc63-3274-4460-c742-77e8cde0a503"
      },
      "execution_count": 6,
      "outputs": [
        {
          "output_type": "stream",
          "name": "stdout",
          "text": [
            "[[1 4 7]\n",
            " [2 5 8]\n",
            " [3 6 9]]\n"
          ]
        }
      ]
    },
    {
      "cell_type": "markdown",
      "source": [
        "4. Write a Python Program to sort Words in an Alphabatical Order ?"
      ],
      "metadata": {
        "id": "PB7ciJPjEHcB"
      }
    },
    {
      "cell_type": "code",
      "source": [
        "def sortString():\n",
        "    in_string = input(\"Enter a String: \").title()\n",
        "    sorted_list = sorted(in_string.split(' '))\n",
        "    print(' '.join(sorted_list))\n",
        "\n",
        "sortString()"
      ],
      "metadata": {
        "colab": {
          "base_uri": "https://localhost:8080/"
        },
        "id": "txo_bCggEKcQ",
        "outputId": "22b82df0-0b8a-441d-98b8-fefe6fdff27a"
      },
      "execution_count": 7,
      "outputs": [
        {
          "output_type": "stream",
          "name": "stdout",
          "text": [
            "Enter a String: Syed Adnan Hussain\n",
            "Adnan Hussain Syed\n"
          ]
        }
      ]
    },
    {
      "cell_type": "markdown",
      "source": [
        "5. Write a Python Program to remove Punctuations From a String ?"
      ],
      "metadata": {
        "id": "AF7YJ3bOEdYH"
      }
    },
    {
      "cell_type": "code",
      "source": [
        "def removePunctuatuions():\n",
        "    punctuations = '''!()-[]{};:'\"\\,<>./?@#$%^&*_~'''\n",
        "    in_string = input('Enter a String: ')\n",
        "    out_string = ''\n",
        "    for ele in in_string:\n",
        "        if ele not in punctuations:\n",
        "            out_string += ele\n",
        "    print(out_string)\n",
        "\n",
        "removePunctuatuions()"
      ],
      "metadata": {
        "colab": {
          "base_uri": "https://localhost:8080/"
        },
        "id": "rsnN1h9-Ejvn",
        "outputId": "b7de737e-1288-46a5-97f6-a62185e3dc1d"
      },
      "execution_count": 8,
      "outputs": [
        {
          "output_type": "stream",
          "name": "stdout",
          "text": [
            "Enter a String: I said, \"Good Morning!\"\n",
            "I said Good Morning\n"
          ]
        }
      ]
    }
  ]
}