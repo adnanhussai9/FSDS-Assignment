{
 "cells": [
  {
   "cell_type": "raw",
   "id": "29189e36",
   "metadata": {},
   "source": [
    "1.\n",
    "* -->expression\n",
    "'hello' --> value\n",
    "-87.8 --> value\n",
    "- --> expression\n",
    "/ --> expression\n",
    "+--> expression\n",
    "6 --> value"
   ]
  },
  {
   "cell_type": "raw",
   "id": "25f51d21",
   "metadata": {},
   "source": [
    "2.\n",
    "String is a data type which defines quality and size of data.\n",
    "Variable is like a container in which different types of data are kept.\n",
    "Example:\n",
    ">>my_name=\"adnan\"\n",
    "In this, `my_name` is the variable name and the data type of this variable is `String` which we can get by `type(my_name)` in Python. "
   ]
  },
  {
   "cell_type": "raw",
   "id": "cd4e1a68",
   "metadata": {},
   "source": [
    "3.\n",
    "1. Integer: Using this data type we can store numbers excluding decimal and imaginary numbers. Eg: a=152\n",
    "2. Complex: Using this data type we can store imaginary numbers. Eg: a= 3+4j\n",
    "3. Boolean: Using this data type we can store only two values True and False. Eg: character_is_beauty=True"
   ]
  },
  {
   "cell_type": "raw",
   "id": "44dd267f",
   "metadata": {},
   "source": [
    "4.\n",
    "Expression is made up of minimum two variables or numbers with one mathematical operator in between.\n",
    "Eg: a= 2+c\n",
    "Expression evaluate the operands based on operator and returns a result."
   ]
  },
  {
   "cell_type": "raw",
   "id": "ef153e49",
   "metadata": {},
   "source": [
    "5.\n",
    "Expression tends to return an evaluated value while a statement is printed as it is using print statement."
   ]
  },
  {
   "cell_type": "code",
   "execution_count": 3,
   "id": "2cbab774",
   "metadata": {},
   "outputs": [
    {
     "data": {
      "text/plain": [
       "22"
      ]
     },
     "execution_count": 3,
     "metadata": {},
     "output_type": "execute_result"
    }
   ],
   "source": [
    "#6.\n",
    "\n",
    "bacon=22\n",
    "bacon+1\n",
    "bacon # it contains 22 beacause assingment is not done here. "
   ]
  },
  {
   "cell_type": "raw",
   "id": "99a4743d",
   "metadata": {},
   "source": [
    "7.\n",
    "\"spamspamspam\"\n",
    "\"spamspamspam\"\n",
    "same for both"
   ]
  },
  {
   "cell_type": "raw",
   "id": "e81990cd",
   "metadata": {},
   "source": [
    "8.\n",
    "eggs is a valid and 100 is invalid variable name because in naming convention, variable name can only begin with a letter,the dollar sign -\"$\" or the underscore character- \"_\""
   ]
  },
  {
   "cell_type": "raw",
   "id": "47fcec8f",
   "metadata": {},
   "source": [
    "9.\n",
    "For integer: int(),\n",
    "For float: float(), \n",
    "For string: str()"
   ]
  },
  {
   "cell_type": "raw",
   "id": "88dbf7fd",
   "metadata": {},
   "source": [
    "10.\n",
    "'I have eaten'+99+'burritos.'\n",
    "It became an expression in which we are trying to add string with a number.\n",
    "If we want to print the same then we can either keep 99 in quotes as: 'I have eaten'+'99'+'burritos.' or keep it all in double or triple (single or double) quotes but in this + sign also will be stored. \"'I have eaten'+99+'burritos.'\""
   ]
  }
 ],
 "metadata": {
  "kernelspec": {
   "display_name": "Python 3 (ipykernel)",
   "language": "python",
   "name": "python3"
  },
  "language_info": {
   "codemirror_mode": {
    "name": "ipython",
    "version": 3
   },
   "file_extension": ".py",
   "mimetype": "text/x-python",
   "name": "python",
   "nbconvert_exporter": "python",
   "pygments_lexer": "ipython3",
   "version": "3.9.7"
  }
 },
 "nbformat": 4,
 "nbformat_minor": 5
}
