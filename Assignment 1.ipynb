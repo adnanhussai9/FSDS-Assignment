{
 "cells": [
  {
   "cell_type": "markdown",
   "id": "78bd19ec",
   "metadata": {},
   "source": [
    "1.<br>\n",
    "*-->expression <br>\n",
    "'hello' --> value <br>\n",
    "-87.8 --> value <br>\n",
    "---> expression  <br>\n",
    "/ --> expression <br>\n",
    "+--> expression <br>\n",
    "6 --> value <br>"
   ]
  },
  {
   "cell_type": "markdown",
   "id": "d1629c8d",
   "metadata": {},
   "source": [
    "2.<br>\n",
    "String is a data type which defines quality and size of data. <br>\n",
    "Variable is like a container in which different types of data are kept.<br>\n",
    "Example:<br>\n",
    ">>my_name=\"adnan\"\n",
    "In this, `my_name` is the variable name and the data type of this variable is `String` which we can get by `type(my_name)` in Python. "
   ]
  },
  {
   "cell_type": "markdown",
   "id": "46e51c32",
   "metadata": {},
   "source": [
    "3.<br>\n",
    "i. Integer: Using this data type we can store numbers excluding decimal and imaginary numbers. Eg: a=152 <br>\n",
    "ii. Complex: Using this data type we can store imaginary numbers. Eg: a= 3+4j<br>\n",
    "iii. Boolean: Using this data type we can store only two values True and False. Eg: character_is_beauty=True <br>"
   ]
  },
  {
   "cell_type": "markdown",
   "id": "247023e3",
   "metadata": {},
   "source": [
    "4.<br>\n",
    "Expression is made up of minimum two variables or numbers with one mathematical operator in between.\n",
    "Eg: a= 2+c<br>\n",
    "Expression evaluate the operands based on operator and returns a result."
   ]
  },
  {
   "cell_type": "markdown",
   "id": "e3a047a5",
   "metadata": {},
   "source": [
    "5.<br>\n",
    "Expression tends to return an evaluated value while a statement is printed as it is using print statement."
   ]
  },
  {
   "cell_type": "code",
   "execution_count": 4,
   "id": "df3ba43c",
   "metadata": {},
   "outputs": [
    {
     "data": {
      "text/plain": [
       "22"
      ]
     },
     "execution_count": 4,
     "metadata": {},
     "output_type": "execute_result"
    }
   ],
   "source": [
    "#6.\n",
    "\n",
    "bacon=22\n",
    "bacon+1\n",
    "bacon # it contains 22 beacause assingment is not done here. "
   ]
  },
  {
   "cell_type": "markdown",
   "id": "66d2e258",
   "metadata": {},
   "source": [
    "7.<br>\n",
    "\"spamspamspam\"<br>\n",
    "\"spamspamspam\"<br>\n",
    "same for both"
   ]
  },
  {
   "cell_type": "markdown",
   "id": "231c39b4",
   "metadata": {},
   "source": [
    "8.<br>\n",
    "eggs is a valid and 100 is invalid variable name because in naming convention, variable name can only begin with a letter,the dollar sign -\"$\" or the underscore character- \"_\""
   ]
  },
  {
   "cell_type": "markdown",
   "id": "0a52e0ee",
   "metadata": {},
   "source": [
    "9.<br>\n",
    "For integer: int(),<br>\n",
    "For float: float(), <br>\n",
    "For string: str()"
   ]
  },
  {
   "cell_type": "markdown",
   "id": "7129da27",
   "metadata": {},
   "source": [
    "10.<br>\n",
    "'I have eaten'+99+'burritos.'<br>\n",
    "<br>\n",
    "It became an expression in which we are trying to add string with a number.<br>\n",
    "If we want to print the same then we can either keep 99 in quotes as: 'I have eaten'+'99'+'burritos.' or keep it all in double or triple (single or double) quotes but in this + sign also will be stored. \"'I have eaten'+99+'burritos.'\""
   ]
  }
 ],
 "metadata": {
  "kernelspec": {
   "display_name": "Python 3 (ipykernel)",
   "language": "python",
   "name": "python3"
  },
  "language_info": {
   "codemirror_mode": {
    "name": "ipython",
    "version": 3
   },
   "file_extension": ".py",
   "mimetype": "text/x-python",
   "name": "python",
   "nbconvert_exporter": "python",
   "pygments_lexer": "ipython3",
   "version": "3.9.7"
  }
 },
 "nbformat": 4,
 "nbformat_minor": 5
}
